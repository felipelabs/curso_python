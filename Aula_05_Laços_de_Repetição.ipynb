{
  "nbformat": 4,
  "nbformat_minor": 0,
  "metadata": {
    "colab": {
      "name": "Aula 05 - Laços de Repetição.ipynb",
      "provenance": [],
      "collapsed_sections": [],
      "authorship_tag": "ABX9TyMQfinxFsVgYgZ4GlJQRenL",
      "include_colab_link": true
    },
    "kernelspec": {
      "name": "python3",
      "display_name": "Python 3"
    }
  },
  "cells": [
    {
      "cell_type": "markdown",
      "metadata": {
        "id": "view-in-github",
        "colab_type": "text"
      },
      "source": [
        "<a href=\"https://colab.research.google.com/github/felipelabs/curso_python/blob/master/Aula_05_La%C3%A7os_de_Repeti%C3%A7%C3%A3o.ipynb\" target=\"_parent\"><img src=\"https://colab.research.google.com/assets/colab-badge.svg\" alt=\"Open In Colab\"/></a>"
      ]
    },
    {
      "cell_type": "markdown",
      "metadata": {
        "id": "oQX9RlzTTVru",
        "colab_type": "text"
      },
      "source": [
        "# Laços de repetição\n",
        "## Necesidade\n",
        "Precisamos interagir com varios elementos de uma lista ou com dados de tamanho dinâmico."
      ]
    },
    {
      "cell_type": "markdown",
      "metadata": {
        "id": "QJZFAhMcUT3o",
        "colab_type": "text"
      },
      "source": [
        "Exemplo:\n",
        "\n",
        "Em vez de fazer igual abaixo, um caso para cada quantidade de dados, nós podemos uma só vez para qualquer quantidade."
      ]
    },
    {
      "cell_type": "code",
      "metadata": {
        "id": "ZfaH-2umJn6f",
        "colab_type": "code",
        "colab": {
          "base_uri": "https://localhost:8080/",
          "height": 68
        },
        "outputId": "e1b0ff38-d34f-4d62-e4d3-ea578d64c7bc"
      },
      "source": [
        "# Lista de todos os alunos\n",
        "\n",
        "alunos = ['felipe', 'marcos', 'abraão']\n",
        "\n",
        "if (len(alunos) == 0):\n",
        "  print(\"Nenhum aluno\")\n",
        "elif (len(alunos) == 1):\n",
        "  print(alunos[0])\n",
        "elif (len(alunos) == 2):\n",
        "  print(alunos[0])\n",
        "  print(alunos[1])\n",
        "elif (len(alunos) == 3):\n",
        "  print(alunos[0])\n",
        "  print(alunos[1])\n",
        "  print(alunos[2])"
      ],
      "execution_count": null,
      "outputs": [
        {
          "output_type": "stream",
          "text": [
            "felipe\n",
            "marcos\n",
            "abraão\n"
          ],
          "name": "stdout"
        }
      ]
    },
    {
      "cell_type": "markdown",
      "metadata": {
        "id": "B-GVPo3NV7fa",
        "colab_type": "text"
      },
      "source": [
        "## Para laços de repetição podemos utilizar o comando FOR \n",
        "### Ele é utilizado da seguinte maneira: For 'iterando' in Lista "
      ]
    },
    {
      "cell_type": "code",
      "metadata": {
        "id": "qVhkzfChVoA0",
        "colab_type": "code",
        "colab": {
          "base_uri": "https://localhost:8080/",
          "height": 68
        },
        "outputId": "3bae30bf-e694-4176-b672-b5d868e36b6b"
      },
      "source": [
        "# Lista de todos os alunos\n",
        "\n",
        "alunos = ['felipe', 'marcos', 'abraão']\n",
        "\n",
        "# Para todos os alunos --> vou printar o nome\n",
        "\n",
        "for aluno in alunos:\n",
        "  print(aluno)"
      ],
      "execution_count": null,
      "outputs": [
        {
          "output_type": "stream",
          "text": [
            "felipe\n",
            "marcos\n",
            "abraão\n"
          ],
          "name": "stdout"
        }
      ]
    },
    {
      "cell_type": "markdown",
      "metadata": {
        "id": "gF2O5R68XcmI",
        "colab_type": "text"
      },
      "source": [
        "## Desafio 5.1\n",
        "\n",
        "Cria uma lista de notas e adicionar 5 e 10 notas a seu criterio.\n",
        "\n",
        "Pro fim, printar todas as notas desta lista através de um laço for"
      ]
    },
    {
      "cell_type": "code",
      "metadata": {
        "id": "JnWyXi9vXq_e",
        "colab_type": "code",
        "colab": {
          "base_uri": "https://localhost:8080/",
          "height": 187
        },
        "outputId": "ccd26740-dc6c-49e2-a1ef-5a75dd805299"
      },
      "source": [
        "lista = [10, 9, 8.5, 5, 3, 8, 9.7, 9.2, 2, 4.5]\n",
        "\n",
        "for notas in lista:\n",
        "  print(notas)"
      ],
      "execution_count": null,
      "outputs": [
        {
          "output_type": "stream",
          "text": [
            "10\n",
            "9\n",
            "8.5\n",
            "5\n",
            "3\n",
            "8\n",
            "9.7\n",
            "9.2\n",
            "2\n",
            "4.5\n"
          ],
          "name": "stdout"
        }
      ]
    },
    {
      "cell_type": "markdown",
      "metadata": {
        "id": "-mk6e3_JZRNi",
        "colab_type": "text"
      },
      "source": [
        "**Para utilizarmos um intervalo no for (ou seja de x até y) podemos usar a função range.** \n",
        "\n",
        "Com a função range() nós podemos fazer o bloco quantas vezes definirmos."
      ]
    },
    {
      "cell_type": "code",
      "metadata": {
        "id": "aTI3Ln8EZCdD",
        "colab_type": "code",
        "colab": {
          "base_uri": "https://localhost:8080/",
          "height": 221
        },
        "outputId": "1db7fe22-423f-461d-df99-9c9dd07e05b8"
      },
      "source": [
        "notas = []\n",
        "\n",
        "for i in range(11):\n",
        "  notas.append(i)\n",
        "print(notas)\n",
        "\n",
        "for nota in notas:\n",
        "  print(nota)"
      ],
      "execution_count": null,
      "outputs": [
        {
          "output_type": "stream",
          "text": [
            "[0, 1, 2, 3, 4, 5, 6, 7, 8, 9, 10]\n",
            "0\n",
            "1\n",
            "2\n",
            "3\n",
            "4\n",
            "5\n",
            "6\n",
            "7\n",
            "8\n",
            "9\n",
            "10\n"
          ],
          "name": "stdout"
        }
      ]
    },
    {
      "cell_type": "markdown",
      "metadata": {
        "id": "SfFJNMaigMlW",
        "colab_type": "text"
      },
      "source": [
        "**Assim como podemos ter listas dentro de listas, podemos ter for dentro de for.**\n",
        "\n",
        "Na computação chamamos isso de for aninhado."
      ]
    },
    {
      "cell_type": "code",
      "metadata": {
        "id": "eq1u0qIhgcQ2",
        "colab_type": "code",
        "colab": {
          "base_uri": "https://localhost:8080/",
          "height": 153
        },
        "outputId": "cb22f861-4769-4dda-9111-815736b52221"
      },
      "source": [
        "def main():\n",
        "  # Todos os possiveis alunos\n",
        "  # felipe, alisson, haynes, bylearner\n",
        "\n",
        "  alunos = ['felipe', 'alisson', 'haynes', 'bylearner']\n",
        "\n",
        "  # As notas respectivas dos alunos\n",
        "  # 8 e 10, 10 e 7, 8 e 9, 10 e 10.\n",
        "\n",
        "  notas = [[8,10], [10,7], [9,9], [10,10]]\n",
        "\n",
        "  # media de [primeiro aluno] = [nota do 1°] / 2\n",
        "  # para todos --> media do [atual] = [notas do atual] / 2\n",
        "  if (len(alunos)) == (len(notas)):\n",
        "    for indice in range(len(alunos)):\n",
        "      soma = 0 \n",
        "      for nota in notas[indice]:\n",
        "        soma += nota\n",
        "      media = soma / len(notas[indice])\n",
        "      print(f'O aluno {alunos[indice]} tem á média de {media}')\n",
        "      if media > 6:\n",
        "        print('- Portanto, ele foi aprovado.')\n",
        "      else:\n",
        "        print('- Portanto, ele foi reprovado.')\n",
        "main()"
      ],
      "execution_count": null,
      "outputs": [
        {
          "output_type": "stream",
          "text": [
            "O aluno felipe tem á média de 9.0\n",
            "- Portanto, ele foi aprovado.\n",
            "O aluno alisson tem á média de 8.5\n",
            "- Portanto, ele foi aprovado.\n",
            "O aluno haynes tem á média de 9.0\n",
            "- Portanto, ele foi aprovado.\n",
            "O aluno bylearner tem á média de 10.0\n",
            "- Portanto, ele foi aprovado.\n"
          ],
          "name": "stdout"
        }
      ]
    },
    {
      "cell_type": "markdown",
      "metadata": {
        "id": "FJMpIwZFkG1J",
        "colab_type": "text"
      },
      "source": [
        "Laços de repetição **for** tambem funcionam com string mostrando caracter por caracter."
      ]
    },
    {
      "cell_type": "code",
      "metadata": {
        "id": "0AJk6LmdkHMs",
        "colab_type": "code",
        "colab": {
          "base_uri": "https://localhost:8080/",
          "height": 459
        },
        "outputId": "32d7c54c-7141-4ba0-cf42-9321c08fc970"
      },
      "source": [
        "string = \"Curso de Python da Bylearn\"\n",
        "\n",
        "for char in string:\n",
        "  print(char)"
      ],
      "execution_count": null,
      "outputs": [
        {
          "output_type": "stream",
          "text": [
            "C\n",
            "u\n",
            "r\n",
            "s\n",
            "o\n",
            " \n",
            "d\n",
            "e\n",
            " \n",
            "P\n",
            "y\n",
            "t\n",
            "h\n",
            "o\n",
            "n\n",
            " \n",
            "d\n",
            "a\n",
            " \n",
            "B\n",
            "y\n",
            "l\n",
            "e\n",
            "a\n",
            "r\n",
            "n\n"
          ],
          "name": "stdout"
        }
      ]
    },
    {
      "cell_type": "markdown",
      "metadata": {
        "id": "mHk0Vmewl1e9",
        "colab_type": "text"
      },
      "source": [
        "**1° nós podemos usar o enumarate além do valor poder pegar o indice tbm.**\n",
        "\n",
        "**2° Não precisamos necessariamente usar o for aninhado, podemos usarmos a virgula para definirmos os elementos que queremos recuperar ex:(chave, valor).**"
      ]
    },
    {
      "cell_type": "code",
      "metadata": {
        "id": "FVXOEQaglQkJ",
        "colab_type": "code",
        "colab": {
          "base_uri": "https://localhost:8080/",
          "height": 136
        },
        "outputId": "e412d975-2a46-464e-c302-138b2d4da981"
      },
      "source": [
        "lista = ['B', 'y', 'l', 'e', 'a', 'r', 'n']\n",
        "\n",
        "for chave, valor in enumerate(lista):\n",
        "  print(f'O valor {valor} fica no indice {chave}.')"
      ],
      "execution_count": null,
      "outputs": [
        {
          "output_type": "stream",
          "text": [
            "O valor B fica no indice 0.\n",
            "O valor y fica no indice 1.\n",
            "O valor l fica no indice 2.\n",
            "O valor e fica no indice 3.\n",
            "O valor a fica no indice 4.\n",
            "O valor r fica no indice 5.\n",
            "O valor n fica no indice 6.\n"
          ],
          "name": "stdout"
        }
      ]
    },
    {
      "cell_type": "markdown",
      "metadata": {
        "id": "54rNGPBKT9yZ",
        "colab_type": "text"
      },
      "source": [
        "## Outro laço de repetição e o While\n",
        "\n",
        "Funciona enquanto uma condição for verdadeira fazendo uma determinada ação."
      ]
    },
    {
      "cell_type": "code",
      "metadata": {
        "id": "uRNdrUHrUB_g",
        "colab_type": "code",
        "colab": {
          "base_uri": "https://localhost:8080/",
          "height": 102
        },
        "outputId": "709806c7-f8bf-437b-c677-0f62137e9deb"
      },
      "source": [
        "contador = 1\n",
        "\n",
        "while contador < 6:\n",
        "  contador += 1\n",
        "  print(contador)"
      ],
      "execution_count": null,
      "outputs": [
        {
          "output_type": "stream",
          "text": [
            "2\n",
            "3\n",
            "4\n",
            "5\n",
            "6\n"
          ],
          "name": "stdout"
        }
      ]
    },
    {
      "cell_type": "code",
      "metadata": {
        "id": "TlSEDnmWV6ok",
        "colab_type": "code",
        "colab": {
          "base_uri": "https://localhost:8080/",
          "height": 510
        },
        "outputId": "68dc2f84-6042-4c34-b041-fbae6c19278f"
      },
      "source": [
        "condicao_de_parada = '0'\n",
        "\n",
        "while condicao_de_parada != '9':\n",
        "  condicao_de_parada = input('Digite um numero:')\n",
        "  for i in range(int(condicao_de_parada)+1):\n",
        "    print(i)"
      ],
      "execution_count": null,
      "outputs": [
        {
          "output_type": "stream",
          "text": [
            "Digite um numero:3\n",
            "0\n",
            "1\n",
            "2\n",
            "3\n",
            "Digite um numero:2\n",
            "0\n",
            "1\n",
            "2\n",
            "Digite um numero:7\n",
            "0\n",
            "1\n",
            "2\n",
            "3\n",
            "4\n",
            "5\n",
            "6\n",
            "7\n",
            "Digite um numero:9\n",
            "0\n",
            "1\n",
            "2\n",
            "3\n",
            "4\n",
            "5\n",
            "6\n",
            "7\n",
            "8\n",
            "9\n"
          ],
          "name": "stdout"
        }
      ]
    },
    {
      "cell_type": "markdown",
      "metadata": {
        "id": "8t4DHZV3Vruc",
        "colab_type": "text"
      },
      "source": [
        "**Lembrete**: Não dá para iterar com um inteiro, precisa ser um intervalo(algo iteravel)."
      ]
    },
    {
      "cell_type": "markdown",
      "metadata": {
        "id": "4ZtNUO3EWydH",
        "colab_type": "text"
      },
      "source": [
        "## Utilizando Continue e break\n",
        "**Continue**: continuar em português --> eu continuo minha operação de loop.\n",
        "**Break**: Quebra em português --> quebrar minha operação de loop ou seja interromper."
      ]
    },
    {
      "cell_type": "code",
      "metadata": {
        "id": "U0Khhcm_XEJ7",
        "colab_type": "code",
        "colab": {
          "base_uri": "https://localhost:8080/",
          "height": 68
        },
        "outputId": "054b3a0f-6b47-46e9-a964-8d5c789ae0f3"
      },
      "source": [
        "i = 0\n",
        "\n",
        "while i < 5:\n",
        "  i += 1\n",
        "  if i == 4:\n",
        "    break\n",
        "  print(i)"
      ],
      "execution_count": null,
      "outputs": [
        {
          "output_type": "stream",
          "text": [
            "1\n",
            "2\n",
            "3\n"
          ],
          "name": "stdout"
        }
      ]
    },
    {
      "cell_type": "code",
      "metadata": {
        "id": "CVB9IDXbXxLZ",
        "colab_type": "code",
        "colab": {
          "base_uri": "https://localhost:8080/",
          "height": 255
        },
        "outputId": "eb5ef8b0-bf51-4f22-8c3e-bf02dd00c532"
      },
      "source": [
        "for i in range(0,15):\n",
        "  print(i)\n",
        "  if i == 13:\n",
        "    break"
      ],
      "execution_count": null,
      "outputs": [
        {
          "output_type": "stream",
          "text": [
            "0\n",
            "1\n",
            "2\n",
            "3\n",
            "4\n",
            "5\n",
            "6\n",
            "7\n",
            "8\n",
            "9\n",
            "10\n",
            "11\n",
            "12\n",
            "13\n"
          ],
          "name": "stdout"
        }
      ]
    },
    {
      "cell_type": "code",
      "metadata": {
        "id": "szr2RsROY64b",
        "colab_type": "code",
        "colab": {
          "base_uri": "https://localhost:8080/",
          "height": 85
        },
        "outputId": "a40a3762-3463-4cc7-86be-20db42e460c6"
      },
      "source": [
        "i = 0\n",
        "\n",
        "while i < 5:\n",
        "  i += 1\n",
        "  if i == 4:\n",
        "    continue\n",
        "  print(i)"
      ],
      "execution_count": null,
      "outputs": [
        {
          "output_type": "stream",
          "text": [
            "1\n",
            "2\n",
            "3\n",
            "5\n"
          ],
          "name": "stdout"
        }
      ]
    },
    {
      "cell_type": "code",
      "metadata": {
        "id": "uJ7Qryq3ZAOy",
        "colab_type": "code",
        "colab": {
          "base_uri": "https://localhost:8080/",
          "height": 510
        },
        "outputId": "67f94c81-24b8-477f-9479-62ce64964797"
      },
      "source": [
        "for i in range(0,15):\n",
        "  print(i)\n",
        "  if i == 13:\n",
        "    continue\n",
        "  print(i)"
      ],
      "execution_count": null,
      "outputs": [
        {
          "output_type": "stream",
          "text": [
            "0\n",
            "0\n",
            "1\n",
            "1\n",
            "2\n",
            "2\n",
            "3\n",
            "3\n",
            "4\n",
            "4\n",
            "5\n",
            "5\n",
            "6\n",
            "6\n",
            "7\n",
            "7\n",
            "8\n",
            "8\n",
            "9\n",
            "9\n",
            "10\n",
            "10\n",
            "11\n",
            "11\n",
            "12\n",
            "12\n",
            "13\n",
            "14\n",
            "14\n"
          ],
          "name": "stdout"
        }
      ]
    },
    {
      "cell_type": "markdown",
      "metadata": {
        "id": "UyDeL9HYZQck",
        "colab_type": "text"
      },
      "source": [
        "## Desafio do par ou impar\n",
        "\n",
        "Você deve mostrar todos os numero pares e pular os impares.\n",
        "No intervalo de 0 a 20 aonde se chegar no numero 15 nós vamos para a execução."
      ]
    },
    {
      "cell_type": "code",
      "metadata": {
        "id": "VvWMGXFGZaoH",
        "colab_type": "code",
        "colab": {
          "base_uri": "https://localhost:8080/",
          "height": 136
        },
        "outputId": "df48e171-0962-4ebd-8346-9ec7ec0915d7"
      },
      "source": [
        "i = 0\n",
        "\n",
        "while i < 20:\n",
        "  i += 1\n",
        "  if i == 15:\n",
        "      break\n",
        "  if i % 2 == 1:\n",
        "    continue\n",
        "  print(i)\n",
        "    \n",
        "    "
      ],
      "execution_count": null,
      "outputs": [
        {
          "output_type": "stream",
          "text": [
            "2\n",
            "4\n",
            "6\n",
            "8\n",
            "10\n",
            "12\n",
            "14\n"
          ],
          "name": "stdout"
        }
      ]
    },
    {
      "cell_type": "code",
      "metadata": {
        "id": "b75CI9avdIPt",
        "colab_type": "code",
        "colab": {
          "base_uri": "https://localhost:8080/",
          "height": 136
        },
        "outputId": "7ccddf37-27c8-4b0c-8287-e2d52bacf555"
      },
      "source": [
        "for n in range(20):\n",
        "  n += 1\n",
        "  if n == 15:\n",
        "    break\n",
        "  if n % 2 == 1:\n",
        "    continue\n",
        "  print(n)"
      ],
      "execution_count": null,
      "outputs": [
        {
          "output_type": "stream",
          "text": [
            "2\n",
            "4\n",
            "6\n",
            "8\n",
            "10\n",
            "12\n",
            "14\n"
          ],
          "name": "stdout"
        }
      ]
    },
    {
      "cell_type": "markdown",
      "metadata": {
        "id": "Si9jzRxwdign",
        "colab_type": "text"
      },
      "source": [
        "## Extra: Há um Else em laços de repetição"
      ]
    },
    {
      "cell_type": "code",
      "metadata": {
        "id": "wRCReGpDdl0x",
        "colab_type": "code",
        "colab": {
          "base_uri": "https://localhost:8080/",
          "height": 119
        },
        "outputId": "1226efff-a8fa-4fea-ad38-d39cf84d0ffc"
      },
      "source": [
        "for i in range(5):\n",
        "  print(i)\n",
        "else:\n",
        "  print('Após o laço, Após a iteração')"
      ],
      "execution_count": null,
      "outputs": [
        {
          "output_type": "stream",
          "text": [
            "0\n",
            "1\n",
            "2\n",
            "3\n",
            "4\n",
            "Após o laço, Após a iteração\n"
          ],
          "name": "stdout"
        }
      ]
    },
    {
      "cell_type": "code",
      "metadata": {
        "id": "_7s8V7yieMW-",
        "colab_type": "code",
        "colab": {
          "base_uri": "https://localhost:8080/",
          "height": 136
        },
        "outputId": "40638a22-41c2-47f4-9b34-7ae077cc97bf"
      },
      "source": [
        "i = 0 \n",
        "\n",
        "while i < 5:\n",
        "  print(i)\n",
        "  i += 1\n",
        "else:\n",
        "  print('O i é menor que o 5.')\n",
        "  print(i)\n"
      ],
      "execution_count": null,
      "outputs": [
        {
          "output_type": "stream",
          "text": [
            "0\n",
            "1\n",
            "2\n",
            "3\n",
            "4\n",
            "O i é menor que o 5.\n",
            "5\n"
          ],
          "name": "stdout"
        }
      ]
    },
    {
      "cell_type": "markdown",
      "metadata": {
        "id": "Ej1tnV02fzUe",
        "colab_type": "text"
      },
      "source": [
        "## Diferença entre o uso do laço for e o while\n",
        "\n",
        "O laço **For** é geralmente usado quando sabemos o numero de repetições.\n",
        "\n",
        "Já o **while** já e para quando temos uma ideia de condição de parada, mais não sabem quando isso vai acontecer(numero de iterações até isso acontecer)."
      ]
    }
  ]
}