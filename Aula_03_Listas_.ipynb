{
  "nbformat": 4,
  "nbformat_minor": 0,
  "metadata": {
    "colab": {
      "name": "Aula 03 - Listas .ipynb",
      "provenance": [],
      "collapsed_sections": [],
      "authorship_tag": "ABX9TyPTr13j7iFjvKcUEEaGzMjV",
      "include_colab_link": true
    },
    "kernelspec": {
      "name": "python3",
      "display_name": "Python 3"
    }
  },
  "cells": [
    {
      "cell_type": "markdown",
      "metadata": {
        "id": "view-in-github",
        "colab_type": "text"
      },
      "source": [
        "<a href=\"https://colab.research.google.com/github/felipelabs/curso_python/blob/master/Aula_03_Listas_.ipynb\" target=\"_parent\"><img src=\"https://colab.research.google.com/assets/colab-badge.svg\" alt=\"Open In Colab\"/></a>"
      ]
    },
    {
      "cell_type": "markdown",
      "metadata": {
        "id": "b7B9L6zwtut8",
        "colab_type": "text"
      },
      "source": [
        "# Necessidade de se trabalhar com listas "
      ]
    },
    {
      "cell_type": "code",
      "metadata": {
        "id": "xUMNmy0Wk9_2",
        "colab_type": "code",
        "colab": {
          "base_uri": "https://localhost:8080/",
          "height": 34
        },
        "outputId": "2d379101-a5f3-48e8-f4f8-37913f9cb3a2"
      },
      "source": [
        "def main():\n",
        "  num1 = 10\n",
        "  num2 = 11\n",
        "  num3 = 12\n",
        "  num4 = 13\n",
        "  num5 = 14\n",
        "  soma = num1 + num2 + num3 + num4 + num5\n",
        "  print(f'A soma dos numero é {soma}.')\n",
        "\n",
        "main()"
      ],
      "execution_count": null,
      "outputs": [
        {
          "output_type": "stream",
          "text": [
            "A soma dos numero é 60.\n"
          ],
          "name": "stdout"
        }
      ]
    },
    {
      "cell_type": "code",
      "metadata": {
        "id": "_FMd_IZ0ugZk",
        "colab_type": "code",
        "colab": {
          "base_uri": "https://localhost:8080/",
          "height": 34
        },
        "outputId": "8d4f4166-27ff-4974-ca1c-909e4cd767e2"
      },
      "source": [
        "def main():\n",
        "  num1 = 10\n",
        "  num2 = 11\n",
        "  num3 = 12\n",
        "  num4 = 13\n",
        "  num5 = 14\n",
        "  num6 = 15\n",
        "  num7 = 16\n",
        "  num8 = 17\n",
        "  num9 = 18\n",
        "  num10 = 19\n",
        "  soma = num1 + num2 + num3 + num4 + num5 + num6 + num7 + num8 + num9 + num10\n",
        "  print(f'A soma dos numero é {soma}.')\n",
        "\n",
        "main()"
      ],
      "execution_count": null,
      "outputs": [
        {
          "output_type": "stream",
          "text": [
            "A soma dos numero é 145.\n"
          ],
          "name": "stdout"
        }
      ]
    },
    {
      "cell_type": "code",
      "metadata": {
        "id": "8IdhT-U-v6fz",
        "colab_type": "code",
        "colab": {
          "base_uri": "https://localhost:8080/",
          "height": 68
        },
        "outputId": "f073bbef-a7e1-4aa9-e675-d02574e3f6ac"
      },
      "source": [
        "def main():\n",
        "  aluno1 = 'Felipe'\n",
        "  aluno2 = 'Alisson'\n",
        "  aluno3 =  'Haynes'\n",
        "  prova1_1 = 8\n",
        "  prova2_1 = 10\n",
        "  prova1_2 = 10\n",
        "  prova2_2 = 7\n",
        "  prova1_3 = 8\n",
        "  prova2_3 = 9\n",
        "  media1 = (prova1_1 + prova1_2) / 2\n",
        "  media2 = (prova2_1 + prova2_2) / 2\n",
        "  media3 = (prova1_3 + prova1_3) / 2\n",
        "  print(f'O {aluno1} obteve a {media1}.')\n",
        "  print(f'O {aluno2} obteve a {media2}.')\n",
        "  print(f'O {aluno3} obteve a {media3}.')\n",
        "\n",
        "main()"
      ],
      "execution_count": null,
      "outputs": [
        {
          "output_type": "stream",
          "text": [
            "O Felipe obteve a 9.0.\n",
            "O Alisson obteve a 8.5.\n",
            "O Haynes obteve a 8.0.\n"
          ],
          "name": "stdout"
        }
      ]
    },
    {
      "cell_type": "markdown",
      "metadata": {
        "id": "w_OGwgdA0nTM",
        "colab_type": "text"
      },
      "source": [
        "**Motivação das listas**\n",
        "\n",
        "Trabalhar com vários valores relacionados em uma só variável.\n"
      ]
    },
    {
      "cell_type": "code",
      "metadata": {
        "id": "UhvMvdaZ0yae",
        "colab_type": "code",
        "colab": {}
      },
      "source": [
        "def main():\n",
        "  # Todos os possiveis alunos\n",
        "  # Felipe, Alisson, Haynes, Bylearner\n",
        "  # As notas respectivas dos alunos\n",
        "  # 8 e 10, 10 e 7, 8 e 9, 10 e 10.\n",
        "\n",
        "  # Media de [primeiro aluno] - [nota do 1°] / 2\n",
        "  # Para todos --> Media do {atual} - [notas do atual] / 2\n",
        "  pass\n",
        "main()"
      ],
      "execution_count": null,
      "outputs": []
    },
    {
      "cell_type": "markdown",
      "metadata": {
        "id": "FsZldL_1VA3A",
        "colab_type": "text"
      },
      "source": [
        "## Criando listas\n",
        "\n",
        "Listas são tipos de dados que armazenam valores em uma variavel só.\n",
        "\n",
        "Em listas trabalhamos com os indices.\n",
        "\n",
        "**Indíces começa sempre por 0.**"
      ]
    },
    {
      "cell_type": "code",
      "metadata": {
        "id": "lYWZxTIG2Gyf",
        "colab_type": "code",
        "colab": {
          "base_uri": "https://localhost:8080/",
          "height": 85
        },
        "outputId": "c416fd87-016b-49df-c487-d01dea0f01e9"
      },
      "source": [
        "primeira_lista = ['Felipe', 'Alisson', 'Haynes', 'Bylearn']\n",
        "# ---Posição---------1°--------2°---------3°---------4°----\n",
        "#----Indice----------0---------1----------2----------3-----\n",
        "\n",
        "print(primeira_lista[0])\n",
        "print(primeira_lista[1])\n",
        "print(primeira_lista[2])\n",
        "print(primeira_lista[3])"
      ],
      "execution_count": null,
      "outputs": [
        {
          "output_type": "stream",
          "text": [
            "Felipe\n",
            "Alisson\n",
            "Haynes\n",
            "Bylearn\n"
          ],
          "name": "stdout"
        }
      ]
    },
    {
      "cell_type": "code",
      "metadata": {
        "id": "cB4NzmAz3Mce",
        "colab_type": "code",
        "colab": {}
      },
      "source": [
        "primeira_lista[2] = 'Guilherme'"
      ],
      "execution_count": null,
      "outputs": []
    },
    {
      "cell_type": "code",
      "metadata": {
        "id": "fxrMJjeX3Rvx",
        "colab_type": "code",
        "colab": {
          "base_uri": "https://localhost:8080/",
          "height": 85
        },
        "outputId": "03e2f0bb-2f24-4c6c-f115-9e53ec99f727"
      },
      "source": [
        "print(primeira_lista[0])\n",
        "print(primeira_lista[1])\n",
        "print(primeira_lista[2])\n",
        "print(primeira_lista[3])"
      ],
      "execution_count": null,
      "outputs": [
        {
          "output_type": "stream",
          "text": [
            "Felipe\n",
            "Alisson\n",
            "Guilherme\n",
            "Bylearn\n"
          ],
          "name": "stdout"
        }
      ]
    },
    {
      "cell_type": "markdown",
      "metadata": {
        "id": "5qIOPAP83zKM",
        "colab_type": "text"
      },
      "source": [
        "## Tentativa de adicionar outro elemento\n"
      ]
    },
    {
      "cell_type": "code",
      "metadata": {
        "id": "o0egwTMK3cMf",
        "colab_type": "code",
        "colab": {}
      },
      "source": [
        "primeira_lista[4] = 'Novo Aluno' # não é assim que adicionamos outro elemento na lista"
      ],
      "execution_count": null,
      "outputs": []
    },
    {
      "cell_type": "code",
      "metadata": {
        "id": "tYD050Rz3meI",
        "colab_type": "code",
        "colab": {}
      },
      "source": [
        "primeira_lista.append('Novo Aluno')"
      ],
      "execution_count": null,
      "outputs": []
    },
    {
      "cell_type": "code",
      "metadata": {
        "id": "8Zr--URo39h4",
        "colab_type": "code",
        "colab": {
          "base_uri": "https://localhost:8080/",
          "height": 34
        },
        "outputId": "7c794d85-c6f7-4641-faa6-685abf10d2d0"
      },
      "source": [
        "print(primeira_lista)"
      ],
      "execution_count": null,
      "outputs": [
        {
          "output_type": "stream",
          "text": [
            "['Felipe', 'Alisson', 'Guilherme', 'Bylearn', 'Novo Aluno', 'Novo Aluno']\n"
          ],
          "name": "stdout"
        }
      ]
    },
    {
      "cell_type": "markdown",
      "metadata": {
        "id": "9Jh024m74AHN",
        "colab_type": "text"
      },
      "source": [
        "**Conclusão** Adicionamos elementos na lista atraves da função *append*."
      ]
    },
    {
      "cell_type": "markdown",
      "metadata": {
        "id": "UQZGFDMwUn7l",
        "colab_type": "text"
      },
      "source": [
        "# Metodos alternativos de criar lista"
      ]
    },
    {
      "cell_type": "code",
      "metadata": {
        "id": "4vvjEMt7WVdQ",
        "colab_type": "code",
        "colab": {}
      },
      "source": [
        "lista = [1, 2, 3, 4]\n",
        "lista2 = ['a', 'b', 'c']\n",
        "lista3 = [1, 2, 'a', 'b']\n",
        "lista_alunos = []\n"
      ],
      "execution_count": null,
      "outputs": []
    },
    {
      "cell_type": "markdown",
      "metadata": {
        "id": "BSKbIW7ZXNVR",
        "colab_type": "text"
      },
      "source": [
        "Funções built in são funções externas"
      ]
    },
    {
      "cell_type": "code",
      "metadata": {
        "id": "SUQJnONGXSqu",
        "colab_type": "code",
        "colab": {}
      },
      "source": [
        "lista_built_in = list() # equivale a lista = []\n",
        "variavel_para_lista = 12\n",
        "\n",
        "lista_built_in_inteira = list(['a',1, 2, lista_built_in])"
      ],
      "execution_count": null,
      "outputs": []
    },
    {
      "cell_type": "markdown",
      "metadata": {
        "id": "mZhG9wc9dztl",
        "colab_type": "text"
      },
      "source": [
        "## Copiando uma lista para outra (atribuindo o valor)\n",
        "A lista b passa a referenciar a lista a. Então uma alteração na B  altera a A(vice-versa)."
      ]
    },
    {
      "cell_type": "code",
      "metadata": {
        "id": "vKIDO6yfd4rd",
        "colab_type": "code",
        "colab": {
          "base_uri": "https://localhost:8080/",
          "height": 51
        },
        "outputId": "48627a1f-0583-463c-a81b-41bbc589434f"
      },
      "source": [
        "lista_a = [1, 2, 3]\n",
        "lista_b = lista_a\n",
        "lista_b.append(4)\n",
        "print(lista_a)\n",
        "print(lista_b)"
      ],
      "execution_count": null,
      "outputs": [
        {
          "output_type": "stream",
          "text": [
            "[1, 2, 3, 4]\n",
            "[1, 2, 3, 4]\n"
          ],
          "name": "stdout"
        }
      ]
    },
    {
      "cell_type": "markdown",
      "metadata": {
        "id": "S7VFtcS9fAK1",
        "colab_type": "text"
      },
      "source": [
        "## Clonar uma lista(passar os valores dela) para outra\n",
        "Quando trabalhamos com colchetes trabalhamos com os elementos da lista."
      ]
    },
    {
      "cell_type": "code",
      "metadata": {
        "id": "zA2-SiCRfIng",
        "colab_type": "code",
        "colab": {
          "base_uri": "https://localhost:8080/",
          "height": 51
        },
        "outputId": "db46a0a8-4404-443f-a9a4-f0dab0bed4d4"
      },
      "source": [
        "lista_a = [1, 2, 3]\n",
        "lista_b = lista_a[:]\n",
        "lista_b.append(4)\n",
        "print(lista_a)\n",
        "print(lista_b)"
      ],
      "execution_count": null,
      "outputs": [
        {
          "output_type": "stream",
          "text": [
            "[1, 2, 3]\n",
            "[1, 2, 3, 4]\n"
          ],
          "name": "stdout"
        }
      ]
    },
    {
      "cell_type": "markdown",
      "metadata": {
        "id": "z8OwyVz0hhPU",
        "colab_type": "text"
      },
      "source": [
        "## Recuperando elemento da lista\n",
        "Para pegar um elemento da lista utilizamos o indice do elemento."
      ]
    },
    {
      "cell_type": "code",
      "metadata": {
        "id": "XgAnpoiFhq01",
        "colab_type": "code",
        "colab": {
          "base_uri": "https://localhost:8080/",
          "height": 68
        },
        "outputId": "60e2aa85-917a-4737-e407-134d4f00460c"
      },
      "source": [
        "lista_a = [1, 2, 3]\n",
        "elemento1 = lista_a[0]\n",
        "elemento2 = lista_a[1]\n",
        "elemento3 = lista_a[2]\n",
        "print(elemento1)\n",
        "print(elemento2)\n",
        "print(elemento3)"
      ],
      "execution_count": null,
      "outputs": [
        {
          "output_type": "stream",
          "text": [
            "1\n",
            "2\n",
            "3\n"
          ],
          "name": "stdout"
        }
      ]
    },
    {
      "cell_type": "markdown",
      "metadata": {
        "id": "BBc-j3B_jTHR",
        "colab_type": "text"
      },
      "source": [
        "Para recuperarmos com mais de um elemento, vamo pegar uma **fatia** da lista.\n",
        "\n",
        " - Nós queremos da posição X até a posição Y.\n",
        " - Então nós queremos [X:Y]\n",
        " - Ou seja .... [Inicio : Final]\n",
        " - Caso não tenha um dos valores na fatia, pegaremos tudo daquele lado, Exemplo:\n",
        "  - Para lista [1:4] - Pegaremos os elementos entre 1 e 4.\n",
        "  - Para lista [:4] - Pegaremos elementos até 4.\n",
        "  - Para lista [2:] - Pegaremos elementos apartir do 2.\n",
        "\n"
      ]
    },
    {
      "cell_type": "code",
      "metadata": {
        "id": "upOpgBDwjsgT",
        "colab_type": "code",
        "colab": {}
      },
      "source": [
        "lista = [1, 2, 3, 4 , 5, 6, 7, 8, 9, 10]"
      ],
      "execution_count": null,
      "outputs": []
    },
    {
      "cell_type": "code",
      "metadata": {
        "id": "9ENgewInk2ky",
        "colab_type": "code",
        "colab": {
          "base_uri": "https://localhost:8080/",
          "height": 85
        },
        "outputId": "ce015bd3-b2b9-4247-fb6d-b800802ed81d"
      },
      "source": [
        "primeiro_teste = lista[1:4]\n",
        "segundo_teste = lista[:4]\n",
        "terceiro_teste = lista[2:]\n",
        "quarto_teste = lista[2::2]\n",
        "\n",
        "print(primeiro_teste)\n",
        "print(segundo_teste)\n",
        "print(terceiro_teste)\n",
        "print(quarto_teste)"
      ],
      "execution_count": null,
      "outputs": [
        {
          "output_type": "stream",
          "text": [
            "[2, 3, 4]\n",
            "[1, 2, 3, 4]\n",
            "[3, 4, 5, 6, 7, 8, 9, 10]\n",
            "[3, 5, 7, 9]\n"
          ],
          "name": "stdout"
        }
      ]
    },
    {
      "cell_type": "markdown",
      "metadata": {
        "id": "tte8sEt2lzeE",
        "colab_type": "text"
      },
      "source": [
        "### Sempre que trabalhamos com intervalos (range) o limite inferior é INCLUSIVO e o superior é INCLUSIVO.\n",
        "\n",
        "De maneira informal. O primeiro valor (menor) entra no intervalo, já o valor (maior) não entra."
      ]
    },
    {
      "cell_type": "markdown",
      "metadata": {
        "id": "u40_xFsNm8fA",
        "colab_type": "text"
      },
      "source": [
        "A fatia [:] 'significa pegu tudo : até tudo', ou seja pega todos os elementos da lista."
      ]
    },
    {
      "cell_type": "markdown",
      "metadata": {
        "id": "9lXtTq5xr053",
        "colab_type": "text"
      },
      "source": [
        "# Juntando listas (join)\n",
        "\n",
        "Serve para juntar 'somar' duas listas."
      ]
    },
    {
      "cell_type": "code",
      "metadata": {
        "id": "aEhGwHG9r_nG",
        "colab_type": "code",
        "colab": {
          "base_uri": "https://localhost:8080/",
          "height": 34
        },
        "outputId": "20e0fc26-0c0f-47a7-d5ca-adf8c5014a39"
      },
      "source": [
        "ids_instrutores = [1, 2, 3]\n",
        "ids_alunos_python = [10, 9]\n",
        "ids_alunos_csharp = [8, 10]\n",
        "\n",
        "ids_de_todos_os_bylearners = ids_instrutores + ids_alunos_python\n",
        "print(ids_de_todos_os_bylearners)"
      ],
      "execution_count": null,
      "outputs": [
        {
          "output_type": "stream",
          "text": [
            "[1, 2, 3, 10, 9]\n"
          ],
          "name": "stdout"
        }
      ]
    },
    {
      "cell_type": "code",
      "metadata": {
        "id": "ZRGD6PMrtB5O",
        "colab_type": "code",
        "colab": {
          "base_uri": "https://localhost:8080/",
          "height": 34
        },
        "outputId": "0f409a36-70d6-4bc9-d21a-c4ee993406c5"
      },
      "source": [
        "ids_de_todos_os_bylearners += lista_ids_alunos_csharp\n",
        "print(lista_ids_de_todos_os_bylearners)"
      ],
      "execution_count": null,
      "outputs": [
        {
          "output_type": "stream",
          "text": [
            "[1, 2, 3, 10, 9, 8, 10]\n"
          ],
          "name": "stdout"
        }
      ]
    },
    {
      "cell_type": "code",
      "metadata": {
        "id": "59Qbk9lEt1b1",
        "colab_type": "code",
        "colab": {
          "base_uri": "https://localhost:8080/",
          "height": 34
        },
        "outputId": "8e4849ed-2e11-4724-bb57-4381d00f6f88"
      },
      "source": [
        "ids_de_todos_os_bylearners = ids_instrutores + ids_alunos_python + ids_alunos_csharp\n",
        "print(ids_de_todos_os_bylearners)"
      ],
      "execution_count": null,
      "outputs": [
        {
          "output_type": "stream",
          "text": [
            "[1, 2, 3, 10, 9, 8, 10]\n"
          ],
          "name": "stdout"
        }
      ]
    },
    {
      "cell_type": "markdown",
      "metadata": {
        "id": "6LeBkiR5neH0",
        "colab_type": "text"
      },
      "source": [
        "## Funções nativas para lista"
      ]
    },
    {
      "cell_type": "markdown",
      "metadata": {
        "id": "RY5ped4HoKay",
        "colab_type": "text"
      },
      "source": [
        " - **Primeira função :** Append() --> insere elementos no final da lista.\n"
      ]
    },
    {
      "cell_type": "code",
      "metadata": {
        "id": "hUSo4GqxnjMt",
        "colab_type": "code",
        "colab": {
          "base_uri": "https://localhost:8080/",
          "height": 34
        },
        "outputId": "e079fe82-ef9a-4fce-89c8-04ea5bdfff2c"
      },
      "source": [
        "# Append() --> insere elementos na lista\n",
        "\n",
        "numeros = ['um']\n",
        "numeros.append('dois')\n",
        "numeros.append('três')\n",
        "numeros.append('quantro')\n",
        "\n",
        "print(numeros)"
      ],
      "execution_count": null,
      "outputs": [
        {
          "output_type": "stream",
          "text": [
            "['um', 'dois', 'três', 'quantro']\n"
          ],
          "name": "stdout"
        }
      ]
    },
    {
      "cell_type": "markdown",
      "metadata": {
        "id": "aQ52OvqtobDL",
        "colab_type": "text"
      },
      "source": [
        "- **Segunda função :** Index() --> Retorna o indice de um determinado elemento."
      ]
    },
    {
      "cell_type": "code",
      "metadata": {
        "id": "rwC7bdraolE7",
        "colab_type": "code",
        "colab": {
          "base_uri": "https://localhost:8080/",
          "height": 34
        },
        "outputId": "71505455-e2d5-4f73-b8ca-f3b4f9fc3f48"
      },
      "source": [
        "lista = ['felipe', 'haynes', 'neves', 'ferreira']\n",
        "lista.index('neves')"
      ],
      "execution_count": null,
      "outputs": [
        {
          "output_type": "execute_result",
          "data": {
            "text/plain": [
              "2"
            ]
          },
          "metadata": {
            "tags": []
          },
          "execution_count": 6
        }
      ]
    },
    {
      "cell_type": "markdown",
      "metadata": {
        "id": "wBg81oNepG26",
        "colab_type": "text"
      },
      "source": [
        " - **Terceira função:** Insert() --> Insere um elemento em uma determinada posição da lista."
      ]
    },
    {
      "cell_type": "code",
      "metadata": {
        "id": "gW9Ne01VplYH",
        "colab_type": "code",
        "colab": {
          "base_uri": "https://localhost:8080/",
          "height": 34
        },
        "outputId": "96f659e8-6433-412a-f146-f545f5c64e75"
      },
      "source": [
        "animais = ['cão', 'gato', 'papagaio']\n",
        "animais.insert(1,  'galinha')\n",
        "print(animais)"
      ],
      "execution_count": null,
      "outputs": [
        {
          "output_type": "stream",
          "text": [
            "['cão', 'galinha', 'gato', 'papagaio']\n"
          ],
          "name": "stdout"
        }
      ]
    },
    {
      "cell_type": "markdown",
      "metadata": {
        "id": "UTTbDpXCp0w6",
        "colab_type": "text"
      },
      "source": [
        "**Extra:**  In --> Verifica de um elemento está ou não contido na lista."
      ]
    },
    {
      "cell_type": "code",
      "metadata": {
        "id": "QkonwlrLqXkQ",
        "colab_type": "code",
        "colab": {
          "base_uri": "https://localhost:8080/",
          "height": 34
        },
        "outputId": "4c958b2f-a36d-4fc9-d30d-6ec4139b15bb"
      },
      "source": [
        "'cão' in animais"
      ],
      "execution_count": null,
      "outputs": [
        {
          "output_type": "execute_result",
          "data": {
            "text/plain": [
              "True"
            ]
          },
          "metadata": {
            "tags": []
          },
          "execution_count": 9
        }
      ]
    },
    {
      "cell_type": "markdown",
      "metadata": {
        "id": "rzWitw-_qL4w",
        "colab_type": "text"
      },
      "source": [
        "**Quarta função:** Remove() --> Remove um elemento da lista\n"
      ]
    },
    {
      "cell_type": "code",
      "metadata": {
        "id": "3dO4Y2KJq9Pm",
        "colab_type": "code",
        "colab": {
          "base_uri": "https://localhost:8080/",
          "height": 34
        },
        "outputId": "cebace8d-1ab6-4429-a44f-b9ef34515ede"
      },
      "source": [
        "animais.remove('papagaio')\n",
        "print(animais)"
      ],
      "execution_count": null,
      "outputs": [
        {
          "output_type": "stream",
          "text": [
            "['cão', 'galinha', 'gato']\n"
          ],
          "name": "stdout"
        }
      ]
    },
    {
      "cell_type": "markdown",
      "metadata": {
        "id": "XtU67g-3rJyz",
        "colab_type": "text"
      },
      "source": [
        "**Quinta função:** Pop() --> Remove um elemento pelo seu indice"
      ]
    },
    {
      "cell_type": "code",
      "metadata": {
        "id": "Io2fKOgUrVpP",
        "colab_type": "code",
        "colab": {
          "base_uri": "https://localhost:8080/",
          "height": 34
        },
        "outputId": "4b85c937-da80-4c7e-d980-791ac57cb2d8"
      },
      "source": [
        "animais = ['cão', 'gato', 'papagaio', 'tamandua']\n",
        "animais.pop(3) # Removendo o tamandua da lista pelo seu indice\n",
        "print(animais)"
      ],
      "execution_count": null,
      "outputs": [
        {
          "output_type": "stream",
          "text": [
            "['cão', 'gato', 'papagaio']\n"
          ],
          "name": "stdout"
        }
      ]
    },
    {
      "cell_type": "markdown",
      "metadata": {
        "id": "ShFRF-7hrq6z",
        "colab_type": "text"
      },
      "source": [
        "**Sexta função:** Del() --> Remove um elemento pelo seu indice"
      ]
    },
    {
      "cell_type": "code",
      "metadata": {
        "id": "e7y9Rz8Qruk2",
        "colab_type": "code",
        "colab": {
          "base_uri": "https://localhost:8080/",
          "height": 34
        },
        "outputId": "0d8b7cc8-99e9-4ece-d8dd-95de09e001ee"
      },
      "source": [
        "animais = ['cão', 'gato', 'papagaio', 'tamandua']\n",
        "del(animais[2])\n",
        "print(animais)"
      ],
      "execution_count": null,
      "outputs": [
        {
          "output_type": "stream",
          "text": [
            "['cão', 'gato', 'tamandua']\n"
          ],
          "name": "stdout"
        }
      ]
    },
    {
      "cell_type": "markdown",
      "metadata": {
        "id": "PKufJfNCsCsl",
        "colab_type": "text"
      },
      "source": [
        "**Sétima função:** Sort() --> Ordena a lista"
      ]
    },
    {
      "cell_type": "code",
      "metadata": {
        "id": "47zaL9IysStS",
        "colab_type": "code",
        "colab": {
          "base_uri": "https://localhost:8080/",
          "height": 34
        },
        "outputId": "4f858989-d6de-40c5-ac66-899fa94595d1"
      },
      "source": [
        "numeros = [1, 2, 5, 8, 3, 9, 12]\n",
        "numeros.sort()\n",
        "print(numeros)"
      ],
      "execution_count": null,
      "outputs": [
        {
          "output_type": "stream",
          "text": [
            "[1, 2, 3, 5, 8, 9, 12]\n"
          ],
          "name": "stdout"
        }
      ]
    },
    {
      "cell_type": "code",
      "metadata": {
        "id": "fonmxBsjsuA7",
        "colab_type": "code",
        "colab": {
          "base_uri": "https://localhost:8080/",
          "height": 34
        },
        "outputId": "98f85f23-ca4d-4bcd-9a7f-453d8d2b1246"
      },
      "source": [
        "print(sorted(numeros))"
      ],
      "execution_count": null,
      "outputs": [
        {
          "output_type": "stream",
          "text": [
            "[1, 2, 3, 5, 8, 9, 12]\n"
          ],
          "name": "stdout"
        }
      ]
    },
    {
      "cell_type": "markdown",
      "metadata": {
        "id": "sk4OnHPYx0bA",
        "colab_type": "text"
      },
      "source": [
        "**Oitava função** Len() --> Retorna o tamanho da lista"
      ]
    },
    {
      "cell_type": "code",
      "metadata": {
        "id": "pPs9_vthx57o",
        "colab_type": "code",
        "colab": {
          "base_uri": "https://localhost:8080/",
          "height": 34
        },
        "outputId": "58e4ab58-9774-469c-847c-31e9716dbbb8"
      },
      "source": [
        "animais = ['cão', 'gato', 'papagaio', 'tamandua']\n",
        "len(animais)"
      ],
      "execution_count": null,
      "outputs": [
        {
          "output_type": "execute_result",
          "data": {
            "text/plain": [
              "4"
            ]
          },
          "metadata": {
            "tags": []
          },
          "execution_count": 40
        }
      ]
    },
    {
      "cell_type": "markdown",
      "metadata": {
        "id": "ptDt0UbIuIqj",
        "colab_type": "text"
      },
      "source": [
        "## Manipulação de Strings"
      ]
    },
    {
      "cell_type": "code",
      "metadata": {
        "id": "nzCm4xxCuL4E",
        "colab_type": "code",
        "colab": {}
      },
      "source": [
        "# Caractere é uma letra śo\n",
        "\n",
        "char = 'c'\n",
        "\n",
        "#String é um conjunto de caracteres\n",
        "\n",
        "string_palavras = 'felipe'\n",
        "string_frase = 'Seja uma pessoa melhor'\n",
        "\n",
        "# Vetor (Array) --> Sequencia de elementos do mesmo tipo \n",
        "# String é um vetor (Array) de caracteres"
      ],
      "execution_count": null,
      "outputs": []
    },
    {
      "cell_type": "code",
      "metadata": {
        "id": "CE3uFHeDun3w",
        "colab_type": "code",
        "colab": {
          "base_uri": "https://localhost:8080/",
          "height": 119
        },
        "outputId": "886d01f2-6c46-43b4-db09-8c6b879c400c"
      },
      "source": [
        "string = 'felipe'\n",
        "\n",
        "print(string[0])\n",
        "print(string[1])\n",
        "print(string[2])\n",
        "print(string[3])\n",
        "print(string[4])\n",
        "print(string[5])"
      ],
      "execution_count": null,
      "outputs": [
        {
          "output_type": "stream",
          "text": [
            "f\n",
            "e\n",
            "l\n",
            "i\n",
            "p\n",
            "e\n"
          ],
          "name": "stdout"
        }
      ]
    },
    {
      "cell_type": "markdown",
      "metadata": {
        "id": "BF3Ddls4u9tr",
        "colab_type": "text"
      },
      "source": [
        "**Strings** são imutaveis"
      ]
    },
    {
      "cell_type": "code",
      "metadata": {
        "id": "MrTF7l_SvAqx",
        "colab_type": "code",
        "colab": {
          "base_uri": "https://localhost:8080/",
          "height": 180
        },
        "outputId": "9764286c-ecae-4f38-81ab-5df65837da3c"
      },
      "source": [
        "palavra = 'teste'\n",
        "pavavra[2] = 'z'"
      ],
      "execution_count": null,
      "outputs": [
        {
          "output_type": "error",
          "ename": "NameError",
          "evalue": "ignored",
          "traceback": [
            "\u001b[0;31m---------------------------------------------------------------------------\u001b[0m",
            "\u001b[0;31mNameError\u001b[0m                                 Traceback (most recent call last)",
            "\u001b[0;32m<ipython-input-24-3b27921a5807>\u001b[0m in \u001b[0;36m<module>\u001b[0;34m()\u001b[0m\n\u001b[1;32m      1\u001b[0m \u001b[0mpalavra\u001b[0m \u001b[0;34m=\u001b[0m \u001b[0;34m'teste'\u001b[0m\u001b[0;34m\u001b[0m\u001b[0;34m\u001b[0m\u001b[0m\n\u001b[0;32m----> 2\u001b[0;31m \u001b[0mpavavra\u001b[0m\u001b[0;34m[\u001b[0m\u001b[0;36m2\u001b[0m\u001b[0;34m]\u001b[0m \u001b[0;34m=\u001b[0m \u001b[0;34m'z'\u001b[0m\u001b[0;34m\u001b[0m\u001b[0;34m\u001b[0m\u001b[0m\n\u001b[0m",
            "\u001b[0;31mNameError\u001b[0m: name 'pavavra' is not defined"
          ]
        }
      ]
    },
    {
      "cell_type": "markdown",
      "metadata": {
        "id": "ol2oVhLCvgKS",
        "colab_type": "text"
      },
      "source": [
        "Strings **podem** ser fatiadas, como exemplo para mudar o seu valor"
      ]
    },
    {
      "cell_type": "code",
      "metadata": {
        "id": "rAvrt2V9vntZ",
        "colab_type": "code",
        "colab": {
          "base_uri": "https://localhost:8080/",
          "height": 35
        },
        "outputId": "f0b73477-8eb9-4a80-b906-8df809d4f281"
      },
      "source": [
        "n_palavra = palavra[:2] + 'z' + palavra[:3]\n",
        "n_palavra"
      ],
      "execution_count": null,
      "outputs": [
        {
          "output_type": "execute_result",
          "data": {
            "application/vnd.google.colaboratory.intrinsic": {
              "type": "string"
            },
            "text/plain": [
              "'teztes'"
            ]
          },
          "metadata": {
            "tags": []
          },
          "execution_count": 25
        }
      ]
    },
    {
      "cell_type": "code",
      "metadata": {
        "id": "kjMuyAs7v8W6",
        "colab_type": "code",
        "colab": {
          "base_uri": "https://localhost:8080/",
          "height": 68
        },
        "outputId": "0642b775-4ee7-48c9-a9cc-f07d7609feca"
      },
      "source": [
        "palavra = 'abcdef'\n",
        "print(palavra[-1])\n",
        "print(palavra[-2])\n",
        "print(palavra[-3])"
      ],
      "execution_count": null,
      "outputs": [
        {
          "output_type": "stream",
          "text": [
            "f\n",
            "e\n",
            "d\n"
          ],
          "name": "stdout"
        }
      ]
    },
    {
      "cell_type": "markdown",
      "metadata": {
        "id": "rokKWCfCwNo3",
        "colab_type": "text"
      },
      "source": [
        "** Pesquisar em String**"
      ]
    },
    {
      "cell_type": "code",
      "metadata": {
        "id": "otwIEiKZwRfK",
        "colab_type": "code",
        "colab": {
          "base_uri": "https://localhost:8080/",
          "height": 34
        },
        "outputId": "90ce67a2-2326-4271-c6ba-20933b9f3649"
      },
      "source": [
        "'b' in 'abc'"
      ],
      "execution_count": null,
      "outputs": [
        {
          "output_type": "execute_result",
          "data": {
            "text/plain": [
              "True"
            ]
          },
          "metadata": {
            "tags": []
          },
          "execution_count": 29
        }
      ]
    },
    {
      "cell_type": "code",
      "metadata": {
        "id": "dbU1E4mnwcl4",
        "colab_type": "code",
        "colab": {
          "base_uri": "https://localhost:8080/",
          "height": 34
        },
        "outputId": "3def3e99-1ab2-4930-a538-a456c75e79f8"
      },
      "source": [
        "'d' in 'abc'"
      ],
      "execution_count": null,
      "outputs": [
        {
          "output_type": "execute_result",
          "data": {
            "text/plain": [
              "False"
            ]
          },
          "metadata": {
            "tags": []
          },
          "execution_count": 30
        }
      ]
    },
    {
      "cell_type": "code",
      "metadata": {
        "id": "0-yOLnixwfd2",
        "colab_type": "code",
        "colab": {
          "base_uri": "https://localhost:8080/",
          "height": 34
        },
        "outputId": "14b34a39-d337-4a6b-f4b6-724f7d662014"
      },
      "source": [
        "'ab' not in 'abcde'"
      ],
      "execution_count": null,
      "outputs": [
        {
          "output_type": "execute_result",
          "data": {
            "text/plain": [
              "False"
            ]
          },
          "metadata": {
            "tags": []
          },
          "execution_count": 31
        }
      ]
    },
    {
      "cell_type": "markdown",
      "metadata": {
        "id": "1-B1AcX_wjuW",
        "colab_type": "text"
      },
      "source": [
        "**Concatenar Strings (Somar)**"
      ]
    },
    {
      "cell_type": "code",
      "metadata": {
        "id": "7vZq8DzRwnJo",
        "colab_type": "code",
        "colab": {
          "base_uri": "https://localhost:8080/",
          "height": 35
        },
        "outputId": "0d37211e-f0e7-483f-ace7-13f9ef6837c1"
      },
      "source": [
        "string = 'fe' + 'li' + 'pe'\n",
        "string"
      ],
      "execution_count": null,
      "outputs": [
        {
          "output_type": "execute_result",
          "data": {
            "application/vnd.google.colaboratory.intrinsic": {
              "type": "string"
            },
            "text/plain": [
              "'felipe'"
            ]
          },
          "metadata": {
            "tags": []
          },
          "execution_count": 33
        }
      ]
    },
    {
      "cell_type": "code",
      "metadata": {
        "id": "5MJfnFddww9u",
        "colab_type": "code",
        "colab": {
          "base_uri": "https://localhost:8080/",
          "height": 34
        },
        "outputId": "bb7cf1fd-328b-4c4f-9370-36e7e57a4c8e"
      },
      "source": [
        "print('fel' + 'ipe')"
      ],
      "execution_count": null,
      "outputs": [
        {
          "output_type": "stream",
          "text": [
            "felipe\n"
          ],
          "name": "stdout"
        }
      ]
    },
    {
      "cell_type": "markdown",
      "metadata": {
        "id": "XLaxFk1nxR9c",
        "colab_type": "text"
      },
      "source": [
        "**Alterando entre maiúsculo e minusculo.**"
      ]
    },
    {
      "cell_type": "code",
      "metadata": {
        "id": "itubGIn6xXbl",
        "colab_type": "code",
        "colab": {
          "base_uri": "https://localhost:8080/",
          "height": 35
        },
        "outputId": "0f020e4c-abac-4e3d-89eb-af2615c2720f"
      },
      "source": [
        "string = \"FeLiPe\"\n",
        "string"
      ],
      "execution_count": null,
      "outputs": [
        {
          "output_type": "execute_result",
          "data": {
            "application/vnd.google.colaboratory.intrinsic": {
              "type": "string"
            },
            "text/plain": [
              "'FeLiPe'"
            ]
          },
          "metadata": {
            "tags": []
          },
          "execution_count": 35
        }
      ]
    },
    {
      "cell_type": "code",
      "metadata": {
        "id": "sQ61G9y4xeIK",
        "colab_type": "code",
        "colab": {
          "base_uri": "https://localhost:8080/",
          "height": 35
        },
        "outputId": "51fd28ae-3458-44c1-f3af-5ea924be34ca"
      },
      "source": [
        "string.lower()"
      ],
      "execution_count": null,
      "outputs": [
        {
          "output_type": "execute_result",
          "data": {
            "application/vnd.google.colaboratory.intrinsic": {
              "type": "string"
            },
            "text/plain": [
              "'felipe'"
            ]
          },
          "metadata": {
            "tags": []
          },
          "execution_count": 36
        }
      ]
    },
    {
      "cell_type": "code",
      "metadata": {
        "id": "7z-m443rxg8N",
        "colab_type": "code",
        "colab": {
          "base_uri": "https://localhost:8080/",
          "height": 35
        },
        "outputId": "c1092ba6-54d7-4097-fc20-833876c7f605"
      },
      "source": [
        "string.upper()"
      ],
      "execution_count": null,
      "outputs": [
        {
          "output_type": "execute_result",
          "data": {
            "application/vnd.google.colaboratory.intrinsic": {
              "type": "string"
            },
            "text/plain": [
              "'FELIPE'"
            ]
          },
          "metadata": {
            "tags": []
          },
          "execution_count": 37
        }
      ]
    },
    {
      "cell_type": "markdown",
      "metadata": {
        "id": "tAY9teV9xnE2",
        "colab_type": "text"
      },
      "source": [
        "**Tamanho da String**\n"
      ]
    },
    {
      "cell_type": "code",
      "metadata": {
        "id": "2-ldC-dwxpTf",
        "colab_type": "code",
        "colab": {
          "base_uri": "https://localhost:8080/",
          "height": 34
        },
        "outputId": "8a8a1ee7-42c5-4253-d3de-ca435a1e2e7c"
      },
      "source": [
        "len(string)"
      ],
      "execution_count": null,
      "outputs": [
        {
          "output_type": "execute_result",
          "data": {
            "text/plain": [
              "6"
            ]
          },
          "metadata": {
            "tags": []
          },
          "execution_count": 38
        }
      ]
    },
    {
      "cell_type": "markdown",
      "metadata": {
        "id": "Ds_yJz8rydt2",
        "colab_type": "text"
      },
      "source": [
        "**Checando se todos os caracteres são letras**"
      ]
    },
    {
      "cell_type": "code",
      "metadata": {
        "id": "v3IPlSR7yh7E",
        "colab_type": "code",
        "colab": {
          "base_uri": "https://localhost:8080/",
          "height": 68
        },
        "outputId": "1a320e69-4c6b-467e-81ab-74edec645f65"
      },
      "source": [
        "print('abc'.isalpha())\n",
        "print('123'.isalpha())\n",
        "print('*&@+'.isalpha())"
      ],
      "execution_count": null,
      "outputs": [
        {
          "output_type": "stream",
          "text": [
            "True\n",
            "False\n",
            "False\n"
          ],
          "name": "stdout"
        }
      ]
    },
    {
      "cell_type": "markdown",
      "metadata": {
        "id": "v9DVXWFxy8n9",
        "colab_type": "text"
      },
      "source": [
        "**Removendo espaços em brando no inicio e no fim**"
      ]
    },
    {
      "cell_type": "code",
      "metadata": {
        "id": "e03zMGSmzAlA",
        "colab_type": "code",
        "colab": {
          "base_uri": "https://localhost:8080/",
          "height": 51
        },
        "outputId": "646f8892-519c-4817-b43f-baa9b35592af"
      },
      "source": [
        "print(\"   Bom dia pessoal   \".strip())\n",
        "print(\"Hoje a noite esta muito bonita     \".strip())"
      ],
      "execution_count": null,
      "outputs": [
        {
          "output_type": "stream",
          "text": [
            "Bom dia pessoal\n",
            "Hoje a noite esta muito bonita\n"
          ],
          "name": "stdout"
        }
      ]
    },
    {
      "cell_type": "markdown",
      "metadata": {
        "id": "Dyc0-nnczgyE",
        "colab_type": "text"
      },
      "source": [
        "**Juntar itens da string através de um delimitador.**"
      ]
    },
    {
      "cell_type": "code",
      "metadata": {
        "id": "XvdS6rafzlZq",
        "colab_type": "code",
        "colab": {
          "base_uri": "https://localhost:8080/",
          "height": 35
        },
        "outputId": "a32a880a-c28d-4dce-d39c-8afe3fcac5d0"
      },
      "source": [
        "\",\".join(\"abc\")"
      ],
      "execution_count": null,
      "outputs": [
        {
          "output_type": "execute_result",
          "data": {
            "application/vnd.google.colaboratory.intrinsic": {
              "type": "string"
            },
            "text/plain": [
              "'a,b,c'"
            ]
          },
          "metadata": {
            "tags": []
          },
          "execution_count": 48
        }
      ]
    },
    {
      "cell_type": "code",
      "metadata": {
        "id": "O25T7YlOzxwM",
        "colab_type": "code",
        "colab": {
          "base_uri": "https://localhost:8080/",
          "height": 35
        },
        "outputId": "8aeb1a44-5e18-43fd-b21c-96e2d6651c1e"
      },
      "source": [
        "\" , \".join(\"abc\")"
      ],
      "execution_count": null,
      "outputs": [
        {
          "output_type": "execute_result",
          "data": {
            "application/vnd.google.colaboratory.intrinsic": {
              "type": "string"
            },
            "text/plain": [
              "'a , b , c'"
            ]
          },
          "metadata": {
            "tags": []
          },
          "execution_count": 49
        }
      ]
    },
    {
      "cell_type": "markdown",
      "metadata": {
        "id": "uHF3-Fcm0Enu",
        "colab_type": "text"
      },
      "source": [
        "**Separar uma string atraves do delimitador.**"
      ]
    },
    {
      "cell_type": "code",
      "metadata": {
        "id": "mILbq2DJ0Ja2",
        "colab_type": "code",
        "colab": {
          "base_uri": "https://localhost:8080/",
          "height": 34
        },
        "outputId": "377b45da-b50a-4d08-cf04-831bcb1d9de9"
      },
      "source": [
        "s = 'n o m e'\n",
        "s.split()"
      ],
      "execution_count": null,
      "outputs": [
        {
          "output_type": "execute_result",
          "data": {
            "text/plain": [
              "['n', 'o', 'm', 'e']"
            ]
          },
          "metadata": {
            "tags": []
          },
          "execution_count": 51
        }
      ]
    }
  ]
}