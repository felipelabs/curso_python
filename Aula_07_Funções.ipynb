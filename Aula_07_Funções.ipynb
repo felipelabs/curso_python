{
  "nbformat": 4,
  "nbformat_minor": 0,
  "metadata": {
    "colab": {
      "name": "Aula 07 - Funções.ipynb",
      "provenance": [],
      "collapsed_sections": [],
      "authorship_tag": "ABX9TyOSM7LZGzcKQHKAp46VAftt",
      "include_colab_link": true
    },
    "kernelspec": {
      "name": "python3",
      "display_name": "Python 3"
    }
  },
  "cells": [
    {
      "cell_type": "markdown",
      "metadata": {
        "id": "view-in-github",
        "colab_type": "text"
      },
      "source": [
        "<a href=\"https://colab.research.google.com/github/felipelabs/curso_python/blob/master/Aula_07_Fun%C3%A7%C3%B5es.ipynb\" target=\"_parent\"><img src=\"https://colab.research.google.com/assets/colab-badge.svg\" alt=\"Open In Colab\"/></a>"
      ]
    },
    {
      "cell_type": "markdown",
      "metadata": {
        "id": "6cy0a1kU3Qii",
        "colab_type": "text"
      },
      "source": [
        "# Funções\n",
        "Na programação, funções são blocos de codigos que fazem determinadas tarefas que precisam ser executadas diversas vezes dentro da minha operação."
      ]
    },
    {
      "cell_type": "code",
      "metadata": {
        "id": "syDPfyHW3OrS",
        "colab_type": "code",
        "colab": {}
      },
      "source": [
        "def main():\n",
        "  pass \n",
        "\n",
        "main()"
      ],
      "execution_count": null,
      "outputs": []
    },
    {
      "cell_type": "markdown",
      "metadata": {
        "id": "bzxpVY8R38Jm",
        "colab_type": "text"
      },
      "source": [
        "## Criando funções\n",
        "\n",
        "A sintaxe da função é definida por três partes:\n",
        "\n",
        " - nome.\n",
        " - paramêtros.\n",
        " - comportamento.\n",
        "\n",
        " No código abaixo temos um exemplo de declaração de funções em python."
      ]
    },
    {
      "cell_type": "code",
      "metadata": {
        "id": "7lRVjSDZ391O",
        "colab_type": "code",
        "colab": {}
      },
      "source": [
        "def nome(parametro1):\n",
        "  comportamento = ''"
      ],
      "execution_count": null,
      "outputs": []
    },
    {
      "cell_type": "code",
      "metadata": {
        "id": "TRvqmKaG5qIW",
        "colab_type": "code",
        "colab": {}
      },
      "source": [
        "def ola(meu_nome):\n",
        "  print('ola', meu_nome)\n"
      ],
      "execution_count": null,
      "outputs": []
    },
    {
      "cell_type": "markdown",
      "metadata": {
        "id": "RR_Bsnq051KX",
        "colab_type": "text"
      },
      "source": [
        "Para chamarmos uma função basta utilizarmos seu nome com seus paramêtros (se for necessário)."
      ]
    },
    {
      "cell_type": "code",
      "metadata": {
        "id": "fkXC10VN5u7J",
        "colab_type": "code",
        "colab": {
          "base_uri": "https://localhost:8080/",
          "height": 34
        },
        "outputId": "13f385f0-b13e-4ae6-e34d-2ee3c723f66a"
      },
      "source": [
        "ola('felipe')"
      ],
      "execution_count": null,
      "outputs": [
        {
          "output_type": "stream",
          "text": [
            "ola felipe\n"
          ],
          "name": "stdout"
        }
      ]
    },
    {
      "cell_type": "markdown",
      "metadata": {
        "id": "QlhnFaco7akD",
        "colab_type": "text"
      },
      "source": [
        "Funções com mais de um paramêtro"
      ]
    },
    {
      "cell_type": "code",
      "metadata": {
        "id": "n2f2rM1j7c2K",
        "colab_type": "code",
        "colab": {
          "base_uri": "https://localhost:8080/",
          "height": 34
        },
        "outputId": "a0f378a4-b055-48b0-cbde-5dc78af0784e"
      },
      "source": [
        "def ola_idade(meu_nome, minha_idade):\n",
        "  print(f'Meu nome é {meu_nome} e tenho {minha_idade} anos.')\n",
        "\n",
        "ola_idade('felipe', 23)"
      ],
      "execution_count": null,
      "outputs": [
        {
          "output_type": "stream",
          "text": [
            "Meu nome é felipe e tenho 23 anos.\n"
          ],
          "name": "stdout"
        }
      ]
    },
    {
      "cell_type": "code",
      "metadata": {
        "id": "swgBvH1q8M77",
        "colab_type": "code",
        "colab": {
          "base_uri": "https://localhost:8080/",
          "height": 34
        },
        "outputId": "a639a448-b142-4fb8-8cd7-1606a1924296"
      },
      "source": [
        "def media(nota1, nota2):\n",
        "  media = (nota1 + nota2) / 2\n",
        "  return media\n",
        "\n",
        "minha_media = media(9,5)\n",
        "print(minha_media)"
      ],
      "execution_count": null,
      "outputs": [
        {
          "output_type": "stream",
          "text": [
            "7.0\n"
          ],
          "name": "stdout"
        }
      ]
    },
    {
      "cell_type": "markdown",
      "metadata": {
        "id": "a2vBEpl08qjv",
        "colab_type": "text"
      },
      "source": [
        "## Desafio 7.1\n",
        "\n",
        "Uma função para media onde o usuário informa o valores das notas."
      ]
    },
    {
      "cell_type": "code",
      "metadata": {
        "id": "QCI3UcM8ZeS-",
        "colab_type": "code",
        "colab": {
          "base_uri": "https://localhost:8080/",
          "height": 85
        },
        "outputId": "d811b801-24b9-485f-a74d-4aad924e67b5"
      },
      "source": [
        "def mediaNotas():\n",
        "  nota1 = int(input(\"Digite sua 1 nota:\"))\n",
        "  nota2 = int(input(\"Digite sua segunda nota:\"))\n",
        "  media = (nota1 + nota2) / 2\n",
        "  return media\n",
        "  \n",
        "minha_media = mediaNotas()\n",
        "print(f'\\nA media do aluno é {minha_media}')\n",
        "\n",
        "\n"
      ],
      "execution_count": null,
      "outputs": [
        {
          "output_type": "stream",
          "text": [
            "Digite sua 1 nota:8\n",
            "Digite sua segunda nota:7\n",
            "\n",
            "A media do aluno é 7.5\n"
          ],
          "name": "stdout"
        }
      ]
    },
    {
      "cell_type": "markdown",
      "metadata": {
        "id": "dmb7Q9Mt9AI1",
        "colab_type": "text"
      },
      "source": [
        "## Desafio 7.2\n",
        "\n",
        "Uma função que chama outra função\n",
        "\n",
        " - A primeira recebe duas notas.\n",
        " - A segunda calcula a media."
      ]
    },
    {
      "cell_type": "code",
      "metadata": {
        "id": "ZNEeJs42aGiM",
        "colab_type": "code",
        "colab": {
          "base_uri": "https://localhost:8080/",
          "height": 85
        },
        "outputId": "00e4a6a0-d9a1-4178-b6f0-f46ed349d50a"
      },
      "source": [
        "def media():\n",
        "  nota1 = float(input(\"Digite sua 1 nota:\"))\n",
        "  nota2 = float(input(\"Digite sua segunda nota:\"))\n",
        "  return calcular_media(nota1, nota2)\n",
        "\n",
        "def calcular_media(nota1, nota2):\n",
        "  media = (nota1 + nota2) / 2\n",
        "  return media\n",
        "\n",
        "minha_media = media()\n",
        "print(f'\\nA media do aluno é {minha_media}')"
      ],
      "execution_count": null,
      "outputs": [
        {
          "output_type": "stream",
          "text": [
            "Digite sua 1 nota:8\n",
            "Digite sua segunda nota:8\n",
            "\n",
            "A media do aluno é 8.0\n"
          ],
          "name": "stdout"
        }
      ]
    },
    {
      "cell_type": "markdown",
      "metadata": {
        "id": "KDJCX9DR9RMd",
        "colab_type": "text"
      },
      "source": [
        "## Desafio 7.3\n",
        "\n",
        "Funções com funções dentro dela.\n",
        "\n",
        "A primeira recebe as notas e a segunda calcula a media.\n",
        "\n",
        "A primeira então vai retornar a media que ela calculou e então uma terceira função vai saber se o aluno foi aprovado. "
      ]
    },
    {
      "cell_type": "code",
      "metadata": {
        "id": "_py4UfhV9wi4",
        "colab_type": "code",
        "colab": {
          "base_uri": "https://localhost:8080/",
          "height": 68
        },
        "outputId": "c757388e-8775-4caf-f392-76c847ea230d"
      },
      "source": [
        "def media():\n",
        "  nota1 = float(input(\"Digite sua 1 nota:\"))\n",
        "  nota2 = float(input(\"Digite sua segunda nota:\"))\n",
        "  return calcular_media(nota1, nota2)\n",
        "\n",
        "def calcular_media(nota1, nota2):\n",
        "  media = (nota1 + nota2) / 2\n",
        "  return media\n",
        "\n",
        "def calcular_aprovacao(media):\n",
        "  if media >= 6:\n",
        "    print(\"Aluno aprovado\")\n",
        "  else:\n",
        "    print(\"Aluno reprovado\")\n",
        "\n",
        "calcular_aprovacao(media())"
      ],
      "execution_count": null,
      "outputs": [
        {
          "output_type": "stream",
          "text": [
            "Digite sua 1 nota:9\n",
            "Digite sua segunda nota:9\n",
            "Aluno aprovado\n"
          ],
          "name": "stdout"
        }
      ]
    },
    {
      "cell_type": "markdown",
      "metadata": {
        "id": "blqAyUgMiHyM",
        "colab_type": "text"
      },
      "source": [
        "##**Aprendemos com os desafios:**\n",
        "\n",
        "- Uma função pode chamar outra função dentro dela.\n",
        "\n",
        "- podemos retornar (return) uma função, contanto que essa função de retorno tambem retorne um valor.\n",
        "\n",
        "- Podemos enviar uma função por paramêtro, contanto que essa função enviada retorne um valor."
      ]
    },
    {
      "cell_type": "markdown",
      "metadata": {
        "id": "GLGZsNtF7mba",
        "colab_type": "text"
      },
      "source": [
        "## Funções nativas do python\n",
        "\n",
        " * Funções nativas do python são usadas o tempo todo, já usavamos antes mesmo de saber que eram funções.\n",
        "\n",
        " * Ex:\n",
        "\n",
        "    * Print(): Mostra um valor para o usuário --> Não retorna dado, então não possui return.\n",
        "\n",
        "    * List(): Cria uma lista --> Retorna um dado, então é uma função com return.\n",
        "\n",
        "    * Int(): É uma função de cast(conversão de dado) que transforma o tipo de dado em inteiro.\n",
        "\n",
        "    * Str(): É uma função de cast(conversão de dado) que transforma o tipo variável em string.\n",
        "    * Bool(): É uma função de cast(conversão de dado) que transforma o tipo de variavel para booleano.\n",
        "\n",
        "    * Float(): É uma função de cast(conversão de dado) que transforma o tipo de variavel para float.\n",
        "\n",
        "    * Type() : Mostra o tipo de dado.\n",
        "    \n",
        "    * Dir(): Mostra as opções de um determinado paramêtro(variavel/classe/função).\n",
        "    * Help(): Mostra uma ajuda para uma determinada função/classe/variável."
      ]
    },
    {
      "cell_type": "code",
      "metadata": {
        "id": "CXXRebPn7pPu",
        "colab_type": "code",
        "colab": {
          "base_uri": "https://localhost:8080/",
          "height": 51
        },
        "outputId": "b3872f84-aadb-47dc-8bf0-23604ef7d426"
      },
      "source": [
        "# dir()\n",
        "# help()\n",
        "\n",
        "print(\"ola\") # função nativa do python\n",
        "lista = list([1, 2, 3, 4]) # Função nativa que retorna um dado (lista)\n",
        "\n",
        "# Função cast --> conversoês de tipo de dados\n",
        "\n",
        "meu_numero = int('123')\n",
        "minha_string = str(123)\n",
        "meu_numero_real = float('12.3')\n",
        "\n",
        "# type --> Mostra o tipo\n",
        "\n",
        "print(type(meu_numero))\n",
        "print(type(minha_string))\n",
        "print(type(meu_numero_real))"
      ],
      "execution_count": null,
      "outputs": [
        {
          "output_type": "stream",
          "text": [
            "ola\n"
          ],
          "name": "stdout"
        },
        {
          "output_type": "execute_result",
          "data": {
            "text/plain": [
              "float"
            ]
          },
          "metadata": {
            "tags": []
          },
          "execution_count": 1
        }
      ]
    },
    {
      "cell_type": "markdown",
      "metadata": {
        "id": "Y8nVoQneDHnQ",
        "colab_type": "text"
      },
      "source": [
        "**Funções nativas do python fica no __builtin__ do python**\n",
        "\n",
        "Funções nativas podem ser usadas em qualquer lugar do nosso código, pois ela já vem com o python. "
      ]
    },
    {
      "cell_type": "code",
      "metadata": {
        "id": "hgPMEqWLDaYC",
        "colab_type": "code",
        "colab": {
          "base_uri": "https://localhost:8080/",
          "height": 1000
        },
        "outputId": "18571863-5c74-4524-f2e9-3124686bf6cb"
      },
      "source": [
        "dir(__builtin__) # mostra as opções de um determinado dado/classe --> As possiveis operações com aquela variável."
      ],
      "execution_count": null,
      "outputs": [
        {
          "output_type": "execute_result",
          "data": {
            "text/plain": [
              "['ArithmeticError',\n",
              " 'AssertionError',\n",
              " 'AttributeError',\n",
              " 'BaseException',\n",
              " 'BlockingIOError',\n",
              " 'BrokenPipeError',\n",
              " 'BufferError',\n",
              " 'BytesWarning',\n",
              " 'ChildProcessError',\n",
              " 'ConnectionAbortedError',\n",
              " 'ConnectionError',\n",
              " 'ConnectionRefusedError',\n",
              " 'ConnectionResetError',\n",
              " 'DeprecationWarning',\n",
              " 'EOFError',\n",
              " 'Ellipsis',\n",
              " 'EnvironmentError',\n",
              " 'Exception',\n",
              " 'False',\n",
              " 'FileExistsError',\n",
              " 'FileNotFoundError',\n",
              " 'FloatingPointError',\n",
              " 'FutureWarning',\n",
              " 'GeneratorExit',\n",
              " 'IOError',\n",
              " 'ImportError',\n",
              " 'ImportWarning',\n",
              " 'IndentationError',\n",
              " 'IndexError',\n",
              " 'InterruptedError',\n",
              " 'IsADirectoryError',\n",
              " 'KeyError',\n",
              " 'KeyboardInterrupt',\n",
              " 'LookupError',\n",
              " 'MemoryError',\n",
              " 'ModuleNotFoundError',\n",
              " 'NameError',\n",
              " 'None',\n",
              " 'NotADirectoryError',\n",
              " 'NotImplemented',\n",
              " 'NotImplementedError',\n",
              " 'OSError',\n",
              " 'OverflowError',\n",
              " 'PendingDeprecationWarning',\n",
              " 'PermissionError',\n",
              " 'ProcessLookupError',\n",
              " 'RecursionError',\n",
              " 'ReferenceError',\n",
              " 'ResourceWarning',\n",
              " 'RuntimeError',\n",
              " 'RuntimeWarning',\n",
              " 'StopAsyncIteration',\n",
              " 'StopIteration',\n",
              " 'SyntaxError',\n",
              " 'SyntaxWarning',\n",
              " 'SystemError',\n",
              " 'SystemExit',\n",
              " 'TabError',\n",
              " 'TimeoutError',\n",
              " 'True',\n",
              " 'TypeError',\n",
              " 'UnboundLocalError',\n",
              " 'UnicodeDecodeError',\n",
              " 'UnicodeEncodeError',\n",
              " 'UnicodeError',\n",
              " 'UnicodeTranslateError',\n",
              " 'UnicodeWarning',\n",
              " 'UserWarning',\n",
              " 'ValueError',\n",
              " 'Warning',\n",
              " 'ZeroDivisionError',\n",
              " '__IPYTHON__',\n",
              " '__build_class__',\n",
              " '__debug__',\n",
              " '__doc__',\n",
              " '__import__',\n",
              " '__loader__',\n",
              " '__name__',\n",
              " '__package__',\n",
              " '__spec__',\n",
              " 'abs',\n",
              " 'all',\n",
              " 'any',\n",
              " 'ascii',\n",
              " 'bin',\n",
              " 'bool',\n",
              " 'bytearray',\n",
              " 'bytes',\n",
              " 'callable',\n",
              " 'chr',\n",
              " 'classmethod',\n",
              " 'compile',\n",
              " 'complex',\n",
              " 'copyright',\n",
              " 'credits',\n",
              " 'delattr',\n",
              " 'dict',\n",
              " 'dir',\n",
              " 'display',\n",
              " 'divmod',\n",
              " 'dreload',\n",
              " 'enumerate',\n",
              " 'eval',\n",
              " 'exec',\n",
              " 'filter',\n",
              " 'float',\n",
              " 'format',\n",
              " 'frozenset',\n",
              " 'get_ipython',\n",
              " 'getattr',\n",
              " 'globals',\n",
              " 'hasattr',\n",
              " 'hash',\n",
              " 'help',\n",
              " 'hex',\n",
              " 'id',\n",
              " 'input',\n",
              " 'int',\n",
              " 'isinstance',\n",
              " 'issubclass',\n",
              " 'iter',\n",
              " 'len',\n",
              " 'license',\n",
              " 'list',\n",
              " 'locals',\n",
              " 'map',\n",
              " 'max',\n",
              " 'memoryview',\n",
              " 'min',\n",
              " 'next',\n",
              " 'object',\n",
              " 'oct',\n",
              " 'open',\n",
              " 'ord',\n",
              " 'pow',\n",
              " 'print',\n",
              " 'property',\n",
              " 'range',\n",
              " 'repr',\n",
              " 'reversed',\n",
              " 'round',\n",
              " 'set',\n",
              " 'setattr',\n",
              " 'slice',\n",
              " 'sorted',\n",
              " 'staticmethod',\n",
              " 'str',\n",
              " 'sum',\n",
              " 'super',\n",
              " 'tuple',\n",
              " 'type',\n",
              " 'vars',\n",
              " 'zip']"
            ]
          },
          "metadata": {
            "tags": []
          },
          "execution_count": 2
        }
      ]
    },
    {
      "cell_type": "code",
      "metadata": {
        "id": "AN4y4cCeF8XS",
        "colab_type": "code",
        "colab": {
          "base_uri": "https://localhost:8080/",
          "height": 799
        },
        "outputId": "f3a592c4-2e7a-48c9-daf4-977f1d7c5804"
      },
      "source": [
        "dir(list())"
      ],
      "execution_count": null,
      "outputs": [
        {
          "output_type": "execute_result",
          "data": {
            "text/plain": [
              "['__add__',\n",
              " '__class__',\n",
              " '__contains__',\n",
              " '__delattr__',\n",
              " '__delitem__',\n",
              " '__dir__',\n",
              " '__doc__',\n",
              " '__eq__',\n",
              " '__format__',\n",
              " '__ge__',\n",
              " '__getattribute__',\n",
              " '__getitem__',\n",
              " '__gt__',\n",
              " '__hash__',\n",
              " '__iadd__',\n",
              " '__imul__',\n",
              " '__init__',\n",
              " '__init_subclass__',\n",
              " '__iter__',\n",
              " '__le__',\n",
              " '__len__',\n",
              " '__lt__',\n",
              " '__mul__',\n",
              " '__ne__',\n",
              " '__new__',\n",
              " '__reduce__',\n",
              " '__reduce_ex__',\n",
              " '__repr__',\n",
              " '__reversed__',\n",
              " '__rmul__',\n",
              " '__setattr__',\n",
              " '__setitem__',\n",
              " '__sizeof__',\n",
              " '__str__',\n",
              " '__subclasshook__',\n",
              " 'append',\n",
              " 'clear',\n",
              " 'copy',\n",
              " 'count',\n",
              " 'extend',\n",
              " 'index',\n",
              " 'insert',\n",
              " 'pop',\n",
              " 'remove',\n",
              " 'reverse',\n",
              " 'sort']"
            ]
          },
          "metadata": {
            "tags": []
          },
          "execution_count": 3
        }
      ]
    },
    {
      "cell_type": "code",
      "metadata": {
        "id": "j39ETMEaF-u3",
        "colab_type": "code",
        "colab": {
          "base_uri": "https://localhost:8080/",
          "height": 34
        },
        "outputId": "38a3f250-e398-4a2b-fefa-101692605851"
      },
      "source": [
        "lista = [1, 2, 3, 4]\n",
        "lista.reverse # chute 1\n",
        "lista.reverse() # chute 2\n",
        "lista # aprendi no chute que o reverse mostra o inverso de lista"
      ],
      "execution_count": null,
      "outputs": [
        {
          "output_type": "execute_result",
          "data": {
            "text/plain": [
              "[4, 3, 2, 1]"
            ]
          },
          "metadata": {
            "tags": []
          },
          "execution_count": 4
        }
      ]
    },
    {
      "cell_type": "markdown",
      "metadata": {
        "id": "9MT7kf8KHFsF",
        "colab_type": "text"
      },
      "source": [
        "**Para mostrar uma ajuda de uma determinada função/classe/variável eu posso usar a função help()**"
      ]
    },
    {
      "cell_type": "code",
      "metadata": {
        "id": "JxSBT9-VGRsg",
        "colab_type": "code",
        "colab": {
          "base_uri": "https://localhost:8080/",
          "height": 102
        },
        "outputId": "33a7cc96-740d-4c2d-e463-c2054c113eb8"
      },
      "source": [
        "help(list().reverse)"
      ],
      "execution_count": null,
      "outputs": [
        {
          "output_type": "stream",
          "text": [
            "Help on built-in function reverse:\n",
            "\n",
            "reverse(...) method of builtins.list instance\n",
            "    L.reverse() -- reverse *IN PLACE*\n",
            "\n"
          ],
          "name": "stdout"
        }
      ]
    },
    {
      "cell_type": "code",
      "metadata": {
        "id": "bgyZD4xMGaFR",
        "colab_type": "code",
        "colab": {
          "base_uri": "https://localhost:8080/",
          "height": 102
        },
        "outputId": "eb9f2781-5c00-47d3-fc91-44faf0847e15"
      },
      "source": [
        "help(abs) # abs Retorna o valor absoluto"
      ],
      "execution_count": null,
      "outputs": [
        {
          "output_type": "stream",
          "text": [
            "Help on built-in function abs in module builtins:\n",
            "\n",
            "abs(x, /)\n",
            "    Return the absolute value of the argument.\n",
            "\n"
          ],
          "name": "stdout"
        }
      ]
    },
    {
      "cell_type": "markdown",
      "metadata": {
        "id": "o8Ndicl574Tx",
        "colab_type": "text"
      },
      "source": [
        "O help também funciona enviando uma string por paramêmetro.\n",
        "\n",
        "Ele irá procurar uma função com aquele nome e retornar uma ajuda."
      ]
    },
    {
      "cell_type": "code",
      "metadata": {
        "id": "YNXHbpipHgwz",
        "colab_type": "code",
        "colab": {
          "base_uri": "https://localhost:8080/",
          "height": 221
        },
        "outputId": "ef408efe-b453-4a51-f372-9dbcdc0d4c8a"
      },
      "source": [
        "help(print)"
      ],
      "execution_count": null,
      "outputs": [
        {
          "output_type": "stream",
          "text": [
            "Help on built-in function print in module builtins:\n",
            "\n",
            "print(...)\n",
            "    print(value, ..., sep=' ', end='\\n', file=sys.stdout, flush=False)\n",
            "    \n",
            "    Prints the values to a stream, or to sys.stdout by default.\n",
            "    Optional keyword arguments:\n",
            "    file:  a file-like object (stream); defaults to the current sys.stdout.\n",
            "    sep:   string inserted between values, default a space.\n",
            "    end:   string appended after the last value, default a newline.\n",
            "    flush: whether to forcibly flush the stream.\n",
            "\n"
          ],
          "name": "stdout"
        }
      ]
    },
    {
      "cell_type": "markdown",
      "metadata": {
        "id": "2OvLIkNl8uI9",
        "colab_type": "text"
      },
      "source": [
        "**Com o help() aprendemos que:**\n",
        "\n",
        "- O paramêtro \"sep\" altera o separador em um print(,) --> padrão = espaço (\" \").\n",
        "- Oparamêtro \"end\" altera o final da linha em um print --> padrão = quebra de linha(\"\\n\"). "
      ]
    },
    {
      "cell_type": "code",
      "metadata": {
        "id": "ergyYA617VAC",
        "colab_type": "code",
        "colab": {
          "base_uri": "https://localhost:8080/",
          "height": 34
        },
        "outputId": "06ad860d-4e87-4016-90ad-6dd36ca7a13c"
      },
      "source": [
        "print(\"ola\", \"mundo\", \"eu\", \"Sou\", \"o\", \"Felipe\", sep=\"-\")"
      ],
      "execution_count": null,
      "outputs": [
        {
          "output_type": "stream",
          "text": [
            "ola-mundo-eu-Sou-o-Felipe\n"
          ],
          "name": "stdout"
        }
      ]
    },
    {
      "cell_type": "code",
      "metadata": {
        "id": "IlBezDfE7h6k",
        "colab_type": "code",
        "colab": {
          "base_uri": "https://localhost:8080/",
          "height": 34
        },
        "outputId": "cc0ebb86-0fc6-466c-edfe-fa4249ab3e82"
      },
      "source": [
        "print('ola', end=' ')\n",
        "print('mundo', end=' ')\n",
        "print('eu', end=' ')\n",
        "print('sou', end=' ')\n",
        "print('o', end=' ')\n",
        "print('felipe')"
      ],
      "execution_count": null,
      "outputs": [
        {
          "output_type": "stream",
          "text": [
            "ola mundo eu sou o felipe\n"
          ],
          "name": "stdout"
        }
      ]
    }
  ]
}