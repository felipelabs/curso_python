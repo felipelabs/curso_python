{
  "nbformat": 4,
  "nbformat_minor": 0,
  "metadata": {
    "colab": {
      "name": "Aula 08 -Pacotes.ipynb",
      "provenance": [],
      "collapsed_sections": [],
      "authorship_tag": "ABX9TyMVk+UvM3KSIY6Vy7WlDNGY",
      "include_colab_link": true
    },
    "kernelspec": {
      "name": "python3",
      "display_name": "Python 3"
    }
  },
  "cells": [
    {
      "cell_type": "markdown",
      "metadata": {
        "id": "view-in-github",
        "colab_type": "text"
      },
      "source": [
        "<a href=\"https://colab.research.google.com/github/felipelabs/curso_python/blob/master/Aula_08_Pacotes.ipynb\" target=\"_parent\"><img src=\"https://colab.research.google.com/assets/colab-badge.svg\" alt=\"Open In Colab\"/></a>"
      ]
    },
    {
      "cell_type": "markdown",
      "metadata": {
        "id": "wXVg28J5lg2W",
        "colab_type": "text"
      },
      "source": [
        "# Pacotes e Modulos"
      ]
    },
    {
      "cell_type": "markdown",
      "metadata": {
        "id": "ZVKI39jnlsCv",
        "colab_type": "text"
      },
      "source": [
        "## Builtins vs Standard Lib\n",
        "\n",
        "Todos os métodos e propiedades do Builtins é acessivel **SEMPRE EM QUALQUER LUGAR.**\n",
        "\n",
        "Já os metodos, classes e propiedades de Standard Lib existe no python mas não ser usado naturalmente, precisamos chama-los antes(**Importar**)."
      ]
    },
    {
      "cell_type": "markdown",
      "metadata": {
        "id": "F3B85WNttTyQ",
        "colab_type": "text"
      },
      "source": [
        "## Importando Modulos"
      ]
    },
    {
      "cell_type": "markdown",
      "metadata": {
        "id": "-lz4IRQkvRNM",
        "colab_type": "text"
      },
      "source": [
        "### Importando modulos completos"
      ]
    },
    {
      "cell_type": "markdown",
      "metadata": {
        "id": "RKgGnv0cuvW-",
        "colab_type": "text"
      },
      "source": [
        "Para importar um modulo nós podemos usar a palavra **import** e na frente colocar o modulo que queremos importar.\n",
        "\n",
        "Com isso importaremos **TUDO** desses módulos."
      ]
    },
    {
      "cell_type": "code",
      "metadata": {
        "id": "DTZHBbEnUbRh",
        "colab_type": "code",
        "colab": {
          "base_uri": "https://localhost:8080/",
          "height": 51
        },
        "outputId": "1059e8e0-d3d5-4a02-bb19-9f66aa2b6c08"
      },
      "source": [
        "import math\n",
        "import random\n",
        "\n",
        "print(math.isfinite(1))\n",
        "print(random.random())"
      ],
      "execution_count": null,
      "outputs": [
        {
          "output_type": "stream",
          "text": [
            "True\n",
            "0.6679061372088072\n"
          ],
          "name": "stdout"
        }
      ]
    },
    {
      "cell_type": "code",
      "metadata": {
        "id": "MdwA298LviIO",
        "colab_type": "code",
        "colab": {
          "base_uri": "https://localhost:8080/",
          "height": 51
        },
        "outputId": "c37b861b-fcdb-4be5-aceb-79e29d905e3f"
      },
      "source": [
        "import math, random\n",
        "\n",
        "print(math.isfinite(1))\n",
        "print(random.random())"
      ],
      "execution_count": null,
      "outputs": [
        {
          "output_type": "stream",
          "text": [
            "True\n",
            "0.23159595885573525\n"
          ],
          "name": "stdout"
        }
      ]
    },
    {
      "cell_type": "code",
      "metadata": {
        "id": "EJRlbI7NuatD",
        "colab_type": "code",
        "colab": {
          "base_uri": "https://localhost:8080/",
          "height": 34
        },
        "outputId": "7836f82f-c966-450f-9284-a2de72952845"
      },
      "source": [
        "from math import pow\n",
        "\n",
        "pow(5, 3)"
      ],
      "execution_count": null,
      "outputs": [
        {
          "output_type": "execute_result",
          "data": {
            "text/plain": [
              "125.0"
            ]
          },
          "metadata": {
            "tags": []
          },
          "execution_count": 3
        }
      ]
    },
    {
      "cell_type": "markdown",
      "metadata": {
        "id": "0w7Bkn-vvm5m",
        "colab_type": "text"
      },
      "source": [
        "### Importando apenas uma parte do módulo.\n",
        "Podemos usar a palavra **from** para definirmos a fonte (da onde está tirando o que queremos) e usar a palavra import para definir o que queremos. "
      ]
    },
    {
      "cell_type": "markdown",
      "metadata": {
        "id": "qhJxr9_OvI83",
        "colab_type": "text"
      },
      "source": [
        "Caso queremos importar mais de um  modulo podemos usar a virgula entre eles."
      ]
    },
    {
      "cell_type": "code",
      "metadata": {
        "id": "EqDl9yIGukvE",
        "colab_type": "code",
        "colab": {
          "base_uri": "https://localhost:8080/",
          "height": 34
        },
        "outputId": "8c18f279-d34c-4db6-ead9-dd70f423a09b"
      },
      "source": [
        "from math import pow, isfinite\n",
        "\n",
        "pow(4,2)\n",
        "isfinite(1)"
      ],
      "execution_count": null,
      "outputs": [
        {
          "output_type": "execute_result",
          "data": {
            "text/plain": [
              "True"
            ]
          },
          "metadata": {
            "tags": []
          },
          "execution_count": 4
        }
      ]
    },
    {
      "cell_type": "markdown",
      "metadata": {
        "id": "Sz2nUCgTwR7C",
        "colab_type": "text"
      },
      "source": [
        "## Importando de forma nomeada\n",
        "Nós podemos usar a palavra **as** para definirmos um nome para nossa importação.\n",
        "\n",
        "Ela funciona para importar um modulo completo quanto apenas uma parte dele."
      ]
    },
    {
      "cell_type": "code",
      "metadata": {
        "id": "DwiqArsWwUBK",
        "colab_type": "code",
        "colab": {
          "base_uri": "https://localhost:8080/",
          "height": 34
        },
        "outputId": "713a5b5b-88e1-4714-8608-169f4be934e7"
      },
      "source": [
        "import math as matematica\n",
        "\n",
        "matematica.pow(4,2)"
      ],
      "execution_count": null,
      "outputs": [
        {
          "output_type": "execute_result",
          "data": {
            "text/plain": [
              "16.0"
            ]
          },
          "metadata": {
            "tags": []
          },
          "execution_count": 6
        }
      ]
    },
    {
      "cell_type": "markdown",
      "metadata": {
        "id": "qW84SYfcw1OT",
        "colab_type": "text"
      },
      "source": [
        "## Modulo math\n",
        "\n",
        "Principal modulo para matemática"
      ]
    },
    {
      "cell_type": "code",
      "metadata": {
        "id": "iGKB0JzAw6PZ",
        "colab_type": "code",
        "colab": {}
      },
      "source": [
        "import math\n",
        "\n",
        "# Retorna o fatorial de um numero\n",
        "fat = math.factorial(5)\n",
        "\n",
        "# Raiz quadrada\n",
        "raiz = math.sqrt(25)\n",
        "\n",
        "#Cosseno(radiano)\n",
        "\n",
        "cos = math.cos(90)\n",
        "\n",
        "# pi\n",
        "\n",
        "pi = math.pi"
      ],
      "execution_count": null,
      "outputs": []
    },
    {
      "cell_type": "markdown",
      "metadata": {
        "id": "3C45kE0Mycgf",
        "colab_type": "text"
      },
      "source": [
        "## Módulo Random\n",
        "\n",
        "Permite trabalhar com valores **pseudo-aleátorios**.\n",
        "\n",
        "\n",
        "\n"
      ]
    },
    {
      "cell_type": "code",
      "metadata": {
        "id": "5L6STVp5yi_S",
        "colab_type": "code",
        "colab": {
          "base_uri": "https://localhost:8080/",
          "height": 68
        },
        "outputId": "b63bb70a-3a3c-4fd4-e85c-847995c2ec9d"
      },
      "source": [
        "from random import random, randrange, seed\n",
        "\n",
        "# semente para configurar a geração de numeros aleatórios\n",
        "seed(time.time())\n",
        "\n",
        "# intervalo entre 0 e 1\n",
        "aleatorio = random()\n",
        "print(aleatorio)\n",
        "\n",
        "# Minimo - Inclusivo (entra na hora do sorteio)\n",
        "# Maximo - Exclusivo (não entra na hora do sorteio)\n",
        "\n",
        "intervalo = randrange(-10, 10)\n",
        "print(intervalo)\n",
        "\n",
        "for i in range(0,20):\n",
        "  intervalo = randrange(-10, 10)\n",
        "  print(intervalo, end=\", \")"
      ],
      "execution_count": null,
      "outputs": [
        {
          "output_type": "stream",
          "text": [
            "0.7822255925961574\n",
            "-10\n",
            "3, 0, -10, -1, 7, 2, 3, -1, -8, -5, 5, -3, -9, 2, -1, 1, 9, -8, -10, 8, "
          ],
          "name": "stdout"
        }
      ]
    },
    {
      "cell_type": "code",
      "metadata": {
        "id": "Eld4Yfm60LUq",
        "colab_type": "code",
        "colab": {
          "base_uri": "https://localhost:8080/",
          "height": 34
        },
        "outputId": "e2462015-8cfb-4bcc-a625-27d861d0c392"
      },
      "source": [
        "intervalo = randrange(-10, 10)\n",
        "\n",
        "print(intervalo)"
      ],
      "execution_count": null,
      "outputs": [
        {
          "output_type": "stream",
          "text": [
            "-8\n"
          ],
          "name": "stdout"
        }
      ]
    },
    {
      "cell_type": "markdown",
      "metadata": {
        "id": "h4BTKwPF0WT7",
        "colab_type": "text"
      },
      "source": [
        "## Modulo Time \n",
        "\n",
        "Permite trabalhar com o tempo"
      ]
    },
    {
      "cell_type": "code",
      "metadata": {
        "id": "BqA0rSpd0cTA",
        "colab_type": "code",
        "colab": {
          "base_uri": "https://localhost:8080/",
          "height": 34
        },
        "outputId": "9ce0b8dd-4c36-4866-f346-5a81230cd90a"
      },
      "source": [
        "import time \n",
        "\n",
        "# Pega a hora em segundos \n",
        "hora = time.time()\n",
        "\n",
        "# Posso formatar e mostrar a data\n",
        "time.strftime(\"%H:%M:%S\")\n",
        "\n",
        "# Operações\n",
        "\n",
        "hora = hora - 100\n",
        "\n",
        "diferenca = time.time() - 100\n",
        "print(diferenca)"
      ],
      "execution_count": null,
      "outputs": [
        {
          "output_type": "stream",
          "text": [
            "1594252283.3749378\n"
          ],
          "name": "stdout"
        }
      ]
    },
    {
      "cell_type": "code",
      "metadata": {
        "id": "4_35TxD61eYS",
        "colab_type": "code",
        "colab": {
          "base_uri": "https://localhost:8080/",
          "height": 51
        },
        "outputId": "704dc7b2-215c-4525-e88d-ee107b6ff1bf"
      },
      "source": [
        "hora"
      ],
      "execution_count": null,
      "outputs": [
        {
          "output_type": "stream",
          "text": [
            "1594252114.8691018\n",
            "1594252114.8691018\n"
          ],
          "name": "stdout"
        }
      ]
    },
    {
      "cell_type": "markdown",
      "metadata": {
        "id": "1S5BmQESBTdu",
        "colab_type": "text"
      },
      "source": [
        "## Trabalhando Com Pacotes Externos\n",
        "\n"
      ]
    },
    {
      "cell_type": "markdown",
      "metadata": {
        "id": "iVfWkl1MBawe",
        "colab_type": "text"
      },
      "source": [
        "## Numpy\n",
        "\n",
        "Para trabalhar com arrays(vetores) de forma mais facil e rapida.\n",
        "\n",
        "\"Trabalhar com super listas\"."
      ]
    },
    {
      "cell_type": "code",
      "metadata": {
        "id": "e9Z2lZUGDaWD",
        "colab_type": "code",
        "colab": {}
      },
      "source": [
        "import numpy as np\n",
        "\n",
        "#vetor - sequência de elementos\n",
        "\n",
        "vetor = np.arange(20)\n",
        "\n",
        "# 4 linhas X 5 colunas\n",
        "\n",
        "vetor = vetor.reshape(4, 5)\n",
        "\n",
        "# mostra as dimensões\n",
        "\n",
        "dim = vetor.ndim"
      ],
      "execution_count": 7,
      "outputs": []
    },
    {
      "cell_type": "code",
      "metadata": {
        "id": "hg6AlUTWDzic",
        "colab_type": "code",
        "colab": {
          "base_uri": "https://localhost:8080/",
          "height": 85
        },
        "outputId": "346db0e1-e4ba-4733-a1a0-177d69adccb6"
      },
      "source": [
        "print(vetor)"
      ],
      "execution_count": 6,
      "outputs": [
        {
          "output_type": "stream",
          "text": [
            "[[ 0  1  2  3  4]\n",
            " [ 5  6  7  8  9]\n",
            " [10 11 12 13 14]\n",
            " [15 16 17 18 19]]\n"
          ],
          "name": "stdout"
        }
      ]
    },
    {
      "cell_type": "code",
      "metadata": {
        "id": "tEyK_TTCEdax",
        "colab_type": "code",
        "colab": {
          "base_uri": "https://localhost:8080/",
          "height": 34
        },
        "outputId": "714e477e-ce13-4d48-c824-60336f8ab7dd"
      },
      "source": [
        "dim"
      ],
      "execution_count": 8,
      "outputs": [
        {
          "output_type": "execute_result",
          "data": {
            "text/plain": [
              "2"
            ]
          },
          "metadata": {
            "tags": []
          },
          "execution_count": 8
        }
      ]
    },
    {
      "cell_type": "code",
      "metadata": {
        "id": "RJYjlBLpEzDA",
        "colab_type": "code",
        "colab": {
          "base_uri": "https://localhost:8080/",
          "height": 391
        },
        "outputId": "c9046c37-2862-46e7-d2c9-462b830d9be4"
      },
      "source": [
        "# operações com vetor\n",
        "\n",
        "print(\"Adição:\",(vetor + 2))\n",
        "print('\\nSubtração:\\n',(vetor - 2))\n",
        "print('\\nMultiplocação:\\n', (vetor * 2))\n",
        "print(\"\\nDivisão:\\n\",(vetor / 2) )"
      ],
      "execution_count": 15,
      "outputs": [
        {
          "output_type": "stream",
          "text": [
            "Adição: [[ 2  3  4  5  6]\n",
            " [ 7  8  9 10 11]\n",
            " [12 13 14 15 16]\n",
            " [17 18 19 20 21]]\n",
            "\n",
            "Subtração:\n",
            " [[-2 -1  0  1  2]\n",
            " [ 3  4  5  6  7]\n",
            " [ 8  9 10 11 12]\n",
            " [13 14 15 16 17]]\n",
            "\n",
            "Multiplocação:\n",
            " [[ 0  2  4  6  8]\n",
            " [10 12 14 16 18]\n",
            " [20 22 24 26 28]\n",
            " [30 32 34 36 38]]\n",
            "\n",
            "Divisão:\n",
            " [[0.  0.5 1.  1.5 2. ]\n",
            " [2.5 3.  3.5 4.  4.5]\n",
            " [5.  5.5 6.  6.5 7. ]\n",
            " [7.5 8.  8.5 9.  9.5]]\n"
          ],
          "name": "stdout"
        }
      ]
    },
    {
      "cell_type": "code",
      "metadata": {
        "id": "KbBZuKezF7zo",
        "colab_type": "code",
        "colab": {
          "base_uri": "https://localhost:8080/",
          "height": 255
        },
        "outputId": "c97ce433-653f-4a04-ab31-f02baf7c767b"
      },
      "source": [
        "# vetor - 3D\n",
        "\n",
        "vetor_3d = np.ones((3, 4, 5))\n",
        "print(vetor_3d)"
      ],
      "execution_count": 16,
      "outputs": [
        {
          "output_type": "stream",
          "text": [
            "[[[1. 1. 1. 1. 1.]\n",
            "  [1. 1. 1. 1. 1.]\n",
            "  [1. 1. 1. 1. 1.]\n",
            "  [1. 1. 1. 1. 1.]]\n",
            "\n",
            " [[1. 1. 1. 1. 1.]\n",
            "  [1. 1. 1. 1. 1.]\n",
            "  [1. 1. 1. 1. 1.]\n",
            "  [1. 1. 1. 1. 1.]]\n",
            "\n",
            " [[1. 1. 1. 1. 1.]\n",
            "  [1. 1. 1. 1. 1.]\n",
            "  [1. 1. 1. 1. 1.]\n",
            "  [1. 1. 1. 1. 1.]]]\n"
          ],
          "name": "stdout"
        }
      ]
    },
    {
      "cell_type": "markdown",
      "metadata": {
        "id": "Rt_KMG8GGs65",
        "colab_type": "text"
      },
      "source": [
        "## Matplotlib\n",
        "\n",
        "Permite criar graficos com o python.\n"
      ]
    },
    {
      "cell_type": "code",
      "metadata": {
        "id": "E9JZKm8aG0M5",
        "colab_type": "code",
        "colab": {
          "base_uri": "https://localhost:8080/",
          "height": 297
        },
        "outputId": "6e6226ac-6fa7-46a6-8521-0f3a5d17fb8e"
      },
      "source": [
        "# importando a biblioteca\n",
        "\n",
        "import matplotlib.pyplot as plt\n",
        "import numpy as np\n",
        "from random import randrange\n",
        "\n",
        "# descrição do grafico\n",
        "# grafico de barras\n",
        "# pontos por time em cada esporte\n",
        "# mostrar o nome de cada esporte --> labels\n",
        "# para mostrar pontos para cada time teremos subgraficos\n",
        "\n",
        "time1 = 'azul'\n",
        "time2 = 'laranja'\n",
        "\n",
        "nomes_esportes = ['futebol', 'volei', 'handebol', 'basquete', 'hoquei']\n",
        "pontuacao_azul = [randrange(0,10), randrange(0,10), randrange(0,10), randrange(0,10), randrange(0,10)]\n",
        "pontuacao_laranja = [randrange(0,10), randrange(0,10), randrange(0,10), randrange(0,10), randrange(0,10)]\n",
        "\n",
        "esportes = np.arange(len(labels))\n",
        "largura = 0.45\n",
        "\n",
        "grafico , eixos = plt.subplots()\n",
        "\n",
        "barra_azul = eixos.bar(esportes - largura / 2, pontuacao_azul, largura, label=time1)\n",
        "barra_laranja = eixos.bar(esportes + largura / 2, pontuacao_laranja, largura, label=time2)\n",
        "\n",
        "# textos nos eixos\n",
        "eixos.set_title(\"Gincana escolar\")\n",
        "eixos.set_xlabel(\"pontuação do esporte\")\n",
        "eixos.set_ylabel(\"modalidade de esporte\")\n",
        "eixos.set_xticks(esportes)\n",
        "eixos.set_xticklabels(nomes_esportes)\n",
        "eixos.legend()\n",
        "\n",
        "grafico.tight_layout()\n",
        "plt.show()"
      ],
      "execution_count": 26,
      "outputs": [
        {
          "output_type": "display_data",
          "data": {
            "image/png": "[encoded data removed]",
            "text/plain": [
              "<Figure size 432x288 with 1 Axes>"
            ]
          },
          "metadata": {
            "tags": [],
            "needs_background": "light"
          }
        }
      ]
    },
    {
      "cell_type": "markdown",
      "metadata": {
        "id": "fqmDhBrtM1ys",
        "colab_type": "text"
      },
      "source": [
        "## Request\n",
        "\n",
        "Permite trabalharmos com requisições HTML."
      ]
    },
    {
      "cell_type": "code",
      "metadata": {
        "id": "-n6H5TdgM7kN",
        "colab_type": "code",
        "colab": {}
      },
      "source": [
        "import requests\n",
        "\n",
        "# vamos acessar um site\n",
        "\n",
        "resposta = requests.get(\"https://www.google.com.br\")"
      ],
      "execution_count": 29,
      "outputs": []
    },
    {
      "cell_type": "code",
      "metadata": {
        "id": "yKY819rBNY7g",
        "colab_type": "code",
        "colab": {
          "base_uri": "https://localhost:8080/",
          "height": 190
        },
        "outputId": "ff2e573f-389c-4528-9854-f011bc33bf0d"
      },
      "source": [
        "print(resposta)\n",
        "\n",
        "print(\"\\nStatus:\", resposta.status_code)\n",
        "\n",
        "#Verificar o encoding\n",
        "print(\"\\nEncoding:\", resposta.encoding)\n",
        "\n",
        "#pegar os cabeçalhos (headers)\n",
        "print(\"\\nCabeçalhos:\", resposta.headers)\n",
        "\n",
        "# pegar o conteúdo\n",
        "print(\"\\nContents:\", resposta.content)"
      ],
      "execution_count": 31,
      "outputs": [
        {
          "output_type": "stream",
          "text": [
            "<Response [200]>\n",
            "\n",
            "Status: 200\n",
            "\n",
            "Encoding: ISO-8859-1\n",
            "\n",
            "Cabeçalhos: {'Date': 'Tue, 28 Jul 2020 02:16:47 GMT', 'Expires': '-1', 'Cache-Control': 'private, max-age=0', 'Content-Type': 'text/html; charset=ISO-8859-1', 'P3P': 'CP=\"This is not a P3P policy! See g.co/p3phelp for more info.\"', 'Content-Encoding': 'gzip', 'Server': 'gws', 'X-XSS-Protection': '0', 'X-Frame-Options': 'SAMEORIGIN', 'Set-Cookie': '1P_JAR=2020-07-28-02; expires=Thu, 27-Aug-2020 02:16:47 GMT; path=/; domain=.google.com.br; Secure, NID=204=h8hohZtoWMsFMuNnfJErEgzZzbTXQp1srD4xVDxHOXZ0X5prUVK9zt1LFYJMfFjYnUluangxIBLTj1OdpbRrvuYeBtVpmWwJl_2tpNema2TgE_X2JnUfawFcCY1buzH2ytJWUsEM4IbwLvisvLDNlqHTvW2Gyr4-ofwNp8LeIko; expires=Wed, 27-Jan-2021 02:16:47 GMT; path=/; domain=.google.com.br; HttpOnly', 'Transfer-Encoding': 'chunked'}\n",
            "\n",
            "Contents: b'<!doctype html><html itemscope=\"\" itemtype=\"http://schema.org/WebPage\" lang=\"en\"><head><meta content=\"Search the world\\'s information, including webpages, images, videos and more. Google has many special features to help you find exactly what you\\'re looking for.\" name=\"description\"><meta content=\"noodp\" name=\"robots\"><meta content=\"text/html; charset=UTF-8\" http-equiv=\"Content-Type\"><meta content=\"/images/branding/googleg/1x/googleg_standard_color_128dp.png\" itemprop=\"image\"><title>Google</title><script nonce=\"naGpoUw0PaP7iF6h+c0AfA==\">(function(){window.google={kEI:\\'j4ofX6XFD9Tk9AOh1LGIAQ\\',kEXPI:\\'0,202123,3,4,32,1151585,5662,730,224,5105,206,3204,10,1226,364,1499,611,92,114,383,246,5,1354,352,296,1046,1268,668,469,310,5,3,370,149,25,351,155,28,63,180,2,11,116,206,104,551,450,1120588,1197788,329479,13677,4855,32692,8162,7085,867,28684,9188,8384,4858,1362,9290,3023,4745,8000,3028,1,1812,4020,978,7931,5297,2054,920,873,1217,2975,6430,1142,6290,7096,235,4281,2778,919,2277,8,85,4304,1279,2212,241,289,149,1103,840,517,1466,58,156,4100,312,1135,1,3,2669,2023,1920,377,1947,2229,93,328,1286,15,2926,2246,1813,1787,3227,2845,7,6068,6286,4454,642,2449,2459,1226,1743,4928,108,1752,1655,908,2,3555,2397,1387,6081,1,841,1337,666,432,3,346,1200,865,1,377,2173,1367,707,148,189,3313,2488,2251,1993,1997,83,1010,651,4,498,1030,1295,402,607,1236,271,561,313,405,42,1217,580,21,177,1918,372,744,973,10,42,214,762,346,94,961,463,460,116,759,6,438,24,14,198,602,3189,276,292,1973,86,3,1493,877,910,1426,69,305,1798,512,1514,1009,34,1,253,940,7,3,803,91,599,1414,554,2,237,6,296,673,165,610,492,1064,44,465,108,80,321,194,4,152,1,759,67,175,35,216,71,299,390,430,31,346,114,1,10,18,419,1,393,329,46,381,8,2,149,4,122,3,328,1318,656,90,127,2,88,113,233,6,10,36,1,322,87,669,99,126,430,108,538,4,71,151,12,2,14,142,329,472,625,1,34,312,142,857,513,249,65,1858,2,4,36,685,7,5783994,8801916,549,333,444,1,2,80,1,900,897,2,7,2,2551,1,748,141,795,10,553,1,4265,1,1,2,1017,9,305,3299,129,87,7,7,18,64,33,36,3502064,20458660,2704830\\',kBL:\\'HK0f\\'};google.sn=\\'webhp\\';google.kHL=\\'en\\';})();(function(){google.lc=[];google.li=0;google.getEI=function(a){for(var c;a&&(!a.getAttribute||!(c=a.getAttribute(\"eid\")));)a=a.parentNode;return c||google.kEI};google.getLEI=function(a){for(var c=null;a&&(!a.getAttribute||!(c=a.getAttribute(\"leid\")));)a=a.parentNode;return c};google.ml=function(){return null};google.time=function(){return Date.now()};google.log=function(a,c,b,d,g){if(b=google.logUrl(a,c,b,d,g)){a=new Image;var e=google.lc,f=google.li;e[f]=a;a.onerror=a.onload=a.onabort=function(){delete e[f]};google.vel&&google.vel.lu&&google.vel.lu(b);a.src=b;google.li=f+1}};google.logUrl=function(a,c,b,d,g){var e=\"\",f=google.ls||\"\";b||-1!=c.search(\"&ei=\")||(e=\"&ei=\"+google.getEI(d),-1==c.search(\"&lei=\")&&(d=google.getLEI(d))&&(e+=\"&lei=\"+d));d=\"\";!b&&google.cshid&&-1==c.search(\"&cshid=\")&&\"slh\"!=a&&(d=\"&cshid=\"+google.cshid);b=b||\"/\"+(g||\"gen_204\")+\"?atyp=i&ct=\"+a+\"&cad=\"+c+e+f+\"&zx=\"+google.time()+d;/^http:/i.test(b)&&\"https:\"==window.location.protocol&&(google.ml(Error(\"a\"),!1,{src:b,glmm:1}),b=\"\");return b};}).call(this);(function(){google.y={};google.x=function(a,b){if(a)var c=a.id;else{do c=Math.random();while(google.y[c])}google.y[c]=[a,b];return!1};google.lm=[];google.plm=function(a){google.lm.push.apply(google.lm,a)};google.lq=[];google.load=function(a,b,c){google.lq.push([[a],b,c])};google.loadAll=function(a,b){google.lq.push([a,b])};}).call(this);google.f={};(function(){\\ndocument.documentElement.addEventListener(\"submit\",function(b){var a;if(a=b.target){var c=a.getAttribute(\"data-submitfalse\");a=\"1\"==c||\"q\"==c&&!a.elements.q.value?!0:!1}else a=!1;a&&(b.preventDefault(),b.stopPropagation())},!0);document.documentElement.addEventListener(\"click\",function(b){var a;a:{for(a=b.target;a&&a!=document.documentElement;a=a.parentElement)if(\"A\"==a.tagName){a=\"1\"==a.getAttribute(\"data-nohref\");break a}a=!1}a&&b.preventDefault()},!0);}).call(this);\\nvar a=window.location,b=a.href.indexOf(\"#\");if(0<=b){var c=a.href.substring(b+1);/(^|&)q=/.test(c)&&-1==c.indexOf(\"#\")&&a.replace(\"/search?\"+c.replace(/(^|&)fp=[^&]*/g,\"\")+\"&cad=h\")};</script><style>#gbar,#guser{font-size:13px;padding-top:1px !important;}#gbar{height:22px}#guser{padding-bottom:7px !important;text-align:right}.gbh,.gbd{border-top:1px solid #c9d7f1;font-size:1px}.gbh{height:0;position:absolute;top:24px;width:100%}@media all{.gb1{height:22px;margin-right:.5em;vertical-align:top}#gbar{float:left}}a.gb1,a.gb4{text-decoration:underline !important}a.gb1,a.gb4{color:#00c !important}.gbi .gb4{color:#dd8e27 !important}.gbf .gb4{color:#900 !important}\\n</style><style>body,td,a,p,.h{font-family:arial,sans-serif}body{margin:0;overflow-y:scroll}#gog{padding:3px 8px 0}td{line-height:.8em}.gac_m td{line-height:17px}form{margin-bottom:20px}.h{color:#36c}.q{color:#00c}em{font-weight:bold;font-style:normal}.lst{height:25px;width:496px}.gsfi,.lst{font:18px arial,sans-serif}.gsfs{font:17px arial,sans-serif}.ds{display:inline-box;display:inline-block;margin:3px 0 4px;margin-left:4px}input{font-family:inherit}body{background:#fff;color:#000}a{color:#11c;text-decoration:none}a:hover,a:active{text-decoration:underline}.fl a{color:#36c}a:visited{color:#551a8b}.sblc{padding-top:5px}.sblc a{display:block;margin:2px 0;margin-left:13px;font-size:11px}.lsbb{background:#eee;border:solid 1px;border-color:#ccc #999 #999 #ccc;height:30px}.lsbb{display:block}#fll a{display:inline-block;margin:0 12px}.lsb{background:url(/images/nav_logo229.png) 0 -261px repeat-x;border:none;color:#000;cursor:pointer;height:30px;margin:0;outline:0;font:15px arial,sans-serif;vertical-align:top}.lsb:active{background:#ccc}.lst:focus{outline:none}</style><script nonce=\"naGpoUw0PaP7iF6h+c0AfA==\"></script></head><body bgcolor=\"#fff\"><script nonce=\"naGpoUw0PaP7iF6h+c0AfA==\">(function(){var src=\\'/images/nav_logo229.png\\';var iesg=false;document.body.onload = function(){window.n && window.n();if (document.images){new Image().src=src;}\\nif (!iesg){document.f&&document.f.q.focus();document.gbqf&&document.gbqf.q.focus();}\\n}\\n})();</script><div id=\"mngb\"><div id=gbar><nobr><b class=gb1>Search</b> <a class=gb1 href=\"https://www.google.com/imghp?hl=en&tab=wi\">Images</a> <a class=gb1 href=\"https://maps.google.com/maps?hl=en&tab=wl\">Maps</a> <a class=gb1 href=\"https://play.google.com/?hl=en&tab=w8\">Play</a> <a class=gb1 href=\"https://www.youtube.com/?gl=US&tab=w1\">YouTube</a> <a class=gb1 href=\"https://news.google.com/nwshp?hl=en&tab=wn\">News</a> <a class=gb1 href=\"https://mail.google.com/mail/?tab=wm\">Gmail</a> <a class=gb1 href=\"https://drive.google.com/?tab=wo\">Drive</a> <a class=gb1 style=\"text-decoration:none\" href=\"https://www.google.com/intl/en/about/products?tab=wh\"><u>More</u> &raquo;</a></nobr></div><div id=guser width=100%><nobr><span id=gbn class=gbi></span><span id=gbf class=gbf></span><span id=gbe></span><a href=\"http://www.google.com/history/optout?hl=en\" class=gb4>Web History</a> | <a  href=\"/preferences?hl=en\" class=gb4>Settings</a> | <a target=_top id=gb_70 href=\"https://accounts.google.com/ServiceLogin?hl=en&passive=true&continue=https://www.google.com.br/\" class=gb4>Sign in</a></nobr></div><div class=gbh style=left:0></div><div class=gbh style=right:0></div></div><center><br clear=\"all\" id=\"lgpd\"><div id=\"lga\"><img alt=\"Google\" height=\"92\" src=\"/images/branding/googlelogo/1x/googlelogo_white_background_color_272x92dp.png\" style=\"padding:28px 0 14px\" width=\"272\" id=\"hplogo\"><br><br></div><form action=\"/search\" name=\"f\"><table cellpadding=\"0\" cellspacing=\"0\"><tr valign=\"top\"><td width=\"25%\">&nbsp;</td><td align=\"center\" nowrap=\"\"><input name=\"ie\" value=\"ISO-8859-1\" type=\"hidden\"><input value=\"en\" name=\"hl\" type=\"hidden\"><input name=\"source\" type=\"hidden\" value=\"hp\"><input name=\"biw\" type=\"hidden\"><input name=\"bih\" type=\"hidden\"><div class=\"ds\" style=\"height:32px;margin:4px 0\"><input class=\"lst\" style=\"margin:0;padding:5px 8px 0 6px;vertical-align:top;color:#000\" autocomplete=\"off\" value=\"\" title=\"Google Search\" maxlength=\"2048\" name=\"q\" size=\"57\"></div><br style=\"line-height:0\"><span class=\"ds\"><span class=\"lsbb\"><input class=\"lsb\" value=\"Google Search\" name=\"btnG\" type=\"submit\"></span></span><span class=\"ds\"><span class=\"lsbb\"><input class=\"lsb\" id=\"tsuid1\" value=\"I\\'m Feeling Lucky\" name=\"btnI\" type=\"submit\"><script nonce=\"naGpoUw0PaP7iF6h+c0AfA==\">(function(){var id=\\'tsuid1\\';document.getElementById(id).onclick = function(){if (this.form.q.value){this.checked = 1;if (this.form.iflsig)this.form.iflsig.disabled = false;}\\nelse top.location=\\'/doodles/\\';};})();</script><input value=\"AINFCbYAAAAAXx-Yn4wEgNSaj8XoDIv2bDz1_ilTWPl7\" name=\"iflsig\" type=\"hidden\"></span></span></td><td class=\"fl sblc\" align=\"left\" nowrap=\"\" width=\"25%\"><a href=\"/advanced_search?hl=en&amp;authuser=0\">Advanced search</a></td></tr></table><input id=\"gbv\" name=\"gbv\" type=\"hidden\" value=\"1\"><script nonce=\"naGpoUw0PaP7iF6h+c0AfA==\">(function(){var a,b=\"1\";if(document&&document.getElementById)if(\"undefined\"!=typeof XMLHttpRequest)b=\"2\";else if(\"undefined\"!=typeof ActiveXObject){var c,d,e=[\"MSXML2.XMLHTTP.6.0\",\"MSXML2.XMLHTTP.3.0\",\"MSXML2.XMLHTTP\",\"Microsoft.XMLHTTP\"];for(c=0;d=e[c++];)try{new ActiveXObject(d),b=\"2\"}catch(h){}}a=b;if(\"2\"==a&&-1==location.search.indexOf(\"&gbv=2\")){var f=google.gbvu,g=document.getElementById(\"gbv\");g&&(g.value=a);f&&window.setTimeout(function(){location.href=f},0)};}).call(this);</script></form><div id=\"gac_scont\"></div><div style=\"font-size:83%;min-height:3.5em\"><br><div id=\"prm\"><style>.szppmdbYutt__middle-slot-promo{font-size:small;margin-bottom:32px}.szppmdbYutt__middle-slot-promo a.ZIeIlb{display:inline-block;text-decoration:none}.szppmdbYutt__middle-slot-promo img{border:none;margin-right:5px;vertical-align:middle}</style><div class=\"szppmdbYutt__middle-slot-promo\" data-ved=\"0ahUKEwjlyIHA8O7qAhVUMn0KHSFqDBEQnIcBCAQ\"><span>Honoring the life and civil rights contributions of </span><a class=\"NKcBbd\" href=\"https://www.google.com/url?q=https://www.google.com/search%3F%26q%3Djohn%2Blewis&amp;source=hpp&amp;id=19019261&amp;ct=3&amp;usg=AFQjCNHKVWksKPee7NEXSMq87aQ2QdEw9w&amp;sa=X&amp;ved=0ahUKEwjlyIHA8O7qAhVUMn0KHSFqDBEQ8IcBCAU\" rel=\"nofollow\">Rep. John Lewis. 1940-2020</a></div></div><div id=\"gws-output-pages-elements-homepage_additional_languages__als\"><style>#gws-output-pages-elements-homepage_additional_languages__als{font-size:small;margin-bottom:24px}#SIvCob{display:inline-block;line-height:28px;}#SIvCob a{padding:0 3px;}.H6sW5{display:inline-block;margin:0 2px;white-space:nowrap}.z4hgWe{display:inline-block;margin:0 2px}</style><div id=\"SIvCob\">Google offered in:  <a href=\"https://www.google.com.br/setprefs?sig=0_sspLvdcm7cwZQRe3_Sox48-1O3Y%3D&amp;hl=pt-BR&amp;source=homepage&amp;sa=X&amp;ved=0ahUKEwjlyIHA8O7qAhVUMn0KHSFqDBEQ2ZgBCAc\">Portugu\\xeas (Brasil)</a>  </div></div></div><span id=\"footer\"><div style=\"font-size:10pt\"><div style=\"margin:19px auto;text-align:center\" id=\"fll\"><a href=\"/intl/en/ads/\">Advertising\\xa0Programs</a><a href=\"/services/\">Business Solutions</a><a href=\"/intl/en/about.html\">About Google</a><a href=\"https://www.google.com.br/setprefdomain?prefdom=US&amp;sig=K_kfwvlqi5pblPTbhlEeBL--eJYIc%3D\" id=\"fehl\">Google.com</a></div></div><p style=\"font-size:8pt;color:#767676\">&copy; 2020 - <a href=\"/intl/en/policies/privacy/\">Privacy</a> - <a href=\"/intl/en/policies/terms/\">Terms</a></p></span></center><script nonce=\"naGpoUw0PaP7iF6h+c0AfA==\">(function(){window.google.cdo={height:0,width:0};(function(){var a=window.innerWidth,b=window.innerHeight;if(!a||!b){var c=window.document,d=\"CSS1Compat\"==c.compatMode?c.documentElement:c.body;a=d.clientWidth;b=d.clientHeight}a&&b&&(a!=google.cdo.width||b!=google.cdo.height)&&google.log(\"\",\"\",\"/client_204?&atyp=i&biw=\"+a+\"&bih=\"+b+\"&ei=\"+google.kEI);}).call(this);})();(function(){var u=\\'/xjs/_/js/k\\\\x3dxjs.hp.en_US.Wqz_H23wEGM.O/m\\\\x3dsb_he,d/am\\\\x3dAE-wOQ/d\\\\x3d1/rs\\\\x3dACT90oHRwJfQYGuLcCqvZ21eDLeUkyJiEA\\';\\nsetTimeout(function(){var b=document;var a=\"SCRIPT\";\"application/xhtml+xml\"===b.contentType&&(a=a.toLowerCase());a=b.createElement(a);a.src=u;google.timers&&google.timers.load&&google.tick&&google.tick(\"load\",\"xjsls\");document.body.appendChild(a)},0);})();(function(){window.google.xjsu=\\'/xjs/_/js/k\\\\x3dxjs.hp.en_US.Wqz_H23wEGM.O/m\\\\x3dsb_he,d/am\\\\x3dAE-wOQ/d\\\\x3d1/rs\\\\x3dACT90oHRwJfQYGuLcCqvZ21eDLeUkyJiEA\\';})();function _DumpException(e){throw e;}\\nfunction _F_installCss(c){}\\n(function(){google.jl={dw:false,em:[],emw:false,lls:\\'default\\',pdt:0,snet:true,uwp:true};})();(function(){var pmc=\\'{\\\\x22d\\\\x22:{},\\\\x22sb_he\\\\x22:{\\\\x22agen\\\\x22:true,\\\\x22cgen\\\\x22:true,\\\\x22client\\\\x22:\\\\x22heirloom-hp\\\\x22,\\\\x22dh\\\\x22:true,\\\\x22dhqt\\\\x22:true,\\\\x22ds\\\\x22:\\\\x22\\\\x22,\\\\x22ffql\\\\x22:\\\\x22en\\\\x22,\\\\x22fl\\\\x22:true,\\\\x22host\\\\x22:\\\\x22google.com.br\\\\x22,\\\\x22isbh\\\\x22:28,\\\\x22jsonp\\\\x22:true,\\\\x22msgs\\\\x22:{\\\\x22cibl\\\\x22:\\\\x22Clear Search\\\\x22,\\\\x22dym\\\\x22:\\\\x22Did you mean:\\\\x22,\\\\x22lcky\\\\x22:\\\\x22I\\\\\\\\u0026#39;m Feeling Lucky\\\\x22,\\\\x22lml\\\\x22:\\\\x22Learn more\\\\x22,\\\\x22oskt\\\\x22:\\\\x22Input tools\\\\x22,\\\\x22psrc\\\\x22:\\\\x22This search was removed from your \\\\\\\\u003Ca href\\\\x3d\\\\\\\\\\\\x22/history\\\\\\\\\\\\x22\\\\\\\\u003EWeb History\\\\\\\\u003C/a\\\\\\\\u003E\\\\x22,\\\\x22psrl\\\\x22:\\\\x22Remove\\\\x22,\\\\x22sbit\\\\x22:\\\\x22Search by image\\\\x22,\\\\x22srch\\\\x22:\\\\x22Google Search\\\\x22},\\\\x22ovr\\\\x22:{},\\\\x22pq\\\\x22:\\\\x22\\\\x22,\\\\x22refpd\\\\x22:true,\\\\x22rfs\\\\x22:[],\\\\x22sbpl\\\\x22:16,\\\\x22sbpr\\\\x22:16,\\\\x22scd\\\\x22:10,\\\\x22stok\\\\x22:\\\\x22EpE1x8-jQTgZGT2XyitLebJay4E\\\\x22,\\\\x22uhde\\\\x22:false}}\\';google.pmc=JSON.parse(pmc);})();</script>        </body></html>'\n"
          ],
          "name": "stdout"
        }
      ]
    }
  ]
}