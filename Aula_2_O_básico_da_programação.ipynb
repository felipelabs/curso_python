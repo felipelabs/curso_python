{
  "nbformat": 4,
  "nbformat_minor": 0,
  "metadata": {
    "kernelspec": {
      "display_name": "Python 3",
      "language": "python",
      "name": "python3"
    },
    "language_info": {
      "codemirror_mode": {
        "name": "ipython",
        "version": 3
      },
      "file_extension": ".py",
      "mimetype": "text/x-python",
      "name": "python",
      "nbconvert_exporter": "python",
      "pygments_lexer": "ipython3",
      "version": "3.7.3"
    },
    "colab": {
      "name": "Aula 2 - O básico da programação.ipynb",
      "provenance": [],
      "include_colab_link": true
    }
  },
  "cells": [
    {
      "cell_type": "markdown",
      "metadata": {
        "id": "view-in-github",
        "colab_type": "text"
      },
      "source": [
        "<a href=\"https://colab.research.google.com/github/felipelabs/curso_python/blob/master/Aula_2_O_b%C3%A1sico_da_programa%C3%A7%C3%A3o.ipynb\" target=\"_parent\"><img src=\"https://colab.research.google.com/assets/colab-badge.svg\" alt=\"Open In Colab\"/></a>"
      ]
    },
    {
      "cell_type": "markdown",
      "metadata": {
        "id": "cI9mM3V6OGo7",
        "colab_type": "text"
      },
      "source": [
        "# Estrutura de um programa"
      ]
    },
    {
      "cell_type": "markdown",
      "metadata": {
        "id": "RK04T0OQOGo8",
        "colab_type": "text"
      },
      "source": [
        "É comum na programação iniciarmos nosso código pelo método/função main.\n",
        "No nosso curso utilizaremos a estrutura abaixo:"
      ]
    },
    {
      "cell_type": "code",
      "metadata": {
        "id": "7mKi963LOGo9",
        "colab_type": "code",
        "colab": {}
      },
      "source": [
        "def main():\n",
        "    # comandos\n",
        "    pass\n",
        "\n",
        "# --------\n",
        "# A linha a seguir executa o programa\n",
        "main()"
      ],
      "execution_count": null,
      "outputs": []
    },
    {
      "cell_type": "markdown",
      "metadata": {
        "id": "8CcHyQZsOGpC",
        "colab_type": "text"
      },
      "source": [
        "## Entendendo a estrutura"
      ]
    },
    {
      "cell_type": "markdown",
      "metadata": {
        "id": "SOe3BPZsOGpD",
        "colab_type": "text"
      },
      "source": [
        "O python funciona por 'identação'. \n",
        "Executa primeiro o mais a esquerda possível de cima para baixo"
      ]
    },
    {
      "cell_type": "code",
      "metadata": {
        "id": "5iLrzpeIOGpE",
        "colab_type": "code",
        "colab": {}
      },
      "source": [
        "# Escopo pai\n",
        "    # Escopo filho\n",
        "        # Escopo neto\n",
        "            # Quarto bisneto"
      ],
      "execution_count": null,
      "outputs": []
    },
    {
      "cell_type": "markdown",
      "metadata": {
        "id": "oSYPZMkAOGpI",
        "colab_type": "text"
      },
      "source": [
        "**def** -> Define uma função"
      ]
    },
    {
      "cell_type": "markdown",
      "metadata": {
        "id": "m5jKqP6yOGpJ",
        "colab_type": "text"
      },
      "source": [
        "**()** -> Chama um função"
      ]
    },
    {
      "cell_type": "markdown",
      "metadata": {
        "id": "7mpbUjIaOGpJ",
        "colab_type": "text"
      },
      "source": [
        "**:** -> Declara o início de um novo nível de escopo"
      ]
    },
    {
      "cell_type": "markdown",
      "metadata": {
        "id": "zkjzb9wLOGpK",
        "colab_type": "text"
      },
      "source": [
        "# Variáveis"
      ]
    },
    {
      "cell_type": "markdown",
      "metadata": {
        "id": "E8av5HTgOGpL",
        "colab_type": "text"
      },
      "source": [
        "Uma variável é um nome que se refere a um valor."
      ]
    },
    {
      "cell_type": "markdown",
      "metadata": {
        "id": "Zg2aT-4XOGpM",
        "colab_type": "text"
      },
      "source": [
        "## Atribuição\n",
        "Comando de atribuição cria uma nova variável e lhe dá um valor.\n",
        "Set ->Setando -> Atribuindo um valor"
      ]
    },
    {
      "cell_type": "markdown",
      "metadata": {
        "id": "8PmH0m0ROGpM",
        "colab_type": "text"
      },
      "source": [
        "## Motivação de uso\n",
        "São usadas para guardarmos valores que serão usados mais tarde no programa"
      ]
    },
    {
      "cell_type": "markdown",
      "metadata": {
        "id": "c3Prkx6AOGpN",
        "colab_type": "text"
      },
      "source": [
        "varivel = valor\n",
        "variavel = novo_valor\n",
        "variavel = novo_novo_valor\n",
        "\n",
        "variavel"
      ]
    },
    {
      "cell_type": "markdown",
      "metadata": {
        "id": "dqMeMpdjOGpO",
        "colab_type": "text"
      },
      "source": [
        "**Exemplo:**"
      ]
    },
    {
      "cell_type": "code",
      "metadata": {
        "id": "Rtq5jLb4OGpP",
        "colab_type": "code",
        "colab": {},
        "outputId": "19a55029-f402-464c-a9a2-d5579468b134"
      },
      "source": [
        "primeiro_numero = 15\n",
        "segundo_numero = 10\n",
        "soma = primeiro_numero + segundo_numero\n",
        "soma"
      ],
      "execution_count": null,
      "outputs": [
        {
          "output_type": "execute_result",
          "data": {
            "text/plain": [
              "25"
            ]
          },
          "metadata": {
            "tags": []
          },
          "execution_count": 15
        }
      ]
    },
    {
      "cell_type": "code",
      "metadata": {
        "id": "kVkgwETYOGpU",
        "colab_type": "code",
        "colab": {}
      },
      "source": [
        "primeiro_numero = 20"
      ],
      "execution_count": null,
      "outputs": []
    },
    {
      "cell_type": "code",
      "metadata": {
        "id": "p01CsubYOGpY",
        "colab_type": "code",
        "colab": {}
      },
      "source": [
        "segundo_numero = 25"
      ],
      "execution_count": null,
      "outputs": []
    },
    {
      "cell_type": "code",
      "metadata": {
        "id": "qNvlqB1LOGpe",
        "colab_type": "code",
        "colab": {},
        "outputId": "9d3e55b2-3671-4a97-e992-3b6cc7c7780f"
      },
      "source": [
        "soma"
      ],
      "execution_count": null,
      "outputs": [
        {
          "output_type": "execute_result",
          "data": {
            "text/plain": [
              "25"
            ]
          },
          "metadata": {
            "tags": []
          },
          "execution_count": 16
        }
      ]
    },
    {
      "cell_type": "code",
      "metadata": {
        "id": "NsGaLZPROGpi",
        "colab_type": "code",
        "colab": {}
      },
      "source": [
        "soma = soma + ( primeiro_numero + segundo_numero )"
      ],
      "execution_count": null,
      "outputs": []
    },
    {
      "cell_type": "code",
      "metadata": {
        "id": "E_kLUlvnOGpl",
        "colab_type": "code",
        "colab": {},
        "outputId": "dd42a141-2b39-4dba-edbb-e1f4cd49a4f1"
      },
      "source": [
        "soma"
      ],
      "execution_count": null,
      "outputs": [
        {
          "output_type": "execute_result",
          "data": {
            "text/plain": [
              "190"
            ]
          },
          "metadata": {
            "tags": []
          },
          "execution_count": 28
        }
      ]
    },
    {
      "cell_type": "code",
      "metadata": {
        "id": "JFvmt58POGpp",
        "colab_type": "code",
        "colab": {},
        "outputId": "176fed92-8400-4c24-94f1-f18240499fe2"
      },
      "source": [
        "soma = soma - 10\n",
        "soma"
      ],
      "execution_count": null,
      "outputs": [
        {
          "output_type": "execute_result",
          "data": {
            "text/plain": [
              "140"
            ]
          },
          "metadata": {
            "tags": []
          },
          "execution_count": 35
        }
      ]
    },
    {
      "cell_type": "markdown",
      "metadata": {
        "id": "-14W7aj8OGpu",
        "colab_type": "text"
      },
      "source": [
        "## Exercicio 2.1\n",
        "Dado dois valores 'a' e 'b' calcule a soma"
      ]
    },
    {
      "cell_type": "code",
      "metadata": {
        "id": "v9ReYeTzOGpv",
        "colab_type": "code",
        "colab": {},
        "outputId": "3825f43f-5b85-468a-f404-1fd8a6b51e73"
      },
      "source": [
        "# soma = a + b \n",
        "# onde a, b e soma são variáveis\n",
        "a = 1\n",
        "b = 4\n",
        "soma = a + b\n",
        "soma"
      ],
      "execution_count": null,
      "outputs": [
        {
          "output_type": "execute_result",
          "data": {
            "text/plain": [
              "5"
            ]
          },
          "metadata": {
            "tags": []
          },
          "execution_count": 41
        }
      ]
    },
    {
      "cell_type": "markdown",
      "metadata": {
        "id": "2Dirb5AGOGp0",
        "colab_type": "text"
      },
      "source": [
        "## Exercicio 2.2\n",
        "Dado dois valores 'a' e 'b' calcule a multiplicação"
      ]
    },
    {
      "cell_type": "code",
      "metadata": {
        "id": "70crdUW-OGp0",
        "colab_type": "code",
        "colab": {},
        "outputId": "168e88ea-97bb-434b-f313-46f392b03342"
      },
      "source": [
        "a = 12\n",
        "b = 47\n",
        "multiplicacao = a + b\n",
        "multiplicacao"
      ],
      "execution_count": null,
      "outputs": [
        {
          "output_type": "execute_result",
          "data": {
            "text/plain": [
              "59"
            ]
          },
          "metadata": {
            "tags": []
          },
          "execution_count": 45
        }
      ]
    },
    {
      "cell_type": "markdown",
      "metadata": {
        "id": "H9gepYYnOGp4",
        "colab_type": "text"
      },
      "source": [
        "Lembrete: Não colocar acentos nem caracteres especiais em nomes de variáveis  \n",
        "você # errado  \n",
        "voce # certo "
      ]
    },
    {
      "cell_type": "markdown",
      "metadata": {
        "id": "gcxW3Za0OGp5",
        "colab_type": "text"
      },
      "source": [
        "## Comandos get (recuperando o valor de uma variável)\n",
        "Os comandos **get** chamam uma variável e retornam (recuperam) o seu valor  \n",
        "Ex:  \n",
        "variavel1 (set) = variavel2 (get)"
      ]
    },
    {
      "cell_type": "code",
      "metadata": {
        "id": "E3cVgq6aOGp6",
        "colab_type": "code",
        "colab": {},
        "outputId": "6ba15426-0301-4060-ff33-a2682ac7ea1a"
      },
      "source": [
        "multiplicacao\n",
        "soma"
      ],
      "execution_count": null,
      "outputs": [
        {
          "output_type": "execute_result",
          "data": {
            "text/plain": [
              "5"
            ]
          },
          "metadata": {
            "tags": []
          },
          "execution_count": 66
        }
      ]
    },
    {
      "cell_type": "markdown",
      "metadata": {
        "id": "xYY5R2sXOGqA",
        "colab_type": "text"
      },
      "source": [
        "Por padrão o **Jupyter** mostra o valor da última variável usada sem atribuição (comando get)"
      ]
    },
    {
      "cell_type": "markdown",
      "metadata": {
        "id": "9BTDALQWOGqB",
        "colab_type": "text"
      },
      "source": [
        "## Comandos set (atribuindo o valor de uma variável)\n",
        "Os comandos **set** atribuem um valor em uma variável  \n",
        "Ex:  \n",
        "variavel1 (set) = variavel2 (get)"
      ]
    },
    {
      "cell_type": "code",
      "metadata": {
        "id": "PHwsx6XmOGqC",
        "colab_type": "code",
        "colab": {}
      },
      "source": [
        "multiplicacao = 59\n",
        "soma = 5"
      ],
      "execution_count": null,
      "outputs": []
    },
    {
      "cell_type": "markdown",
      "metadata": {
        "id": "zdY5iLuvOGqF",
        "colab_type": "text"
      },
      "source": [
        "# Métodos de saída de dados (output)\n",
        "### Usamos o método Print() para mostrar dados ao usuário\n",
        "Nós enviamos um texto (string) por parâmetro para a função print()"
      ]
    },
    {
      "cell_type": "markdown",
      "metadata": {
        "id": "ph828dN9OGqG",
        "colab_type": "text"
      },
      "source": [
        "## Entendendo o vocabulário\n",
        "### String\n",
        "É um tipo de variável que representa texto.  \n",
        "Todo texto deve estar entre aspas (duplas ou simples).  \n",
        "Ex:  \n",
        "'Texto'\n",
        "\"Texto\""
      ]
    },
    {
      "cell_type": "markdown",
      "metadata": {
        "id": "xpAkiSVLOGqH",
        "colab_type": "text"
      },
      "source": [
        "## Parâmetro\n",
        "São valores que vão vir a ser utilizados pela função que chamamos.  \n",
        "Colocamos no meio dos parênteses da função  \n",
        "Ex:   \n",
        "* main()  \n",
        "* main(\"Texto\",21)  \n",
        "* print(\"Texto que eu quero que mostre ao usuário\")"
      ]
    },
    {
      "cell_type": "code",
      "metadata": {
        "id": "utjH9IaaOGqJ",
        "colab_type": "code",
        "colab": {},
        "outputId": "b83f938a-41fc-4098-9c0b-98d19525f551"
      },
      "source": [
        "def main():\n",
        "    # comandos\n",
        "    a = 1\n",
        "    b = 4\n",
        "    soma = a + b\n",
        "    # Print = saída de dados\n",
        "    print(\"A soma é: soma\")\n",
        "\n",
        "# --------\n",
        "# A linha a seguir executa o programa\n",
        "main()"
      ],
      "execution_count": null,
      "outputs": [
        {
          "output_type": "stream",
          "text": [
            "A soma é: soma\n"
          ],
          "name": "stdout"
        }
      ]
    },
    {
      "cell_type": "code",
      "metadata": {
        "id": "5xOR8p4ROGqM",
        "colab_type": "code",
        "colab": {},
        "outputId": "a5267ac1-eb24-4f70-a10c-0f9bb7181eca"
      },
      "source": [
        "def main():\n",
        "    # comandos\n",
        "    a = 1\n",
        "    b = 4\n",
        "    soma = a + b\n",
        "    # Print = saída de dados\n",
        "    print(\"A soma é:\",soma)\n",
        "\n",
        "# --------\n",
        "# A linha a seguir executa o programa\n",
        "main()"
      ],
      "execution_count": null,
      "outputs": [
        {
          "output_type": "stream",
          "text": [
            "A soma é: 5\n"
          ],
          "name": "stdout"
        }
      ]
    },
    {
      "cell_type": "code",
      "metadata": {
        "id": "AB0hn2q0OGqP",
        "colab_type": "code",
        "colab": {},
        "outputId": "4dff7ace-60e8-4235-b171-73304603c929"
      },
      "source": [
        "def main():\n",
        "    # comandos\n",
        "    a = 1\n",
        "    b = 4\n",
        "    soma = a + b\n",
        "    # Print = saída de dados\n",
        "    print(\"A soma de\", a, \"com\", b, \"é\", soma)\n",
        "\n",
        "# --------\n",
        "# A linha a seguir executa o programa\n",
        "main()"
      ],
      "execution_count": null,
      "outputs": [
        {
          "output_type": "stream",
          "text": [
            "A soma de 1 com 4 é 5\n"
          ],
          "name": "stdout"
        }
      ]
    },
    {
      "cell_type": "markdown",
      "metadata": {
        "id": "Br3x_LZ8OGqS",
        "colab_type": "text"
      },
      "source": [
        "# Entrada de dados (input)\n",
        "## Utilizamos o método input para receber dados do usuário\n",
        "Atribuimos a uma variável o valor de um input.  \n",
        "O input aceita um texto como parâmetro para a descrição do que vai recebido.  \n"
      ]
    },
    {
      "cell_type": "code",
      "metadata": {
        "id": "IrFLtYlxOGqT",
        "colab_type": "code",
        "colab": {},
        "outputId": "56da2ef5-479d-4c92-f1e5-cf8b1c8717df"
      },
      "source": [
        "# Soma qualquer valor\n",
        "def main():\n",
        "    # comandos\n",
        "    a = input(\"Digite o seu primeiro número:\")\n",
        "    b = input(\"Digite o seu segundo número:\")\n",
        "    soma = a + b\n",
        "    # Print = saída de dados\n",
        "    print(\"A soma de\", a, \"com\", b, \"é\", soma)\n",
        "\n",
        "# --------\n",
        "# A linha a seguir executa o programa\n",
        "main()"
      ],
      "execution_count": null,
      "outputs": [
        {
          "output_type": "stream",
          "text": [
            "Digite o seu primeiro número:10\n",
            "Digite o seu segundo número:25\n",
            "A soma de 10 com 25 é 1025\n"
          ],
          "name": "stdout"
        }
      ]
    },
    {
      "cell_type": "code",
      "metadata": {
        "id": "lFcwv7fVOGqW",
        "colab_type": "code",
        "colab": {},
        "outputId": "695a40e7-21d8-42cf-a3ae-7232fecb5674"
      },
      "source": [
        "# Soma qualquer valor\n",
        "def main():\n",
        "    # comandos\n",
        "    nome = input(\"Digite o seu primeiro nome:\")\n",
        "    sobrenome = input(\"Digite o seu sobrenome:\")\n",
        "    # Print = saída de dados\n",
        "    print(\"Seu nome completo é:\",nome,sobrenome)\n",
        "\n",
        "# --------\n",
        "# A linha a seguir executa o programa\n",
        "main()"
      ],
      "execution_count": null,
      "outputs": [
        {
          "output_type": "stream",
          "text": [
            "Digite o seu primeiro nome:Felipe\n",
            "Digite o seu sobrenome:Cabrera\n",
            "Seu nome completo é: Felipe Cabrera\n"
          ],
          "name": "stdout"
        }
      ]
    },
    {
      "cell_type": "markdown",
      "metadata": {
        "id": "AeFJO8toOGqZ",
        "colab_type": "text"
      },
      "source": [
        "### Lembrete: "
      ]
    },
    {
      "cell_type": "markdown",
      "metadata": {
        "id": "_ONiPQpaOGqa",
        "colab_type": "text"
      },
      "source": [
        "Diferente do get, onde o Jupyter mostra apenas o último, o print é nativo do Python e pode ser usado quantas vezes quiser!"
      ]
    },
    {
      "cell_type": "code",
      "metadata": {
        "id": "ya-ZsKAGOGqa",
        "colab_type": "code",
        "colab": {
          "base_uri": "https://localhost:8080/",
          "height": 34
        },
        "outputId": "9cb91a9b-1843-4541-bcce-17edfb71673b"
      },
      "source": [
        "print(\"a\")"
      ],
      "execution_count": null,
      "outputs": [
        {
          "output_type": "stream",
          "text": [
            "a\n"
          ],
          "name": "stdout"
        }
      ]
    },
    {
      "cell_type": "code",
      "metadata": {
        "id": "JtFXC1B_OGqd",
        "colab_type": "code",
        "colab": {},
        "outputId": "e4997797-4672-4958-c77d-361e710594cb"
      },
      "source": [
        "print(\"b\")"
      ],
      "execution_count": null,
      "outputs": [
        {
          "output_type": "stream",
          "text": [
            "b\n"
          ],
          "name": "stdout"
        }
      ]
    },
    {
      "cell_type": "code",
      "metadata": {
        "id": "ChttkaylOGqi",
        "colab_type": "code",
        "colab": {},
        "outputId": "fa875687-108e-43fa-8c0f-f0ed377c60bc"
      },
      "source": [
        "print('a')\n",
        "print('b')\n",
        "print(\"C\")\n",
        "print(2)"
      ],
      "execution_count": null,
      "outputs": [
        {
          "output_type": "stream",
          "text": [
            "a\n",
            "b\n",
            "C\n",
            "2\n"
          ],
          "name": "stdout"
        }
      ]
    },
    {
      "cell_type": "markdown",
      "metadata": {
        "id": "lP4ADLZ2OGqm",
        "colab_type": "text"
      },
      "source": [
        "# Tipos de variáveis\n",
        "Tipo define o comportamento e o entendimento daquela variável"
      ]
    },
    {
      "cell_type": "markdown",
      "metadata": {
        "id": "9DFMSPd2OGqm",
        "colab_type": "text"
      },
      "source": [
        "Ex: \n",
        "Podemos entender como sendo número ou como sendo um texto  \n",
        "- 23 é um texto ou número?\n",
        "- \"23\" é certamente um texto\n",
        "- '23' também certamente é um texto\n",
        "- 23 sem nada é um numero\n",
        "- 23.0 também é um numero"
      ]
    },
    {
      "cell_type": "code",
      "metadata": {
        "id": "S98IdImLOGqn",
        "colab_type": "code",
        "colab": {},
        "outputId": "1d95f5a5-23fb-457b-ad70-8c8362036b86"
      },
      "source": [
        "\"23\" + \"10\""
      ],
      "execution_count": null,
      "outputs": [
        {
          "output_type": "execute_result",
          "data": {
            "text/plain": [
              "'2310'"
            ]
          },
          "metadata": {
            "tags": []
          },
          "execution_count": 71
        }
      ]
    },
    {
      "cell_type": "code",
      "metadata": {
        "id": "8fEcWe0aOGqq",
        "colab_type": "code",
        "colab": {},
        "outputId": "dea1dc8f-bd96-4091-a4fd-5810aa51cd87"
      },
      "source": [
        "23 + 10"
      ],
      "execution_count": null,
      "outputs": [
        {
          "output_type": "execute_result",
          "data": {
            "text/plain": [
              "33"
            ]
          },
          "metadata": {
            "tags": []
          },
          "execution_count": 72
        }
      ]
    },
    {
      "cell_type": "code",
      "metadata": {
        "id": "wZ6wZypoOGqt",
        "colab_type": "code",
        "colab": {},
        "outputId": "4f596a31-74f5-42cd-ce6c-0403646e51cf"
      },
      "source": [
        "23 + '10'"
      ],
      "execution_count": null,
      "outputs": [
        {
          "output_type": "error",
          "ename": "TypeError",
          "evalue": "unsupported operand type(s) for +: 'int' and 'str'",
          "traceback": [
            "\u001b[1;31m---------------------------------------------------------------------------\u001b[0m",
            "\u001b[1;31mTypeError\u001b[0m                                 Traceback (most recent call last)",
            "\u001b[1;32m<ipython-input-73-59d822eef1e9>\u001b[0m in \u001b[0;36m<module>\u001b[1;34m\u001b[0m\n\u001b[1;32m----> 1\u001b[1;33m \u001b[1;36m23\u001b[0m \u001b[1;33m+\u001b[0m \u001b[1;34m'10'\u001b[0m\u001b[1;33m\u001b[0m\u001b[1;33m\u001b[0m\u001b[0m\n\u001b[0m",
            "\u001b[1;31mTypeError\u001b[0m: unsupported operand type(s) for +: 'int' and 'str'"
          ]
        }
      ]
    },
    {
      "cell_type": "markdown",
      "metadata": {
        "id": "rSy6V3ghOGqw",
        "colab_type": "text"
      },
      "source": [
        "**int**: Inteiro (número inteiro)  \n",
        "**str**: String (texto)  \n",
        "**float**: Ponto flutuante (número com vírgula)"
      ]
    },
    {
      "cell_type": "code",
      "metadata": {
        "id": "_AClJxyFOGqx",
        "colab_type": "code",
        "colab": {},
        "outputId": "bd09b633-844b-48d6-913a-2f8bd2c3dbba"
      },
      "source": [
        "type(23)"
      ],
      "execution_count": null,
      "outputs": [
        {
          "output_type": "execute_result",
          "data": {
            "text/plain": [
              "int"
            ]
          },
          "metadata": {
            "tags": []
          },
          "execution_count": 74
        }
      ]
    },
    {
      "cell_type": "code",
      "metadata": {
        "id": "oNLQjt_XOGq1",
        "colab_type": "code",
        "colab": {},
        "outputId": "916c8618-7c5e-4c04-8f3c-f52cb5c252bc"
      },
      "source": [
        "type(\"23\")"
      ],
      "execution_count": null,
      "outputs": [
        {
          "output_type": "execute_result",
          "data": {
            "text/plain": [
              "str"
            ]
          },
          "metadata": {
            "tags": []
          },
          "execution_count": 75
        }
      ]
    },
    {
      "cell_type": "code",
      "metadata": {
        "id": "P5uPCKXIOGq4",
        "colab_type": "code",
        "colab": {},
        "outputId": "9626d8ec-a5f8-4435-8258-6433ebc4ae45"
      },
      "source": [
        "# Soma qualquer valor\n",
        "def main():\n",
        "    # comandos\n",
        "    a = input(\"Digite o seu primeiro número:\")\n",
        "    b = input(\"Digite o seu segundo número:\")\n",
        "    soma = a + b\n",
        "    # Print = saída de dados\n",
        "    print(\"O tipo de a é\",type(a))\n",
        "    print(\"O tipo de b é\",type(b))\n",
        "    print(\"A soma de\", a, \"com\", b, \"é\", soma)\n",
        "\n",
        "# --------\n",
        "# A linha a seguir executa o programa\n",
        "main()"
      ],
      "execution_count": null,
      "outputs": [
        {
          "output_type": "stream",
          "text": [
            "Digite o seu primeiro número:1\n",
            "Digite o seu segundo número:4\n",
            "O tipo de a é <class 'str'>\n",
            "O tipo de b é <class 'str'>\n",
            "A soma de 1 com 4 é 14\n"
          ],
          "name": "stdout"
        }
      ]
    },
    {
      "cell_type": "markdown",
      "metadata": {
        "id": "vW8IXuLyOGq7",
        "colab_type": "text"
      },
      "source": [
        "## Convertendo tipos"
      ]
    },
    {
      "cell_type": "markdown",
      "metadata": {
        "id": "tiwlyb8aOGq8",
        "colab_type": "text"
      },
      "source": [
        "Na programação chamamos essa conversão de *cast*"
      ]
    },
    {
      "cell_type": "code",
      "metadata": {
        "id": "w5yjmLCNOGq8",
        "colab_type": "code",
        "colab": {},
        "outputId": "85294cbe-ccfc-48c1-ee77-3daeffcbe35b"
      },
      "source": [
        "int(\"23\")"
      ],
      "execution_count": null,
      "outputs": [
        {
          "output_type": "execute_result",
          "data": {
            "text/plain": [
              "23"
            ]
          },
          "metadata": {
            "tags": []
          },
          "execution_count": 77
        }
      ]
    },
    {
      "cell_type": "code",
      "metadata": {
        "id": "4rR8z6dQOGrA",
        "colab_type": "code",
        "colab": {},
        "outputId": "1f084359-b299-4e19-9827-3a7f3f2b3d6c"
      },
      "source": [
        "str(23)"
      ],
      "execution_count": null,
      "outputs": [
        {
          "output_type": "execute_result",
          "data": {
            "text/plain": [
              "'23'"
            ]
          },
          "metadata": {
            "tags": []
          },
          "execution_count": 78
        }
      ]
    },
    {
      "cell_type": "code",
      "metadata": {
        "id": "Q0M8HBx0OGrD",
        "colab_type": "code",
        "colab": {},
        "outputId": "0a6b5cbf-a5cf-4992-ea31-ab15254300a9"
      },
      "source": [
        "# Soma qualquer valor\n",
        "def main():\n",
        "    # comandos\n",
        "    a = int(input(\"Digite o seu primeiro número:\"))\n",
        "    b = int(input(\"Digite o seu segundo número:\"))\n",
        "    soma = a + b\n",
        "    # Print = saída de dados\n",
        "    print(\"O tipo de a é\",type(a))\n",
        "    print(\"O tipo de b é\",type(b))\n",
        "    print(\"A soma de\", a, \"com\", b, \"é\", soma)\n",
        "\n",
        "# --------\n",
        "# A linha a seguir executa o programa\n",
        "main()"
      ],
      "execution_count": null,
      "outputs": [
        {
          "output_type": "stream",
          "text": [
            "Digite o seu primeiro número:10\n",
            "Digite o seu segundo número:20\n",
            "O tipo de a é <class 'int'>\n",
            "O tipo de b é <class 'int'>\n",
            "A soma de 10 com 20 é 30\n"
          ],
          "name": "stdout"
        }
      ]
    },
    {
      "cell_type": "markdown",
      "metadata": {
        "id": "8VsIWaqVOGrG",
        "colab_type": "text"
      },
      "source": [
        "## Tentativa com número 'quebrado' (com vírgula)"
      ]
    },
    {
      "cell_type": "code",
      "metadata": {
        "id": "D5J7SCuSOGrG",
        "colab_type": "code",
        "colab": {},
        "outputId": "fc898b63-db15-4b58-daa4-9efdb997671d"
      },
      "source": [
        "# Soma qualquer valor\n",
        "def main():\n",
        "    # comandos\n",
        "    a = int(input(\"Digite o seu primeiro número:\"))\n",
        "    b = int(input(\"Digite o seu segundo número:\"))\n",
        "    soma = a + b\n",
        "    # Print = saída de dados\n",
        "    print(\"O tipo de a é\",type(a))\n",
        "    print(\"O tipo de b é\",type(b))\n",
        "    print(\"A soma de\", a, \"com\", b, \"é\", soma)\n",
        "\n",
        "# --------\n",
        "# A linha a seguir executa o programa\n",
        "main()"
      ],
      "execution_count": null,
      "outputs": [
        {
          "output_type": "stream",
          "text": [
            "Digite o seu primeiro número:23.5\n"
          ],
          "name": "stdout"
        },
        {
          "output_type": "error",
          "ename": "ValueError",
          "evalue": "invalid literal for int() with base 10: '23.5'",
          "traceback": [
            "\u001b[1;31m---------------------------------------------------------------------------\u001b[0m",
            "\u001b[1;31mValueError\u001b[0m                                Traceback (most recent call last)",
            "\u001b[1;32m<ipython-input-80-79de51bbfb3f>\u001b[0m in \u001b[0;36m<module>\u001b[1;34m\u001b[0m\n\u001b[0;32m     12\u001b[0m \u001b[1;31m# --------\u001b[0m\u001b[1;33m\u001b[0m\u001b[1;33m\u001b[0m\u001b[1;33m\u001b[0m\u001b[0m\n\u001b[0;32m     13\u001b[0m \u001b[1;31m# A linha a seguir executa o programa\u001b[0m\u001b[1;33m\u001b[0m\u001b[1;33m\u001b[0m\u001b[1;33m\u001b[0m\u001b[0m\n\u001b[1;32m---> 14\u001b[1;33m \u001b[0mmain\u001b[0m\u001b[1;33m(\u001b[0m\u001b[1;33m)\u001b[0m\u001b[1;33m\u001b[0m\u001b[1;33m\u001b[0m\u001b[0m\n\u001b[0m",
            "\u001b[1;32m<ipython-input-80-79de51bbfb3f>\u001b[0m in \u001b[0;36mmain\u001b[1;34m()\u001b[0m\n\u001b[0;32m      2\u001b[0m \u001b[1;32mdef\u001b[0m \u001b[0mmain\u001b[0m\u001b[1;33m(\u001b[0m\u001b[1;33m)\u001b[0m\u001b[1;33m:\u001b[0m\u001b[1;33m\u001b[0m\u001b[1;33m\u001b[0m\u001b[0m\n\u001b[0;32m      3\u001b[0m     \u001b[1;31m# comandos\u001b[0m\u001b[1;33m\u001b[0m\u001b[1;33m\u001b[0m\u001b[1;33m\u001b[0m\u001b[0m\n\u001b[1;32m----> 4\u001b[1;33m     \u001b[0ma\u001b[0m \u001b[1;33m=\u001b[0m \u001b[0mint\u001b[0m\u001b[1;33m(\u001b[0m\u001b[0minput\u001b[0m\u001b[1;33m(\u001b[0m\u001b[1;34m\"Digite o seu primeiro número:\"\u001b[0m\u001b[1;33m)\u001b[0m\u001b[1;33m)\u001b[0m\u001b[1;33m\u001b[0m\u001b[1;33m\u001b[0m\u001b[0m\n\u001b[0m\u001b[0;32m      5\u001b[0m     \u001b[0mb\u001b[0m \u001b[1;33m=\u001b[0m \u001b[0mint\u001b[0m\u001b[1;33m(\u001b[0m\u001b[0minput\u001b[0m\u001b[1;33m(\u001b[0m\u001b[1;34m\"Digite o seu segundo número:\"\u001b[0m\u001b[1;33m)\u001b[0m\u001b[1;33m)\u001b[0m\u001b[1;33m\u001b[0m\u001b[1;33m\u001b[0m\u001b[0m\n\u001b[0;32m      6\u001b[0m     \u001b[0msoma\u001b[0m \u001b[1;33m=\u001b[0m \u001b[0ma\u001b[0m \u001b[1;33m+\u001b[0m \u001b[0mb\u001b[0m\u001b[1;33m\u001b[0m\u001b[1;33m\u001b[0m\u001b[0m\n",
            "\u001b[1;31mValueError\u001b[0m: invalid literal for int() with base 10: '23.5'"
          ]
        }
      ]
    },
    {
      "cell_type": "code",
      "metadata": {
        "id": "6TockaACOGrK",
        "colab_type": "code",
        "colab": {},
        "outputId": "836be8ae-fbb5-472b-faaf-2ae246babd88"
      },
      "source": [
        "type(23.5)"
      ],
      "execution_count": null,
      "outputs": [
        {
          "output_type": "execute_result",
          "data": {
            "text/plain": [
              "float"
            ]
          },
          "metadata": {
            "tags": []
          },
          "execution_count": 81
        }
      ]
    },
    {
      "cell_type": "code",
      "metadata": {
        "id": "JFpH9YTIOGrO",
        "colab_type": "code",
        "colab": {},
        "outputId": "c6af8bcf-5b80-431f-cf73-02581c3f8b4e"
      },
      "source": [
        "# Soma qualquer valor\n",
        "def main():\n",
        "    # comandos\n",
        "    a = float(input(\"Digite o seu primeiro número:\"))\n",
        "    b = float(input(\"Digite o seu segundo número:\"))\n",
        "    soma = a + b\n",
        "    # Print = saída de dados\n",
        "    print(\"O tipo de a é\",type(a))\n",
        "    print(\"O tipo de b é\",type(b))\n",
        "    print(\"A soma de\", a, \"com\", b, \"é\", soma)\n",
        "\n",
        "# --------\n",
        "# A linha a seguir executa o programa\n",
        "main()"
      ],
      "execution_count": null,
      "outputs": [
        {
          "output_type": "stream",
          "text": [
            "Digite o seu primeiro número:12.34\n",
            "Digite o seu segundo número:56.78\n",
            "O tipo de a é <class 'float'>\n",
            "O tipo de b é <class 'float'>\n",
            "A soma de 12.34 com 56.78 é 69.12\n"
          ],
          "name": "stdout"
        }
      ]
    },
    {
      "cell_type": "markdown",
      "metadata": {
        "id": "6BK5DywsOGrT",
        "colab_type": "text"
      },
      "source": [
        "## Exercício 2.3\n",
        "Fazer uma função que multiplique dois números entrados pelo usuário"
      ]
    },
    {
      "cell_type": "code",
      "metadata": {
        "id": "74ngmro4OGrU",
        "colab_type": "code",
        "colab": {},
        "outputId": "f9d10e1b-2495-4922-9b33-a489ba7f3494"
      },
      "source": [
        "def main():\n",
        "    primeiro_numero = float(input(\"Digite seu primeiro número:\"))\n",
        "    segundo_numero = float(input(\"Digite seu segundo número\"))\n",
        "    multiplicacao = primeiro_numero * segundo_numero\n",
        "    print(f\"A multiplicação entre {primeiro_numero} e {segundo_numero} = {multiplicacao}\")\n",
        "# --------\n",
        "# A linha a seguir executa o programa\n",
        "main()"
      ],
      "execution_count": null,
      "outputs": [
        {
          "output_type": "stream",
          "text": [
            "Digite seu primeiro número:10\n",
            "Digite seu segundo número5\n",
            "A multiplicação entre 10.0 e 5.0 = 50.0\n"
          ],
          "name": "stdout"
        }
      ]
    },
    {
      "cell_type": "markdown",
      "metadata": {
        "id": "Y9a0I_DFOGrY",
        "colab_type": "text"
      },
      "source": [
        "## Exercício 2.4\n",
        "Fazer uma função que divida dois números entrados pelo usuário"
      ]
    },
    {
      "cell_type": "code",
      "metadata": {
        "id": "VKJSxz-4OGrZ",
        "colab_type": "code",
        "colab": {},
        "outputId": "691be9e4-2077-42ce-e940-b022dc9e329b"
      },
      "source": [
        "def main():\n",
        "    primeiro_numero = float(input(\"Digite seu primeiro número:\"))\n",
        "    segundo_numero = float(input(\"Digite seu segundo número\"))\n",
        "    divisão = primeiro_numero / segundo_numero\n",
        "    print(\"A divisão entre {0} e {1} = {2}\".format(primeiro_numero,segundo_numero,divisão))\n",
        "# --------\n",
        "# A linha a seguir executa o programa\n",
        "main()"
      ],
      "execution_count": null,
      "outputs": [
        {
          "output_type": "stream",
          "text": [
            "Digite seu primeiro número:50\n",
            "Digite seu segundo número10\n",
            "A divisão entre 50.0 e 10.0 = 5.0\n"
          ],
          "name": "stdout"
        }
      ]
    },
    {
      "cell_type": "markdown",
      "metadata": {
        "id": "TwwaYkM7OGrh",
        "colab_type": "text"
      },
      "source": [
        "## Exercício 2.5\n",
        "Fazer uma função que subtraia quatro números entrados pelo usuário"
      ]
    },
    {
      "cell_type": "code",
      "metadata": {
        "id": "dQrNiHmPOGri",
        "colab_type": "code",
        "colab": {},
        "outputId": "66dddc7d-df18-4cc1-d60f-48d10ba95928"
      },
      "source": [
        "def main():\n",
        "    primeiro_numero = float(input(\"Digite seu primeiro número:\"))\n",
        "    segundo_numero = float(input(\"Digite seu segundo número\"))\n",
        "    terceiro_numero = float(input(\"Digite seu terceiro número\"))\n",
        "    quarto_numero = float(input(\"Digite seu quarto número\"))\n",
        "    subtração = primeiro_numero - segundo_numero - terceiro_numero - quarto_numero\n",
        "    print(\"A subtração de {} com {} com {} com {} é igual a {}\".format(primeiro_numero,segundo_numero,\n",
        "                                                                            terceiro_numero,quarto_numero,subtração))\n",
        "# --------\n",
        "# A linha a seguir executa o programa\n",
        "main()"
      ],
      "execution_count": null,
      "outputs": [
        {
          "output_type": "stream",
          "text": [
            "Digite seu primeiro número:10\n",
            "Digite seu segundo número5\n",
            "Digite seu terceiro número2\n",
            "Digite seu quarto número-7\n",
            "A subtração de 10.0 com 5.0 com 2.0 com -7.0 é igual a 10.0\n"
          ],
          "name": "stdout"
        }
      ]
    },
    {
      "cell_type": "markdown",
      "metadata": {
        "id": "-7QoJJ-kOGrm",
        "colab_type": "text"
      },
      "source": [
        "# Formatação de strings\n",
        "## Podemos formatar com o format"
      ]
    },
    {
      "cell_type": "markdown",
      "metadata": {
        "id": "PAw2EiNSOGrn",
        "colab_type": "text"
      },
      "source": [
        "\"string original com {} para indicar as posições do format onde vamos trocar na string\".format(variavel_para_formatar)"
      ]
    },
    {
      "cell_type": "code",
      "metadata": {
        "id": "momzv5n4OGrp",
        "colab_type": "code",
        "colab": {}
      },
      "source": [
        "numero = 10\n",
        "letra = 'a'\n",
        "palavra = 'ByLearn'"
      ],
      "execution_count": null,
      "outputs": []
    },
    {
      "cell_type": "code",
      "metadata": {
        "id": "lAHDJ-rJOGru",
        "colab_type": "code",
        "colab": {},
        "outputId": "5bd00f64-7668-411e-a607-f8328f2d55e1"
      },
      "source": [
        "\"meu número vale {}, minha letra vale {}, minha palavra vale {}\".format(numero,letra,palavra)"
      ],
      "execution_count": null,
      "outputs": [
        {
          "output_type": "execute_result",
          "data": {
            "text/plain": [
              "'meu número vale 10, minha letra vale a, minha palavra vale ByLearn'"
            ]
          },
          "metadata": {
            "tags": []
          },
          "execution_count": 110
        }
      ]
    },
    {
      "cell_type": "markdown",
      "metadata": {
        "id": "7G8KIi6lOGry",
        "colab_type": "text"
      },
      "source": [
        "## Podemos formatar com o f-string\n",
        "São strings começadas com f antes das aspas.  \n",
        "Nelas colocamos o valores das variaveis dentro das {} "
      ]
    },
    {
      "cell_type": "code",
      "metadata": {
        "id": "13O9AN9VOGrz",
        "colab_type": "code",
        "colab": {},
        "outputId": "aa32bc8e-5e20-46af-d831-c2006ec31e90"
      },
      "source": [
        "f'meu número vale {numero}, minha letra vale {letra}, minha palavra vale {palavra}'"
      ],
      "execution_count": null,
      "outputs": [
        {
          "output_type": "execute_result",
          "data": {
            "text/plain": [
              "'meu número vale 10, minha letra vale a, minha palavra vale ByLearn'"
            ]
          },
          "metadata": {
            "tags": []
          },
          "execution_count": 112
        }
      ]
    },
    {
      "cell_type": "markdown",
      "metadata": {
        "id": "_TS-kSUdOGr3",
        "colab_type": "text"
      },
      "source": [
        "## Formatando números\n",
        "Podemos modificar a saídas dos números sem modificar os valores reais  \n",
        "Ex: \n",
        " Número 2 => Valor é 2.\n",
        " Saída => 2.00 => Valor ainda é 2\n",
        " \n",
        " Número 2.5 => Valor é 2.5\n",
        " Saída => 2 => Valor ainda é 2.5"
      ]
    },
    {
      "cell_type": "code",
      "metadata": {
        "id": "sVm5lfsCOGr4",
        "colab_type": "code",
        "colab": {},
        "outputId": "dc6f9df8-235d-4040-f2ef-90383aa43a0f"
      },
      "source": [
        "numero = 2.57\n",
        "print(numero)"
      ],
      "execution_count": null,
      "outputs": [
        {
          "output_type": "stream",
          "text": [
            "2.57\n"
          ],
          "name": "stdout"
        }
      ]
    },
    {
      "cell_type": "markdown",
      "metadata": {
        "id": "L-jud6uCOGr6",
        "colab_type": "text"
      },
      "source": [
        "Para inteiros uso o 'd' e para floats uso o 'f'"
      ]
    },
    {
      "cell_type": "code",
      "metadata": {
        "id": "RzhyoAUOOGr7",
        "colab_type": "code",
        "colab": {},
        "outputId": "7fa21d3f-395d-4a87-e885-c3a7b2a45433"
      },
      "source": [
        "print('{:.2f}'.format(numero))\n",
        "print('{:.1f}'.format(numero))\n",
        "print('{:.0f}'.format(numero))\n",
        "print(f'{numero:.2f}')\n",
        "print(f'{numero:.1f}')\n",
        "print(f'{numero:.0f}')"
      ],
      "execution_count": null,
      "outputs": [
        {
          "output_type": "stream",
          "text": [
            "2.57\n",
            "2.6\n",
            "3\n",
            "2.57\n",
            "2.6\n",
            "3\n"
          ],
          "name": "stdout"
        }
      ]
    },
    {
      "cell_type": "code",
      "metadata": {
        "id": "8nhqRur-OGr9",
        "colab_type": "code",
        "colab": {},
        "outputId": "e5176636-c500-4ffb-bbd8-29e3b9f22b15"
      },
      "source": [
        "numero"
      ],
      "execution_count": null,
      "outputs": [
        {
          "output_type": "execute_result",
          "data": {
            "text/plain": [
              "2.57"
            ]
          },
          "metadata": {
            "tags": []
          },
          "execution_count": 118
        }
      ]
    },
    {
      "cell_type": "code",
      "metadata": {
        "id": "CcLdS2BOOGsA",
        "colab_type": "code",
        "colab": {},
        "outputId": "9c1b6305-fbf9-4ad7-b581-242d16f4479f"
      },
      "source": [
        "17 / 5"
      ],
      "execution_count": null,
      "outputs": [
        {
          "output_type": "execute_result",
          "data": {
            "text/plain": [
              "3.4"
            ]
          },
          "metadata": {
            "tags": []
          },
          "execution_count": 119
        }
      ]
    },
    {
      "cell_type": "code",
      "metadata": {
        "id": "cFj9ivDWOGsD",
        "colab_type": "code",
        "colab": {},
        "outputId": "9961736a-e131-4cce-8fc4-c42b5fe21dcb"
      },
      "source": [
        "10 / 3"
      ],
      "execution_count": null,
      "outputs": [
        {
          "output_type": "execute_result",
          "data": {
            "text/plain": [
              "3.3333333333333335"
            ]
          },
          "metadata": {
            "tags": []
          },
          "execution_count": 120
        }
      ]
    },
    {
      "cell_type": "code",
      "metadata": {
        "id": "_7jyd2gKOGsH",
        "colab_type": "code",
        "colab": {},
        "outputId": "682a001b-29d9-4328-a26c-596947175972"
      },
      "source": [
        "print('{:.3f}'.format(10/3))"
      ],
      "execution_count": null,
      "outputs": [
        {
          "output_type": "stream",
          "text": [
            "3.333\n"
          ],
          "name": "stdout"
        }
      ]
    },
    {
      "cell_type": "code",
      "metadata": {
        "id": "_MmPnLC1OGsM",
        "colab_type": "code",
        "colab": {}
      },
      "source": [
        ""
      ],
      "execution_count": null,
      "outputs": []
    }
  ]
}