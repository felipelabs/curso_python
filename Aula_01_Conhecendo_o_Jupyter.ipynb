{
  "nbformat": 4,
  "nbformat_minor": 0,
  "metadata": {
    "kernelspec": {
      "display_name": "Python 3",
      "language": "python",
      "name": "python3"
    },
    "language_info": {
      "codemirror_mode": {
        "name": "ipython",
        "version": 3
      },
      "file_extension": ".py",
      "mimetype": "text/x-python",
      "name": "python",
      "nbconvert_exporter": "python",
      "pygments_lexer": "ipython3",
      "version": "3.7.3"
    },
    "colab": {
      "name": "Aula 01 - Conhecendo o Jupyter.ipynb",
      "provenance": [],
      "collapsed_sections": [],
      "include_colab_link": true
    }
  },
  "cells": [
    {
      "cell_type": "markdown",
      "metadata": {
        "id": "view-in-github",
        "colab_type": "text"
      },
      "source": [
        "<a href=\"https://colab.research.google.com/github/felipelabs/curso_python/blob/master/Aula_01_Conhecendo_o_Jupyter.ipynb\" target=\"_parent\"><img src=\"https://colab.research.google.com/assets/colab-badge.svg\" alt=\"Open In Colab\"/></a>"
      ]
    },
    {
      "cell_type": "code",
      "metadata": {
        "id": "LVgfonI3Nf6B",
        "colab_type": "code",
        "colab": {}
      },
      "source": [
        "nome = 'Felipe'\n",
        "sobrenome = 'Neves'"
      ],
      "execution_count": null,
      "outputs": []
    },
    {
      "cell_type": "code",
      "metadata": {
        "id": "BQmShOUQNf6H",
        "colab_type": "code",
        "colab": {}
      },
      "source": [
        "curso = 'ByLearn' "
      ],
      "execution_count": null,
      "outputs": []
    },
    {
      "cell_type": "code",
      "metadata": {
        "id": "8DfccSokNf6L",
        "colab_type": "code",
        "colab": {}
      },
      "source": [
        "idade = 22"
      ],
      "execution_count": null,
      "outputs": []
    },
    {
      "cell_type": "code",
      "metadata": {
        "id": "sgdR01enNf6R",
        "colab_type": "code",
        "colab": {}
      },
      "source": [
        "alunos = 16000"
      ],
      "execution_count": null,
      "outputs": []
    },
    {
      "cell_type": "markdown",
      "metadata": {
        "id": "R-OE8SW9Nf6V",
        "colab_type": "text"
      },
      "source": [
        "Quero saber o valor de alunos"
      ]
    },
    {
      "cell_type": "code",
      "metadata": {
        "id": "JH2SZF8eNf6W",
        "colab_type": "code",
        "colab": {},
        "outputId": "76628981-ec29-4a16-8f4f-1e96253c3317"
      },
      "source": [
        "alunos"
      ],
      "execution_count": null,
      "outputs": [
        {
          "output_type": "execute_result",
          "data": {
            "text/plain": [
              "100000"
            ]
          },
          "metadata": {
            "tags": []
          },
          "execution_count": 19
        }
      ]
    },
    {
      "cell_type": "code",
      "metadata": {
        "id": "gcmq6j0CNf6b",
        "colab_type": "code",
        "colab": {}
      },
      "source": [
        "# Vou alterar o numero de alunos"
      ],
      "execution_count": null,
      "outputs": []
    },
    {
      "cell_type": "markdown",
      "metadata": {
        "id": "hVZeGTS-Nf6g",
        "colab_type": "text"
      },
      "source": [
        "Vou alterar o número de alunos"
      ]
    },
    {
      "cell_type": "code",
      "metadata": {
        "id": "Qt38803LNf6h",
        "colab_type": "code",
        "colab": {}
      },
      "source": [
        "alunos = 100000"
      ],
      "execution_count": null,
      "outputs": []
    }
  ]
}