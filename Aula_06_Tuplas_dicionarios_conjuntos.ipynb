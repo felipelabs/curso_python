{
  "nbformat": 4,
  "nbformat_minor": 0,
  "metadata": {
    "colab": {
      "name": "Aula 06 - Tuplas_dicionarios_conjuntos.ipynb",
      "provenance": [],
      "collapsed_sections": [],
      "authorship_tag": "ABX9TyMbCyG7Z/8QRKlAQX7bnRKY",
      "include_colab_link": true
    },
    "kernelspec": {
      "name": "python3",
      "display_name": "Python 3"
    }
  },
  "cells": [
    {
      "cell_type": "markdown",
      "metadata": {
        "id": "view-in-github",
        "colab_type": "text"
      },
      "source": [
        "<a href=\"https://colab.research.google.com/github/felipelabs/curso_python/blob/master/Aula_06_Tuplas_dicionarios_conjuntos.ipynb\" target=\"_parent\"><img src=\"https://colab.research.google.com/assets/colab-badge.svg\" alt=\"Open In Colab\"/></a>"
      ]
    },
    {
      "cell_type": "markdown",
      "metadata": {
        "id": "yC7Ps6zCWS0l",
        "colab_type": "text"
      },
      "source": [
        "# Tuplas, Dicionários, Conjuntos e Listas"
      ]
    },
    {
      "cell_type": "markdown",
      "metadata": {
        "id": "mLlFXKzxW4Yp",
        "colab_type": "text"
      },
      "source": [
        "### Listas\n",
        "* Pode-se aumentar ou diminuir o tamanho.\n",
        "* Pode-se modificar o valor de um elemento.\n",
        "* È a mais popular entre os 4.\n",
        "* Lista é inicializavel com []."
      ]
    },
    {
      "cell_type": "code",
      "metadata": {
        "id": "CZzJdnNMa8nI",
        "colab_type": "code",
        "colab": {
          "base_uri": "https://localhost:8080/",
          "height": 34
        },
        "outputId": "40b227a0-bfb0-4c61-b25f-e5e205e12e86"
      },
      "source": [
        "lista = []\n",
        "lista = [0,1,2]\n",
        "lista = [i for i in range(11)]\n",
        "print(lista)"
      ],
      "execution_count": null,
      "outputs": [
        {
          "output_type": "stream",
          "text": [
            "[0, 1, 2, 3, 4, 5, 6, 7, 8, 9, 10]\n"
          ],
          "name": "stdout"
        }
      ]
    },
    {
      "cell_type": "markdown",
      "metadata": {
        "id": "5pDu3JqaW4jE",
        "colab_type": "text"
      },
      "source": [
        "### Tuplas\n",
        "\n",
        "* Tupla não permite alterações(imutável).\n",
        "* Util para dados fixos.\n",
        "* Mais rapido que uma lista.\n",
        "* É inicalizada com ().\n"
      ]
    },
    {
      "cell_type": "code",
      "metadata": {
        "id": "uP3xeDQVXDQ3",
        "colab_type": "code",
        "colab": {}
      },
      "source": [
        "tupla = ()\n",
        "tupla = (1, 2, 3)"
      ],
      "execution_count": null,
      "outputs": []
    },
    {
      "cell_type": "markdown",
      "metadata": {
        "id": "X4Y4TiL3W49B",
        "colab_type": "text"
      },
      "source": [
        "### Conjuntos\n",
        "* Não é ordenado.\n",
        "* Não aceitam valores duplicados.\n",
        "* Possui operações dos conjuntos matematicos.\n",
        "* Eles são inicializados com {}.\n",
        "*  "
      ]
    },
    {
      "cell_type": "code",
      "metadata": {
        "id": "kmo1OD1hXDzi",
        "colab_type": "code",
        "colab": {}
      },
      "source": [
        "conjunto = {'item'}\n",
        "conjunto = {'a', 1, 2, 'b'}"
      ],
      "execution_count": null,
      "outputs": []
    },
    {
      "cell_type": "markdown",
      "metadata": {
        "id": "o4S_xjs9W4vf",
        "colab_type": "text"
      },
      "source": [
        "### Dicionarios\n",
        "\n",
        "* Possuem chaves e valor\n",
        "* São mutaveis\n",
        "* Não aceitam chaves duplicadas\n",
        "* É inicalizada com {'chave':'valor'}"
      ]
    },
    {
      "cell_type": "code",
      "metadata": {
        "id": "bCaMvcLkXES8",
        "colab_type": "code",
        "colab": {}
      },
      "source": [
        "dicionario = {'chave':'valor', 'chave2':'valor2'}"
      ],
      "execution_count": null,
      "outputs": []
    },
    {
      "cell_type": "markdown",
      "metadata": {
        "id": "eEGu9sTfXCYB",
        "colab_type": "text"
      },
      "source": [
        "## Revisão Sobre Listas"
      ]
    },
    {
      "cell_type": "code",
      "metadata": {
        "id": "xHYvAhHjXJWn",
        "colab_type": "code",
        "colab": {
          "base_uri": "https://localhost:8080/",
          "height": 68
        },
        "outputId": "dc1f33e5-e705-4b8d-beb0-c5a454b6b528"
      },
      "source": [
        "lista = []\n",
        "print(lista)\n",
        "print(type(lista))\n",
        "print(type([]))"
      ],
      "execution_count": null,
      "outputs": [
        {
          "output_type": "stream",
          "text": [
            "[]\n",
            "<class 'list'>\n",
            "<class 'list'>\n"
          ],
          "name": "stdout"
        }
      ]
    },
    {
      "cell_type": "code",
      "metadata": {
        "id": "MGxeyOw8XsV3",
        "colab_type": "code",
        "colab": {
          "base_uri": "https://localhost:8080/",
          "height": 34
        },
        "outputId": "65331441-e45b-4351-e484-859711a75290"
      },
      "source": [
        "lista = [0, 1, 2, 3, 4, 5, 6, 7, 8, 9, 10]\n",
        "print(lista)"
      ],
      "execution_count": null,
      "outputs": [
        {
          "output_type": "stream",
          "text": [
            "[0, 1, 2, 3, 4, 5, 6, 7, 8, 9, 10]\n"
          ],
          "name": "stdout"
        }
      ]
    },
    {
      "cell_type": "code",
      "metadata": {
        "id": "eRu30abgX1xR",
        "colab_type": "code",
        "colab": {
          "base_uri": "https://localhost:8080/",
          "height": 34
        },
        "outputId": "aa01e121-11df-430e-d1de-93f5e3dc86d7"
      },
      "source": [
        "lista = []\n",
        "for i in range(11):\n",
        "  lista.append(i)\n",
        "print(lista)\n"
      ],
      "execution_count": null,
      "outputs": [
        {
          "output_type": "stream",
          "text": [
            "[0, 1, 2, 3, 4, 5, 6, 7, 8, 9, 10]\n"
          ],
          "name": "stdout"
        }
      ]
    },
    {
      "cell_type": "code",
      "metadata": {
        "id": "5q8IhzpkYSvJ",
        "colab_type": "code",
        "colab": {
          "base_uri": "https://localhost:8080/",
          "height": 34
        },
        "outputId": "1f25bb6e-afee-42e3-bbd9-5e91c8330d95"
      },
      "source": [
        "lista = [i for i in range(11)]\n",
        "print(lista)"
      ],
      "execution_count": null,
      "outputs": [
        {
          "output_type": "stream",
          "text": [
            "[0, 1, 2, 3, 4, 5, 6, 7, 8, 9, 10]\n"
          ],
          "name": "stdout"
        }
      ]
    },
    {
      "cell_type": "code",
      "metadata": {
        "id": "-qXdOjvlYiUt",
        "colab_type": "code",
        "colab": {
          "base_uri": "https://localhost:8080/",
          "height": 34
        },
        "outputId": "51dd1bd1-4663-4e9d-dd51-c87b20b84d55"
      },
      "source": [
        "lista[5] = 10\n",
        "lista[6] = 15\n",
        "\n",
        "print(lista)"
      ],
      "execution_count": null,
      "outputs": [
        {
          "output_type": "stream",
          "text": [
            "[0, 1, 2, 3, 4, 10, 15, 7, 8, 9, 10]\n"
          ],
          "name": "stdout"
        }
      ]
    },
    {
      "cell_type": "code",
      "metadata": {
        "id": "W2iXVWwlZNmj",
        "colab_type": "code",
        "colab": {
          "base_uri": "https://localhost:8080/",
          "height": 34
        },
        "outputId": "363a6ac8-1131-4161-d199-b1a652fab0cb"
      },
      "source": [
        "lista.remove(4)\n",
        "print(lista)"
      ],
      "execution_count": null,
      "outputs": [
        {
          "output_type": "stream",
          "text": [
            "[0, 1, 2, 3, 10, 15, 7, 8, 9, 10]\n"
          ],
          "name": "stdout"
        }
      ]
    },
    {
      "cell_type": "markdown",
      "metadata": {
        "id": "dGB1jAMvbLmo",
        "colab_type": "text"
      },
      "source": [
        "## Aula de tuplas"
      ]
    },
    {
      "cell_type": "code",
      "metadata": {
        "id": "Soo2E4q7bOUX",
        "colab_type": "code",
        "colab": {
          "base_uri": "https://localhost:8080/",
          "height": 68
        },
        "outputId": "931636e8-8922-4d7e-c3b0-809bb07e6288"
      },
      "source": [
        "tupla = ()\n",
        "print(tupla)\n",
        "print(type(tupla))\n",
        "print(type(()))"
      ],
      "execution_count": null,
      "outputs": [
        {
          "output_type": "stream",
          "text": [
            "()\n",
            "<class 'tuple'>\n",
            "<class 'tuple'>\n"
          ],
          "name": "stdout"
        }
      ]
    },
    {
      "cell_type": "code",
      "metadata": {
        "id": "X2_aHOe0bbwH",
        "colab_type": "code",
        "colab": {
          "base_uri": "https://localhost:8080/",
          "height": 34
        },
        "outputId": "298c1a25-af9f-467e-8f8f-8899b7a5e485"
      },
      "source": [
        "tupla = (1, 2, 3) # ela é inicializada e fica sempre assim com os mesmos valores.\n",
        "print(tupla)"
      ],
      "execution_count": null,
      "outputs": [
        {
          "output_type": "stream",
          "text": [
            "(1, 2, 3)\n"
          ],
          "name": "stdout"
        }
      ]
    },
    {
      "cell_type": "code",
      "metadata": {
        "id": "ilvgSoRmbgUK",
        "colab_type": "code",
        "colab": {
          "base_uri": "https://localhost:8080/",
          "height": 51
        },
        "outputId": "b0d6b57e-969d-4847-a411-0f76d519830f"
      },
      "source": [
        "print(tupla[0])\n",
        "print(tupla[1])"
      ],
      "execution_count": null,
      "outputs": [
        {
          "output_type": "stream",
          "text": [
            "1\n",
            "2\n"
          ],
          "name": "stdout"
        }
      ]
    },
    {
      "cell_type": "code",
      "metadata": {
        "id": "DF10Po8nbmtM",
        "colab_type": "code",
        "colab": {
          "base_uri": "https://localhost:8080/",
          "height": 163
        },
        "outputId": "b9aa4ea5-8a5d-4ae4-cdb3-8ef99a63a96b"
      },
      "source": [
        "tupla.append(4) # tupla não permite adicionar elementos."
      ],
      "execution_count": null,
      "outputs": [
        {
          "output_type": "error",
          "ename": "AttributeError",
          "evalue": "ignored",
          "traceback": [
            "\u001b[0;31m---------------------------------------------------------------------------\u001b[0m",
            "\u001b[0;31mAttributeError\u001b[0m                            Traceback (most recent call last)",
            "\u001b[0;32m<ipython-input-17-47fb176b825b>\u001b[0m in \u001b[0;36m<module>\u001b[0;34m()\u001b[0m\n\u001b[0;32m----> 1\u001b[0;31m \u001b[0mtupla\u001b[0m\u001b[0;34m.\u001b[0m\u001b[0mappend\u001b[0m\u001b[0;34m(\u001b[0m\u001b[0;36m4\u001b[0m\u001b[0;34m)\u001b[0m\u001b[0;34m\u001b[0m\u001b[0;34m\u001b[0m\u001b[0m\n\u001b[0m",
            "\u001b[0;31mAttributeError\u001b[0m: 'tuple' object has no attribute 'append'"
          ]
        }
      ]
    },
    {
      "cell_type": "code",
      "metadata": {
        "id": "fagXtcU0b7o-",
        "colab_type": "code",
        "colab": {
          "base_uri": "https://localhost:8080/",
          "height": 180
        },
        "outputId": "7eb44391-2707-44a4-c6c5-d4cab8c29a46"
      },
      "source": [
        "tupla[0] = 2 # Tupla não permite alterar os elementos.\n",
        "tupla[1] = 5"
      ],
      "execution_count": null,
      "outputs": [
        {
          "output_type": "error",
          "ename": "TypeError",
          "evalue": "ignored",
          "traceback": [
            "\u001b[0;31m---------------------------------------------------------------------------\u001b[0m",
            "\u001b[0;31mTypeError\u001b[0m                                 Traceback (most recent call last)",
            "\u001b[0;32m<ipython-input-18-5f084c13f3b0>\u001b[0m in \u001b[0;36m<module>\u001b[0;34m()\u001b[0m\n\u001b[0;32m----> 1\u001b[0;31m \u001b[0mtupla\u001b[0m\u001b[0;34m[\u001b[0m\u001b[0;36m0\u001b[0m\u001b[0;34m]\u001b[0m \u001b[0;34m=\u001b[0m \u001b[0;36m2\u001b[0m\u001b[0;34m\u001b[0m\u001b[0;34m\u001b[0m\u001b[0m\n\u001b[0m\u001b[1;32m      2\u001b[0m \u001b[0mtupla\u001b[0m\u001b[0;34m[\u001b[0m\u001b[0;36m1\u001b[0m\u001b[0;34m]\u001b[0m \u001b[0;34m=\u001b[0m \u001b[0;36m5\u001b[0m\u001b[0;34m\u001b[0m\u001b[0;34m\u001b[0m\u001b[0m\n",
            "\u001b[0;31mTypeError\u001b[0m: 'tuple' object does not support item assignment"
          ]
        }
      ]
    },
    {
      "cell_type": "code",
      "metadata": {
        "id": "0Oa8Ve9CcDTx",
        "colab_type": "code",
        "colab": {
          "base_uri": "https://localhost:8080/",
          "height": 163
        },
        "outputId": "fefe2502-afd8-49d9-dc12-7b4700c923ec"
      },
      "source": [
        "tupla.remove(1) # Tupla não permite remover um elemento."
      ],
      "execution_count": null,
      "outputs": [
        {
          "output_type": "error",
          "ename": "AttributeError",
          "evalue": "ignored",
          "traceback": [
            "\u001b[0;31m---------------------------------------------------------------------------\u001b[0m",
            "\u001b[0;31mAttributeError\u001b[0m                            Traceback (most recent call last)",
            "\u001b[0;32m<ipython-input-19-808492bd52f7>\u001b[0m in \u001b[0;36m<module>\u001b[0;34m()\u001b[0m\n\u001b[0;32m----> 1\u001b[0;31m \u001b[0mtupla\u001b[0m\u001b[0;34m.\u001b[0m\u001b[0mremove\u001b[0m\u001b[0;34m(\u001b[0m\u001b[0;36m1\u001b[0m\u001b[0;34m)\u001b[0m\u001b[0;34m\u001b[0m\u001b[0;34m\u001b[0m\u001b[0m\n\u001b[0m",
            "\u001b[0;31mAttributeError\u001b[0m: 'tuple' object has no attribute 'remove'"
          ]
        }
      ]
    },
    {
      "cell_type": "markdown",
      "metadata": {
        "id": "DNgycFLbp7TA",
        "colab_type": "text"
      },
      "source": [
        "**Conclusão:**Tuplas são imutaveis."
      ]
    },
    {
      "cell_type": "markdown",
      "metadata": {
        "id": "g7LO3_elq9km",
        "colab_type": "text"
      },
      "source": [
        "Para criarmos ou converter um objeto para uma tupla podemos usar a função **tuple()**."
      ]
    },
    {
      "cell_type": "code",
      "metadata": {
        "id": "cOcb8rLsp_nS",
        "colab_type": "code",
        "colab": {
          "base_uri": "https://localhost:8080/",
          "height": 34
        },
        "outputId": "433495e7-2cf9-4c43-9d12-e2a2ddf2e5d6"
      },
      "source": [
        "tupla = tuple(([i for i in range(11)]))\n",
        "print(tupla)"
      ],
      "execution_count": null,
      "outputs": [
        {
          "output_type": "stream",
          "text": [
            "(0, 1, 2, 3, 4, 5, 6, 7, 8, 9, 10)\n"
          ],
          "name": "stdout"
        }
      ]
    },
    {
      "cell_type": "code",
      "metadata": {
        "id": "UFd0NyEir_Tz",
        "colab_type": "code",
        "colab": {
          "base_uri": "https://localhost:8080/",
          "height": 85
        },
        "outputId": "bf9f17d7-6cde-4897-e83b-425883252893"
      },
      "source": [
        "lista = [0, 1, 2]\n",
        "tupla = tuple(lista)\n",
        "print(lista)\n",
        "print(tupla)\n",
        "print(type(lista))\n",
        "print(type(tupla))"
      ],
      "execution_count": null,
      "outputs": [
        {
          "output_type": "stream",
          "text": [
            "[0, 1, 2]\n",
            "(0, 1, 2)\n",
            "<class 'list'>\n",
            "<class 'tuple'>\n"
          ],
          "name": "stdout"
        }
      ]
    },
    {
      "cell_type": "markdown",
      "metadata": {
        "id": "Y9eF6dudtL8n",
        "colab_type": "text"
      },
      "source": [
        "Podemos transformar uma lista em tupla e vice-versa e podemos alterar os valores."
      ]
    },
    {
      "cell_type": "code",
      "metadata": {
        "id": "vamxoZFMswZC",
        "colab_type": "code",
        "colab": {
          "base_uri": "https://localhost:8080/",
          "height": 34
        },
        "outputId": "7ac547f0-ad5c-4dd3-a134-b4796a5f2a8a"
      },
      "source": [
        "tupla = (1, 2, 3, 4, 5)\n",
        "lista = list(tupla)\n",
        "lista.append(6)\n",
        "lista[3] = 'teste'\n",
        "lista.remove(5)\n",
        "tupla = tuple(lista)\n",
        "print(tupla)"
      ],
      "execution_count": null,
      "outputs": [
        {
          "output_type": "stream",
          "text": [
            "(1, 2, 3, 'teste', 6)\n"
          ],
          "name": "stdout"
        }
      ]
    },
    {
      "cell_type": "markdown",
      "metadata": {
        "id": "lHBMuUACvZ5n",
        "colab_type": "text"
      },
      "source": [
        "**Operações gerais para estrutura de dados tuplas, Dicionários, Conjuntos e Listas.**"
      ]
    },
    {
      "cell_type": "code",
      "metadata": {
        "id": "NR9W2cBFtTB8",
        "colab_type": "code",
        "colab": {
          "base_uri": "https://localhost:8080/",
          "height": 204
        },
        "outputId": "7e2aee4f-9e99-4925-e835-1da2ea45db90"
      },
      "source": [
        "tupla = (1, 2, 3, 4, 5)\n",
        "print(tupla[0])\n",
        "print(tupla[1:4])\n",
        "print(tupla[-1])\n",
        "print(len(tupla))\n",
        "print(3 in tupla) # True\n",
        "print(4 not in tupla) # False\n",
        "\n",
        "for i in tupla:\n",
        "  print(i)"
      ],
      "execution_count": null,
      "outputs": [
        {
          "output_type": "stream",
          "text": [
            "1\n",
            "(2, 3, 4)\n",
            "5\n",
            "5\n",
            "True\n",
            "False\n",
            "1\n",
            "2\n",
            "3\n",
            "4\n",
            "5\n"
          ],
          "name": "stdout"
        }
      ]
    },
    {
      "cell_type": "markdown",
      "metadata": {
        "id": "TrbobRIdwIP4",
        "colab_type": "text"
      },
      "source": [
        "## Aula de Conjuntos (Sets)\n",
        "** Vem da teoria dos conjuntos matemáticos, tendo todas as operações que eles possuem.**"
      ]
    },
    {
      "cell_type": "code",
      "metadata": {
        "id": "Gl_aTqBfwStv",
        "colab_type": "code",
        "colab": {
          "base_uri": "https://localhost:8080/",
          "height": 51
        },
        "outputId": "d74cc93a-a6ce-4e5d-b368-cbe027493ff4"
      },
      "source": [
        "conjunto = {'teste'}\n",
        "print(conjunto)\n",
        "print(type(conjunto))"
      ],
      "execution_count": null,
      "outputs": [
        {
          "output_type": "stream",
          "text": [
            "{'teste'}\n",
            "<class 'set'>\n"
          ],
          "name": "stdout"
        }
      ]
    },
    {
      "cell_type": "markdown",
      "metadata": {
        "id": "pJqC1xw3yB7Q",
        "colab_type": "text"
      },
      "source": [
        "Conjunto não aceitam numeros duplicados."
      ]
    },
    {
      "cell_type": "code",
      "metadata": {
        "id": "stMALcUPyE3M",
        "colab_type": "code",
        "colab": {
          "base_uri": "https://localhost:8080/",
          "height": 34
        },
        "outputId": "1efa826b-ff91-4b3e-d0f7-3b8677be7991"
      },
      "source": [
        "conjunto = {1, 1, 2, 3, 4, 5, 5}\n",
        "print(conjunto)"
      ],
      "execution_count": null,
      "outputs": [
        {
          "output_type": "stream",
          "text": [
            "{1, 2, 3, 4, 5}\n"
          ],
          "name": "stdout"
        }
      ]
    },
    {
      "cell_type": "code",
      "metadata": {
        "id": "bIG6UnF3yUVm",
        "colab_type": "code",
        "colab": {
          "base_uri": "https://localhost:8080/",
          "height": 51
        },
        "outputId": "3009e35d-9b25-44b2-ca2d-814faecfd675"
      },
      "source": [
        "conjunto1 = {'a', 'b', 'c', 'd'}\n",
        "conjunto2 = {'j', 'm', 'n', 'c' ,'d'}\n",
        "print(conjunto1)# Não são ordendos\n",
        "print(conjunto2) # Não são ordenados"
      ],
      "execution_count": null,
      "outputs": [
        {
          "output_type": "stream",
          "text": [
            "{'c', 'd', 'b', 'a'}\n",
            "{'c', 'j', 'n', 'm', 'd'}\n"
          ],
          "name": "stdout"
        }
      ]
    },
    {
      "cell_type": "code",
      "metadata": {
        "id": "dRk0my6tzjVE",
        "colab_type": "code",
        "colab": {}
      },
      "source": [
        "conjunto1.add('f') # add --> adição --> operações dos conjuntos matematicos\n",
        "conjunto2.add('g')"
      ],
      "execution_count": null,
      "outputs": []
    },
    {
      "cell_type": "code",
      "metadata": {
        "id": "z2hZAz0CzquC",
        "colab_type": "code",
        "colab": {
          "base_uri": "https://localhost:8080/",
          "height": 51
        },
        "outputId": "a464fdbe-a5ca-410f-b1aa-48cace8d1ef5"
      },
      "source": [
        "print(conjunto1)\n",
        "print(conjunto2)"
      ],
      "execution_count": null,
      "outputs": [
        {
          "output_type": "stream",
          "text": [
            "{'c', 'b', 'a', 'f', 'd'}\n",
            "{'c', 'j', 'g', 'n', 'm', 'd'}\n"
          ],
          "name": "stdout"
        }
      ]
    },
    {
      "cell_type": "markdown",
      "metadata": {
        "id": "HIs5yVXCk_u1",
        "colab_type": "text"
      },
      "source": [
        "**Operações com um só conjunto por vez.**\n",
        "\n",
        "**Add:** Adiciona um item por vez."
      ]
    },
    {
      "cell_type": "code",
      "metadata": {
        "id": "pjvCPGb-lF-_",
        "colab_type": "code",
        "colab": {
          "base_uri": "https://localhost:8080/",
          "height": 34
        },
        "outputId": "6410b51e-ecee-47d3-9fbb-cebdce7ef2bf"
      },
      "source": [
        "frutas = {'uva','banana'}\n",
        "frutas.add('laranja')\n",
        "print(frutas)"
      ],
      "execution_count": null,
      "outputs": [
        {
          "output_type": "stream",
          "text": [
            "{'laranja', 'banana', 'uva'}\n"
          ],
          "name": "stdout"
        }
      ]
    },
    {
      "cell_type": "markdown",
      "metadata": {
        "id": "qGP9eMokl5aA",
        "colab_type": "text"
      },
      "source": [
        "**Update**: Adiciona varios itens de uma vez."
      ]
    },
    {
      "cell_type": "code",
      "metadata": {
        "id": "6s5BZ9LVlt_w",
        "colab_type": "code",
        "colab": {
          "base_uri": "https://localhost:8080/",
          "height": 34
        },
        "outputId": "7f0c1ae3-2b9e-40aa-ef98-0116ffa725db"
      },
      "source": [
        "frutas = {'uva','banana'}\n",
        "frutas.update(['maça','morango','abacate','malancia','mexirica'])\n",
        "print(frutas)"
      ],
      "execution_count": null,
      "outputs": [
        {
          "output_type": "stream",
          "text": [
            "{'malancia', 'abacate', 'mexirica', 'banana', 'morango', 'maça', 'uva'}\n"
          ],
          "name": "stdout"
        }
      ]
    },
    {
      "cell_type": "markdown",
      "metadata": {
        "id": "Fm9ttAGdm0Xm",
        "colab_type": "text"
      },
      "source": [
        "**Remove**: Da erro se o valor não existir.\n",
        "**Discart**: Não da erro se o valor não existir."
      ]
    },
    {
      "cell_type": "code",
      "metadata": {
        "id": "VAhfaBoemMtq",
        "colab_type": "code",
        "colab": {
          "base_uri": "https://localhost:8080/",
          "height": 34
        },
        "outputId": "247adc1d-4712-42cc-f280-ef64d48aeb66"
      },
      "source": [
        "frutas.remove('maça')\n",
        "print(frutas)"
      ],
      "execution_count": null,
      "outputs": [
        {
          "output_type": "stream",
          "text": [
            "{'malancia', 'abacate', 'mexirica', 'banana', 'morango', 'uva'}\n"
          ],
          "name": "stdout"
        }
      ]
    },
    {
      "cell_type": "code",
      "metadata": {
        "id": "mJh1gDqvmk2I",
        "colab_type": "code",
        "colab": {
          "base_uri": "https://localhost:8080/",
          "height": 34
        },
        "outputId": "15362592-f413-426b-afc2-b3376b67f3c9"
      },
      "source": [
        "frutas.discard('maça')\n",
        "print(frutas)"
      ],
      "execution_count": null,
      "outputs": [
        {
          "output_type": "stream",
          "text": [
            "{'malancia', 'abacate', 'mexirica', 'banana', 'morango', 'uva'}\n"
          ],
          "name": "stdout"
        }
      ]
    },
    {
      "cell_type": "markdown",
      "metadata": {
        "id": "CoYBkhCNnFRY",
        "colab_type": "text"
      },
      "source": [
        "**Clear()**: Remove todos os itens."
      ]
    },
    {
      "cell_type": "code",
      "metadata": {
        "id": "aSwniZmhm-AY",
        "colab_type": "code",
        "colab": {
          "base_uri": "https://localhost:8080/",
          "height": 34
        },
        "outputId": "940cd9f6-3791-434b-943c-0270a2574c69"
      },
      "source": [
        "frutas.clear()\n",
        "print(frutas)"
      ],
      "execution_count": null,
      "outputs": [
        {
          "output_type": "stream",
          "text": [
            "set()\n"
          ],
          "name": "stdout"
        }
      ]
    },
    {
      "cell_type": "markdown",
      "metadata": {
        "id": "XMdRWxV1nLln",
        "colab_type": "text"
      },
      "source": [
        "**Operações com mais de um conjunto por vez**\n",
        "\n",
        "**Union**: Faz a soma de dois conjuntos.\n",
        "\n",
        "**Update**: Tambem une os dois conjuntos, porem, modifica direto no propio conjunto que chama esse metodo."
      ]
    },
    {
      "cell_type": "code",
      "metadata": {
        "id": "lKROki8mnI6s",
        "colab_type": "code",
        "colab": {
          "base_uri": "https://localhost:8080/",
          "height": 34
        },
        "outputId": "1f00f29e-e401-4312-b83c-1854aef62293"
      },
      "source": [
        "conjunto1 = {'a', 'b', 'c', 'd'}\n",
        "conjunto2 = {'j', 'm', 'n', 'c' ,'d'}\n",
        "\n",
        "conjunto_total = conjunto1.union(conjunto2) # union me retorna um valor (conjunto)\n",
        "print(conjunto_total)"
      ],
      "execution_count": null,
      "outputs": [
        {
          "output_type": "stream",
          "text": [
            "{'m', 'a', 'd', 'b', 'c', 'j', 'n'}\n"
          ],
          "name": "stdout"
        }
      ]
    },
    {
      "cell_type": "code",
      "metadata": {
        "id": "tJFdOkjfnxcm",
        "colab_type": "code",
        "colab": {
          "base_uri": "https://localhost:8080/",
          "height": 34
        },
        "outputId": "ab16a57b-4e7e-418d-d48f-7d4ba091bf74"
      },
      "source": [
        "conjunto1 = {'a', 'b', 'c', 'd'}\n",
        "conjunto2 = {'j', 'm', 'n', 'c' ,'d'}\n",
        "\n",
        "conjunto1.update(conjunto2) # update modifica o seu conjunto\n",
        "print(conjunto1)"
      ],
      "execution_count": null,
      "outputs": [
        {
          "output_type": "stream",
          "text": [
            "{'m', 'a', 'd', 'b', 'c', 'j', 'n'}\n"
          ],
          "name": "stdout"
        }
      ]
    },
    {
      "cell_type": "markdown",
      "metadata": {
        "id": "2h0RM0PwqIl6",
        "colab_type": "text"
      },
      "source": [
        "**Intersection**: Me mostra a interseção entre um e outro.\n",
        "**Difference**: Me mostra a diferenaç entre um e o outro."
      ]
    },
    {
      "cell_type": "code",
      "metadata": {
        "id": "IBhYn9pKpkG9",
        "colab_type": "code",
        "colab": {
          "base_uri": "https://localhost:8080/",
          "height": 34
        },
        "outputId": "93edb0ad-c6e8-40d3-d3a1-e0a6554a2249"
      },
      "source": [
        "conjunto1 = {'a', 'b', 'c', 'd'}\n",
        "conjunto2 = {'j', 'm', 'n', 'c' ,'d'}\n",
        "\n",
        "interseccao = conjunto1.intersection(conjunto2)\n",
        "print(interseccao)"
      ],
      "execution_count": null,
      "outputs": [
        {
          "output_type": "stream",
          "text": [
            "{'d', 'c'}\n"
          ],
          "name": "stdout"
        }
      ]
    },
    {
      "cell_type": "code",
      "metadata": {
        "id": "w1CzUtJsp5OO",
        "colab_type": "code",
        "colab": {
          "base_uri": "https://localhost:8080/",
          "height": 51
        },
        "outputId": "4ade8764-9c31-4d89-cafe-b1f6a59aaa7a"
      },
      "source": [
        "conjunto1 = {'a', 'b', 'c', 'd'}\n",
        "conjunto2 = {'j', 'm', 'n', 'c' ,'d'}\n",
        "\n",
        "diferenca = conjunto1.difference(conjunto2)\n",
        "diferenca2 = conjunto2.difference(conjunto1)\n",
        "print(f'Diferença do conjunto 1  do conjunto 2 : {diferenca}')\n",
        "print(f'Diferença do conjunto 2 para o conjunto 1 : {diferenca2}')"
      ],
      "execution_count": null,
      "outputs": [
        {
          "output_type": "stream",
          "text": [
            "Diferença do conjunto 1  do conjunto 2 : {'b', 'a'}\n",
            "Diferença do conjunto 2 para o conjunto 1 : {'j', 'm', 'n'}\n"
          ],
          "name": "stdout"
        }
      ]
    },
    {
      "cell_type": "markdown",
      "metadata": {
        "id": "q3zg930ZrRHd",
        "colab_type": "text"
      },
      "source": [
        "**issubset**: Se o primeiro é um sub conjunto do segundo."
      ]
    },
    {
      "cell_type": "code",
      "metadata": {
        "id": "OT0wIz9xrDo8",
        "colab_type": "code",
        "colab": {
          "base_uri": "https://localhost:8080/",
          "height": 34
        },
        "outputId": "87bbdf83-e976-4ec4-f2d8-d93c1be9a407"
      },
      "source": [
        "conjuntinho = {1, 2, 3}\n",
        "conjuntao = {1, 2, 3, 4}\n",
        "\n",
        "subconjunto = conjuntinho.issubset(conjuntao)\n",
        "print(subconjunto)"
      ],
      "execution_count": null,
      "outputs": [
        {
          "output_type": "stream",
          "text": [
            "True\n"
          ],
          "name": "stdout"
        }
      ]
    },
    {
      "cell_type": "markdown",
      "metadata": {
        "id": "KnNGP0O-rZ0B",
        "colab_type": "text"
      },
      "source": [
        "**Set()**: Converte para conjunto.\n",
        "\n",
        "**Metodo construtor**: È o metodo que cria uma instancia (objeto) daquela classe."
      ]
    },
    {
      "cell_type": "code",
      "metadata": {
        "id": "3AsBJDI3relg",
        "colab_type": "code",
        "colab": {
          "base_uri": "https://localhost:8080/",
          "height": 34
        },
        "outputId": "52ee730f-dd8d-41ca-a3b7-b8677c948610"
      },
      "source": [
        "set() # construtor da classe conjunto.\n",
        "tuple() # contrutor da classe tupla.\n",
        "list() # construtor da classe lista\n",
        "\n",
        "print()"
      ],
      "execution_count": null,
      "outputs": [
        {
          "output_type": "stream",
          "text": [
            "\n"
          ],
          "name": "stdout"
        }
      ]
    },
    {
      "cell_type": "code",
      "metadata": {
        "id": "mtVJKRAosH_I",
        "colab_type": "code",
        "colab": {
          "base_uri": "https://localhost:8080/",
          "height": 51
        },
        "outputId": "16a2f06a-e264-4b31-9250-966bdd5d0a89"
      },
      "source": [
        "lista = [1, 2, 3, 4, 5]\n",
        "tupla = ('a','b','c','d','e','f')\n",
        "\n",
        "conjunto1 = set(lista)\n",
        "conjunto2 = set(tupla)\n",
        "print(conjunto1)\n",
        "print(conjunto2)"
      ],
      "execution_count": null,
      "outputs": [
        {
          "output_type": "stream",
          "text": [
            "{1, 2, 3, 4, 5}\n",
            "{'a', 'd', 'b', 'c', 'f', 'e'}\n"
          ],
          "name": "stdout"
        }
      ]
    },
    {
      "cell_type": "markdown",
      "metadata": {
        "id": "dkf4LcmStHSf",
        "colab_type": "text"
      },
      "source": [
        "## Aula de dicionarios\n",
        "É uma estrutura de dados composta por chaves e valores."
      ]
    },
    {
      "cell_type": "code",
      "metadata": {
        "id": "-oJ-jxsKtKks",
        "colab_type": "code",
        "colab": {}
      },
      "source": [
        "# Listas [] --> Mutavel, adiciona e remove valores.\n",
        "# Tuplas () --> Imutavel, porem mais rapida.\n",
        "# Conjuntos {} --> Conjuntos numericos, operações de conjuntos, não ordenados..\n",
        "\n",
        "# Procura --> Resposta\n",
        "# chave --> valor\n",
        "# dog --> cachorro\n",
        "# cat --> gato\n",
        "# apple --> maçã\n",
        "# while --> enquanto\n",
        "\n",
        "# é composto por chave e valor."
      ],
      "execution_count": null,
      "outputs": []
    },
    {
      "cell_type": "code",
      "metadata": {
        "id": "DvFzRc2cuiLB",
        "colab_type": "code",
        "colab": {
          "base_uri": "https://localhost:8080/",
          "height": 68
        },
        "outputId": "689cf361-6509-4c99-8517-7dd81c05dad6"
      },
      "source": [
        "dict = {'dog':'cachorro', # Não aceita repetições na chave\n",
        "        'cat':'gato',\n",
        "        'bird':'ave'} # Sobrescreve o valor atual da chave\n",
        "  \n",
        "print(dict)\n",
        "print(type(dict))\n",
        "print(type({'dog':'cachorro'}))\n"
      ],
      "execution_count": null,
      "outputs": [
        {
          "output_type": "stream",
          "text": [
            "{'dog': 'cachorro', 'cat': 'gato', 'bird': 'ave'}\n",
            "<class 'dict'>\n",
            "<class 'dict'>\n"
          ],
          "name": "stdout"
        }
      ]
    },
    {
      "cell_type": "markdown",
      "metadata": {
        "id": "f0upjOUdAST8",
        "colab_type": "text"
      },
      "source": [
        "**Dicionario['chave'] :**Procura pela chave e retorna o valor, da erro se não existir a chave.\n",
        "\n",
        "**Dicionario.get('chave'):** Procura pela chave e retorna o valor. não da erro se não existir a chave."
      ]
    },
    {
      "cell_type": "code",
      "metadata": {
        "id": "lVN3ZgHdv8V5",
        "colab_type": "code",
        "colab": {}
      },
      "source": [
        "# Dicionario suporta varios items\n",
        "# Chaves não podem ser repetidas\n",
        "# È mutavel (alteravel)"
      ],
      "execution_count": null,
      "outputs": []
    },
    {
      "cell_type": "code",
      "metadata": {
        "id": "moWa7-T2wI-E",
        "colab_type": "code",
        "colab": {
          "base_uri": "https://localhost:8080/",
          "height": 35
        },
        "outputId": "ce35e890-e5f4-43c9-a920-252d2dc3f5d5"
      },
      "source": [
        "dict['dog'] # Dicionarios é acessivel por chaves e não por indices."
      ],
      "execution_count": null,
      "outputs": [
        {
          "output_type": "execute_result",
          "data": {
            "application/vnd.google.colaboratory.intrinsic": {
              "type": "string"
            },
            "text/plain": [
              "'cachorro'"
            ]
          },
          "metadata": {
            "tags": []
          },
          "execution_count": 25
        }
      ]
    },
    {
      "cell_type": "code",
      "metadata": {
        "id": "7LnfTerX_xX2",
        "colab_type": "code",
        "colab": {
          "base_uri": "https://localhost:8080/",
          "height": 35
        },
        "outputId": "d93ab16f-6af0-4378-addd-c0bc6a21aa28"
      },
      "source": [
        "dict.get('dog') # não dá erro se não existir"
      ],
      "execution_count": null,
      "outputs": [
        {
          "output_type": "execute_result",
          "data": {
            "application/vnd.google.colaboratory.intrinsic": {
              "type": "string"
            },
            "text/plain": [
              "'cachorro'"
            ]
          },
          "metadata": {
            "tags": []
          },
          "execution_count": 26
        }
      ]
    },
    {
      "cell_type": "markdown",
      "metadata": {
        "id": "1OyQbJLaBysT",
        "colab_type": "text"
      },
      "source": [
        "**Dicionario são mutaveis (Alteraveis)**"
      ]
    },
    {
      "cell_type": "code",
      "metadata": {
        "id": "yQBzKBzVBEf7",
        "colab_type": "code",
        "colab": {
          "base_uri": "https://localhost:8080/",
          "height": 34
        },
        "outputId": "32628e71-a6b6-4ced-f096-0f54e6f2f0af"
      },
      "source": [
        "dict = {'dog':'cachoro', # Não aceita repetições na chave\n",
        "        'cat':'gato',\n",
        "        'bird':'ave'} # Sobrescreve o valor atual da chave\n",
        "\n",
        "print(dict)"
      ],
      "execution_count": null,
      "outputs": [
        {
          "output_type": "stream",
          "text": [
            "{'dog': 'cachoro', 'cat': 'gato', 'bird': 'ave'}\n"
          ],
          "name": "stdout"
        }
      ]
    },
    {
      "cell_type": "code",
      "metadata": {
        "id": "zAZjpnpKBb8g",
        "colab_type": "code",
        "colab": {
          "base_uri": "https://localhost:8080/",
          "height": 34
        },
        "outputId": "39e964bb-1f5c-40a5-d386-5d9445844a38"
      },
      "source": [
        "dict['dog'] = 'cachorro'\n",
        "\n",
        "print(dict)"
      ],
      "execution_count": null,
      "outputs": [
        {
          "output_type": "stream",
          "text": [
            "{'dog': 'cachorro', 'cat': 'gato', 'bird': 'ave'}\n"
          ],
          "name": "stdout"
        }
      ]
    },
    {
      "cell_type": "markdown",
      "metadata": {
        "id": "IsVIWQZqzHTQ",
        "colab_type": "text"
      },
      "source": [
        "**Embora recomendavel não necessariamente uma chave deve ser uma string.**"
      ]
    },
    {
      "cell_type": "code",
      "metadata": {
        "id": "K6fi5GyeynDd",
        "colab_type": "code",
        "colab": {
          "base_uri": "https://localhost:8080/",
          "height": 34
        },
        "outputId": "c7641d46-c112-4f7c-df41-18753654537c"
      },
      "source": [
        "dict = {'string':1, 'string2': 2.5, 'string3':'string'}\n",
        "print(dict)"
      ],
      "execution_count": null,
      "outputs": [
        {
          "output_type": "stream",
          "text": [
            "{'string': 1, 'string2': 2.5, 'string3': 'string'}\n"
          ],
          "name": "stdout"
        }
      ]
    },
    {
      "cell_type": "code",
      "metadata": {
        "id": "UJtPpu8xyvnb",
        "colab_type": "code",
        "colab": {
          "base_uri": "https://localhost:8080/",
          "height": 34
        },
        "outputId": "4fa7919e-7c77-4a43-d8c0-605ab1d8b4af"
      },
      "source": [
        "dict_num = {1:'um', 2:'dois', 3:'tres', 4:'quatro', 5:'cinco'}\n",
        "print(dict_num)"
      ],
      "execution_count": null,
      "outputs": [
        {
          "output_type": "stream",
          "text": [
            "{1: 'um', 2: 'dois', 3: 'tres', 4: 'quatro', 5: 'cinco'}\n"
          ],
          "name": "stdout"
        }
      ]
    },
    {
      "cell_type": "markdown",
      "metadata": {
        "id": "7euzuhuZ0Vm6",
        "colab_type": "text"
      },
      "source": [
        "### Realizando loops nos dicionários"
      ]
    },
    {
      "cell_type": "code",
      "metadata": {
        "id": "Z-k8uXiFzWUq",
        "colab_type": "code",
        "colab": {
          "base_uri": "https://localhost:8080/",
          "height": 136
        },
        "outputId": "b9d708e5-a9c0-4c35-b78a-e56ac715e9bc"
      },
      "source": [
        "dict = {'dog':'cachoro', \n",
        "        'cat':'gato',\n",
        "        'bird':'ave'}\n",
        "\n",
        "for chave in dict:\n",
        "  print(chave)\n",
        "\n",
        "print('-' *25)\n",
        "\n",
        "for chave in dict:\n",
        "  print(dict[chave])"
      ],
      "execution_count": null,
      "outputs": [
        {
          "output_type": "stream",
          "text": [
            "dog\n",
            "cat\n",
            "bird\n",
            "-------------------------\n",
            "cachoro\n",
            "gato\n",
            "ave\n"
          ],
          "name": "stdout"
        }
      ]
    },
    {
      "cell_type": "code",
      "metadata": {
        "id": "p242czcXz5GX",
        "colab_type": "code",
        "colab": {
          "base_uri": "https://localhost:8080/",
          "height": 68
        },
        "outputId": "b790f184-dbd3-4b31-cb37-699994581c2f"
      },
      "source": [
        "# Chaves --> keys()\n",
        "# valores --> values()\n",
        "# itens --> items()\n",
        "\n",
        "print(dict.keys())\n",
        "print(dict.values())\n",
        "print(dict.items())"
      ],
      "execution_count": null,
      "outputs": [
        {
          "output_type": "stream",
          "text": [
            "dict_keys(['dog', 'cat', 'bird'])\n",
            "dict_values(['cachoro', 'gato', 'ave'])\n",
            "dict_items([('dog', 'cachoro'), ('cat', 'gato'), ('bird', 'ave')])\n"
          ],
          "name": "stdout"
        }
      ]
    },
    {
      "cell_type": "code",
      "metadata": {
        "id": "nK-7pm-x0_IP",
        "colab_type": "code",
        "colab": {
          "base_uri": "https://localhost:8080/",
          "height": 68
        },
        "outputId": "2c1741aa-606e-4317-83fe-6c8603a29441"
      },
      "source": [
        "for valor in dict.values():\n",
        "  print(valor)"
      ],
      "execution_count": null,
      "outputs": [
        {
          "output_type": "stream",
          "text": [
            "cachoro\n",
            "gato\n",
            "ave\n"
          ],
          "name": "stdout"
        }
      ]
    },
    {
      "cell_type": "code",
      "metadata": {
        "id": "GPhoT0lF1EPZ",
        "colab_type": "code",
        "colab": {
          "base_uri": "https://localhost:8080/",
          "height": 68
        },
        "outputId": "b71b28dd-cf3e-406c-b997-8de27a8adb5f"
      },
      "source": [
        "for chave in dict.keys():\n",
        "  print(chave)"
      ],
      "execution_count": null,
      "outputs": [
        {
          "output_type": "stream",
          "text": [
            "dog\n",
            "cat\n",
            "bird\n"
          ],
          "name": "stdout"
        }
      ]
    },
    {
      "cell_type": "code",
      "metadata": {
        "id": "wWxSBlYv1g1K",
        "colab_type": "code",
        "colab": {
          "base_uri": "https://localhost:8080/",
          "height": 119
        },
        "outputId": "3cd057d0-b0a7-4f5a-e077-b0d96753793a"
      },
      "source": [
        "for item in dict.items():\n",
        "  print(item)\n",
        "  print(type(item))"
      ],
      "execution_count": null,
      "outputs": [
        {
          "output_type": "stream",
          "text": [
            "('dog', 'cachoro')\n",
            "<class 'tuple'>\n",
            "('cat', 'gato')\n",
            "<class 'tuple'>\n",
            "('bird', 'ave')\n",
            "<class 'tuple'>\n"
          ],
          "name": "stdout"
        }
      ]
    },
    {
      "cell_type": "code",
      "metadata": {
        "id": "DHfKuqZI19g0",
        "colab_type": "code",
        "colab": {
          "base_uri": "https://localhost:8080/",
          "height": 119
        },
        "outputId": "4b84ded5-2302-4f94-e28f-26ca4028e52f"
      },
      "source": [
        "for chave, valor in dict.items():\n",
        "  print(f'A chave é {chave} e o valor é {valor}')\n",
        "  print(f'E o tipo da chave é {type(chave)} e o tipo do valor é {type(valor)}')"
      ],
      "execution_count": null,
      "outputs": [
        {
          "output_type": "stream",
          "text": [
            "A chave é dog e o valor é cachoro\n",
            "E o tipo da chave é <class 'str'> e o tipo do valor é <class 'str'>\n",
            "A chave é cat e o valor é gato\n",
            "E o tipo da chave é <class 'str'> e o tipo do valor é <class 'str'>\n",
            "A chave é bird e o valor é ave\n",
            "E o tipo da chave é <class 'str'> e o tipo do valor é <class 'str'>\n"
          ],
          "name": "stdout"
        }
      ]
    },
    {
      "cell_type": "markdown",
      "metadata": {
        "id": "f4k7l3TL3OX2",
        "colab_type": "text"
      },
      "source": [
        "### Checando a existência"
      ]
    },
    {
      "cell_type": "code",
      "metadata": {
        "id": "BjcmYhFY3RmS",
        "colab_type": "code",
        "colab": {
          "base_uri": "https://localhost:8080/",
          "height": 68
        },
        "outputId": "3f4da00a-602b-44f7-ca2a-958c351005f4"
      },
      "source": [
        "print(dict)\n",
        "\n",
        "if 'dog' in dict:\n",
        "  print(f\"\\nO {dict['dog']} existe na lista.\")\n",
        "else:\n",
        "  print(\"não existe\")"
      ],
      "execution_count": null,
      "outputs": [
        {
          "output_type": "stream",
          "text": [
            "{'dog': 'cachoro', 'cat': 'gato', 'bird': 'ave'}\n",
            "\n",
            "O cachoro existe sim.\n"
          ],
          "name": "stdout"
        }
      ]
    },
    {
      "cell_type": "markdown",
      "metadata": {
        "id": "WRChSW8v4kxf",
        "colab_type": "text"
      },
      "source": [
        "### Adicionando itens no dicinário"
      ]
    },
    {
      "cell_type": "code",
      "metadata": {
        "id": "vLn3RAAG4Q7y",
        "colab_type": "code",
        "colab": {
          "base_uri": "https://localhost:8080/",
          "height": 51
        },
        "outputId": "b809c620-d9de-46b0-ab93-9cb3eb37901f"
      },
      "source": [
        "dict['monkey'] = 'macaco'\n",
        "\n",
        "if 'monkey' in dict:\n",
        "  print(f\"\\nO {dict['monkey']} existe na lista.\")\n",
        "else:\n",
        "  print(\"\\nnão existe no dicionário.\")"
      ],
      "execution_count": null,
      "outputs": [
        {
          "output_type": "stream",
          "text": [
            "\n",
            "O macaco existe na lista.\n"
          ],
          "name": "stdout"
        }
      ]
    },
    {
      "cell_type": "code",
      "metadata": {
        "id": "nJzs9RoK4uTD",
        "colab_type": "code",
        "colab": {
          "base_uri": "https://localhost:8080/",
          "height": 34
        },
        "outputId": "af4dab80-fb64-4158-b2f6-389be837c4f7"
      },
      "source": [
        "dict['banana'] = 'banana'\n",
        "print(dict)"
      ],
      "execution_count": null,
      "outputs": [
        {
          "output_type": "stream",
          "text": [
            "{'dog': 'cachoro', 'cat': 'gato', 'bird': 'ave', 'banana': 'banana'}\n"
          ],
          "name": "stdout"
        }
      ]
    },
    {
      "cell_type": "markdown",
      "metadata": {
        "id": "Fevw_xpe500v",
        "colab_type": "text"
      },
      "source": [
        "### Removendo um item\n",
        "* **pop**: Remove apenas um item.\n",
        "* **clear**: Remove todos os itens\n"
      ]
    },
    {
      "cell_type": "code",
      "metadata": {
        "id": "E2_643g-5Etv",
        "colab_type": "code",
        "colab": {
          "base_uri": "https://localhost:8080/",
          "height": 34
        },
        "outputId": "bef7004b-b220-4cb8-fcfd-e92ba330dabc"
      },
      "source": [
        "dict.pop('banana')\n",
        "print(dict)"
      ],
      "execution_count": null,
      "outputs": [
        {
          "output_type": "stream",
          "text": [
            "{'dog': 'cachoro', 'cat': 'gato', 'bird': 'ave', 'monkey': 'macaco'}\n"
          ],
          "name": "stdout"
        }
      ]
    },
    {
      "cell_type": "code",
      "metadata": {
        "id": "ZlM81RgH5tuX",
        "colab_type": "code",
        "colab": {}
      },
      "source": [
        "dict"
      ],
      "execution_count": null,
      "outputs": []
    },
    {
      "cell_type": "code",
      "metadata": {
        "id": "L-HKHxJh5clO",
        "colab_type": "code",
        "colab": {
          "base_uri": "https://localhost:8080/",
          "height": 34
        },
        "outputId": "c0f60d7c-99c6-41fd-c015-c6c65ba0d9e9"
      },
      "source": [
        "if 'banana' in dict:\n",
        "  dict.pop('banana')\n",
        "print(dict)"
      ],
      "execution_count": null,
      "outputs": [
        {
          "output_type": "stream",
          "text": [
            "{'dog': 'cachoro', 'cat': 'gato', 'bird': 'ave', 'monkey': 'macaco'}\n"
          ],
          "name": "stdout"
        }
      ]
    },
    {
      "cell_type": "code",
      "metadata": {
        "id": "p4Z7uLvw5mfa",
        "colab_type": "code",
        "colab": {
          "base_uri": "https://localhost:8080/",
          "height": 34
        },
        "outputId": "506313b5-a4cf-457e-be7a-a147956387a9"
      },
      "source": [
        "dict.clear()\n",
        "print(dict)"
      ],
      "execution_count": null,
      "outputs": [
        {
          "output_type": "stream",
          "text": [
            "{}\n"
          ],
          "name": "stdout"
        }
      ]
    },
    {
      "cell_type": "markdown",
      "metadata": {
        "id": "P0L7i6H7KxNb",
        "colab_type": "text"
      },
      "source": [
        "## Estrutura aninhada\n",
        "Estrutura dentro da outra."
      ]
    },
    {
      "cell_type": "markdown",
      "metadata": {
        "id": "BYW4w9YIOyrf",
        "colab_type": "text"
      },
      "source": [
        "### Dicionário aninhado"
      ]
    },
    {
      "cell_type": "code",
      "metadata": {
        "id": "4YHTrxnnKz8S",
        "colab_type": "code",
        "colab": {}
      },
      "source": [
        "# Cada curso --> nome, categoria, instrutor, alunos\n",
        "cursos = {\n",
        "    'solid':{\n",
        "        'nome': 'Aprenda design patterns com solid',\n",
        "        'categoria': 'design patterns',\n",
        "        'instrutor': 'felipe cabrera',\n",
        "        'alunos': 5000\n",
        "            },\n",
        "    'android':{\n",
        "        'nome' : 'android 9.0 : apis nativas e bancos de dados',\n",
        "        'categoria': 'android',\n",
        "        'instrutor': 'alisson bolsoni',\n",
        "        'alunos' : 5000\n",
        "               },\n",
        "    'vscode' : {\n",
        "        'nome': 'vscode: produtividade infinita',\n",
        "        'categoria': 'programação',\n",
        "        'intrutor':'felipe cabrera',\n",
        "        'alunos': 5000\n",
        "              }\n",
        "}"
      ],
      "execution_count": null,
      "outputs": []
    },
    {
      "cell_type": "code",
      "metadata": {
        "id": "Ko5DxenOODdg",
        "colab_type": "code",
        "colab": {
          "base_uri": "https://localhost:8080/",
          "height": 54
        },
        "outputId": "387003b5-7a57-403f-c0fe-500a16fed128"
      },
      "source": [
        "print(cursos)"
      ],
      "execution_count": null,
      "outputs": [
        {
          "output_type": "stream",
          "text": [
            "{'solid': {'nome': 'Aprenda design patterns com solid', 'categoria': 'design patterns', 'instrutor': 'felipe cabrera', 'alunos': 5000}, 'android': {'nome': 'android 9.0 : apis nativas e bancos de dados', 'categoria': 'android', 'instrutor': 'alisson bolsoni', 'alunos': 5000}, 'vscode': {'nome': 'vscode: produtividade infinita', 'categoria': 'programação', 'intrutor': 'felipe cabrera', 'alunos': 5000}}\n"
          ],
          "name": "stdout"
        }
      ]
    },
    {
      "cell_type": "code",
      "metadata": {
        "id": "PsSm93Z4OI7_",
        "colab_type": "code",
        "colab": {
          "base_uri": "https://localhost:8080/",
          "height": 68
        },
        "outputId": "78fb7173-840b-43cc-a84a-7e678a443bd3"
      },
      "source": [
        "for chave in cursos.keys():\n",
        "  print(chave)"
      ],
      "execution_count": null,
      "outputs": [
        {
          "output_type": "stream",
          "text": [
            "solid\n",
            "android\n",
            "vscode\n"
          ],
          "name": "stdout"
        }
      ]
    },
    {
      "cell_type": "code",
      "metadata": {
        "id": "OTM7WiKVOViW",
        "colab_type": "code",
        "colab": {
          "base_uri": "https://localhost:8080/",
          "height": 85
        },
        "outputId": "4f512a0e-cf46-4396-f57d-1d421f220fe9"
      },
      "source": [
        "cursos['solid']"
      ],
      "execution_count": null,
      "outputs": [
        {
          "output_type": "execute_result",
          "data": {
            "text/plain": [
              "{'alunos': 5000,\n",
              " 'categoria': 'design patterns',\n",
              " 'instrutor': 'felipe cabrera',\n",
              " 'nome': 'Aprenda design patterns com solid'}"
            ]
          },
          "metadata": {
            "tags": []
          },
          "execution_count": 37
        }
      ]
    },
    {
      "cell_type": "markdown",
      "metadata": {
        "id": "8gYkeYL8O16G",
        "colab_type": "text"
      },
      "source": [
        "### Lista aninhada"
      ]
    },
    {
      "cell_type": "code",
      "metadata": {
        "id": "ntb-azo5O3Xi",
        "colab_type": "code",
        "colab": {
          "base_uri": "https://localhost:8080/",
          "height": 68
        },
        "outputId": "dcabc29d-e61d-4f57-ea4a-8a7620ea6101"
      },
      "source": [
        "lista = [[0, 1, 2], [1, 2, 3, 4, 5], ['abc', 'def', 'ghi']]\n",
        "print(lista)\n",
        "print(lista[2])\n",
        "print(lista[2][1])"
      ],
      "execution_count": null,
      "outputs": [
        {
          "output_type": "stream",
          "text": [
            "[[0, 1, 2], [1, 2, 3, 4, 5], ['abc', 'def', 'ghi']]\n",
            "['abc', 'def', 'ghi']\n",
            "def\n"
          ],
          "name": "stdout"
        }
      ]
    },
    {
      "cell_type": "markdown",
      "metadata": {
        "id": "zB5n7-4iP_FA",
        "colab_type": "text"
      },
      "source": [
        "### Tuplas Aninhadas"
      ]
    },
    {
      "cell_type": "code",
      "metadata": {
        "id": "x099Vo7SQBH0",
        "colab_type": "code",
        "colab": {
          "base_uri": "https://localhost:8080/",
          "height": 85
        },
        "outputId": "fa1aa616-c07e-4afb-9672-ae0c625cfd3a"
      },
      "source": [
        "tupla = ((0, 1, 2), (1, 2, 3, 4, 5, 6), ('abc','def', 'ghi'))\n",
        "print(tupla)\n",
        "print(tupla[1])\n",
        "print(tupla[1][3])\n",
        "print(tupla[1][3])"
      ],
      "execution_count": null,
      "outputs": [
        {
          "output_type": "stream",
          "text": [
            "((0, 1, 2), (1, 2, 3, 4, 5, 6), ('abc', 'def', 'ghi'))\n",
            "(1, 2, 3, 4, 5, 6)\n",
            "4\n",
            "4\n"
          ],
          "name": "stdout"
        }
      ]
    },
    {
      "cell_type": "markdown",
      "metadata": {
        "id": "EaXmYtwARFKE",
        "colab_type": "text"
      },
      "source": [
        "### Conjunto aninhado\n",
        "Conjuntos matemáticos não são aninhados, não há conjunto de outro e sim subconjuntos. "
      ]
    },
    {
      "cell_type": "code",
      "metadata": {
        "id": "bHy0eQKARSDw",
        "colab_type": "code",
        "colab": {
          "base_uri": "https://localhost:8080/",
          "height": 163
        },
        "outputId": "075ead66-2c82-4e36-db11-c1e7dc3f8748"
      },
      "source": [
        "conjunto = {1, 2, {3, 4}, 5} # não dá para se fazer, de fato, um conjunto aninhado, isos não está na teoria dos conjuntos."
      ],
      "execution_count": null,
      "outputs": [
        {
          "output_type": "error",
          "ename": "TypeError",
          "evalue": "ignored",
          "traceback": [
            "\u001b[0;31m---------------------------------------------------------------------------\u001b[0m",
            "\u001b[0;31mTypeError\u001b[0m                                 Traceback (most recent call last)",
            "\u001b[0;32m<ipython-input-45-de1931cc4802>\u001b[0m in \u001b[0;36m<module>\u001b[0;34m()\u001b[0m\n\u001b[0;32m----> 1\u001b[0;31m \u001b[0mconjunto\u001b[0m \u001b[0;34m=\u001b[0m \u001b[0;34m{\u001b[0m\u001b[0;36m1\u001b[0m\u001b[0;34m,\u001b[0m \u001b[0;36m2\u001b[0m\u001b[0;34m,\u001b[0m \u001b[0;34m{\u001b[0m\u001b[0;36m3\u001b[0m\u001b[0;34m,\u001b[0m \u001b[0;36m4\u001b[0m\u001b[0;34m}\u001b[0m\u001b[0;34m,\u001b[0m \u001b[0;36m5\u001b[0m\u001b[0;34m}\u001b[0m \u001b[0;31m# não dá para se fazer, de fato, um conjunto aninhado, isos não está na teoria dos conjuntos.\u001b[0m\u001b[0;34m\u001b[0m\u001b[0;34m\u001b[0m\u001b[0m\n\u001b[0m",
            "\u001b[0;31mTypeError\u001b[0m: unhashable type: 'set'"
          ]
        }
      ]
    },
    {
      "cell_type": "code",
      "metadata": {
        "id": "ROcjbhDASAAH",
        "colab_type": "code",
        "colab": {}
      },
      "source": [
        "conj = set()\n",
        "conj.add(frozenset((1,2)))\n",
        "conj.add(frozenset([3, 4]))\n",
        "conj.add(frozenset((5, 6)))"
      ],
      "execution_count": null,
      "outputs": []
    },
    {
      "cell_type": "code",
      "metadata": {
        "id": "9tAy8biuSjss",
        "colab_type": "code",
        "colab": {
          "base_uri": "https://localhost:8080/",
          "height": 34
        },
        "outputId": "b44c9756-b744-4b94-ac66-3250b839fdd8"
      },
      "source": [
        "print(conj)"
      ],
      "execution_count": null,
      "outputs": [
        {
          "output_type": "stream",
          "text": [
            "{frozenset({3, 4}), frozenset({5, 6}), frozenset({1, 2})}\n"
          ],
          "name": "stdout"
        }
      ]
    },
    {
      "cell_type": "code",
      "metadata": {
        "id": "2ImMkLOyS2AZ",
        "colab_type": "code",
        "colab": {
          "base_uri": "https://localhost:8080/",
          "height": 68
        },
        "outputId": "f44fd940-40dc-402b-ff6c-53dadd03986e"
      },
      "source": [
        "for i in conj:\n",
        "  print(i)"
      ],
      "execution_count": null,
      "outputs": [
        {
          "output_type": "stream",
          "text": [
            "frozenset({3, 4})\n",
            "frozenset({5, 6})\n",
            "frozenset({1, 2})\n"
          ],
          "name": "stdout"
        }
      ]
    },
    {
      "cell_type": "markdown",
      "metadata": {
        "id": "MFbHJ10fS_mm",
        "colab_type": "text"
      },
      "source": [
        "### Estrutura aninhada entre si"
      ]
    },
    {
      "cell_type": "code",
      "metadata": {
        "id": "yueuK1B-TETP",
        "colab_type": "code",
        "colab": {
          "base_uri": "https://localhost:8080/",
          "height": 34
        },
        "outputId": "22c76500-5e8a-482f-f93a-f9bf074c99d1"
      },
      "source": [
        "super_estrutura = ([1, 2, 3], {'chave':'valor'}, (2, 3, 4), [[5, 6, 7], {'chave':(2, 3)}])\n",
        "print(super_estrutura)"
      ],
      "execution_count": null,
      "outputs": [
        {
          "output_type": "stream",
          "text": [
            "([1, 2, 3], {'chave': 'valor'}, (2, 3, 4), [[5, 6, 7], {'chave': (2, 3)}])\n"
          ],
          "name": "stdout"
        }
      ]
    }
  ]
}