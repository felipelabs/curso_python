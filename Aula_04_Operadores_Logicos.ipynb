{
  "nbformat": 4,
  "nbformat_minor": 0,
  "metadata": {
    "colab": {
      "name": "Aula 04 - Operadores Logicos.ipynb",
      "provenance": [],
      "collapsed_sections": [],
      "authorship_tag": "ABX9TyO1EyHel+PZjLZ7zVHvJGSC",
      "include_colab_link": true
    },
    "kernelspec": {
      "name": "python3",
      "display_name": "Python 3"
    }
  },
  "cells": [
    {
      "cell_type": "markdown",
      "metadata": {
        "id": "view-in-github",
        "colab_type": "text"
      },
      "source": [
        "<a href=\"https://colab.research.google.com/github/felipelabs/curso_python/blob/master/Aula_04_Operadores_Logicos.ipynb\" target=\"_parent\"><img src=\"https://colab.research.google.com/assets/colab-badge.svg\" alt=\"Open In Colab\"/></a>"
      ]
    },
    {
      "cell_type": "markdown",
      "metadata": {
        "id": "iZlHgvNTxoyL",
        "colab_type": "text"
      },
      "source": [
        "# Tipo booleano de dado\n",
        "\n",
        "\"Na computaçã tudo é zero ou um\" - qualquer sobre computação\n",
        "\n",
        "Tipo de dado mais simples é o booleano -- > Tipo lógico.\n",
        "\n",
        "Booleno aceita apenas dois valores (True/False)(1/0)(Sim/Não).\n",
        "\n",
        "Em eletronica usamos lâmpadas --> Acesa(True/1/Sim) Apagada(False/0/Não)."
      ]
    },
    {
      "cell_type": "code",
      "metadata": {
        "id": "L73hDpCkxjgO",
        "colab_type": "code",
        "colab": {
          "base_uri": "https://localhost:8080/",
          "height": 34
        },
        "outputId": "ac956ea8-89b0-40ac-c98e-bc9364b55658"
      },
      "source": [
        "boolean = True\n",
        "print(type(boolean))"
      ],
      "execution_count": null,
      "outputs": [
        {
          "output_type": "stream",
          "text": [
            "<class 'bool'>\n"
          ],
          "name": "stdout"
        }
      ]
    },
    {
      "cell_type": "code",
      "metadata": {
        "id": "Nv_MAaL7zEwg",
        "colab_type": "code",
        "colab": {
          "base_uri": "https://localhost:8080/",
          "height": 34
        },
        "outputId": "817ff357-836a-46da-dace-54b2cba8d64d"
      },
      "source": [
        "boolean = False\n",
        "print(type(boolean))"
      ],
      "execution_count": null,
      "outputs": [
        {
          "output_type": "stream",
          "text": [
            "<class 'bool'>\n"
          ],
          "name": "stdout"
        }
      ]
    },
    {
      "cell_type": "code",
      "metadata": {
        "id": "HfifBph_zXtH",
        "colab_type": "code",
        "colab": {
          "base_uri": "https://localhost:8080/",
          "height": 34
        },
        "outputId": "83b15b84-0e69-490f-f6e2-61e677338f02"
      },
      "source": [
        "boolean = True\n",
        "boolean = 0 # no python booleano é somente True ou False.\n",
        "print(type(boolean))"
      ],
      "execution_count": null,
      "outputs": [
        {
          "output_type": "stream",
          "text": [
            "<class 'int'>\n"
          ],
          "name": "stdout"
        }
      ]
    },
    {
      "cell_type": "code",
      "metadata": {
        "id": "Yca35nDkziJr",
        "colab_type": "code",
        "colab": {
          "base_uri": "https://localhost:8080/",
          "height": 34
        },
        "outputId": "bf985f6e-b168-4ec7-8af0-c28af956a27c"
      },
      "source": [
        "bool(0)"
      ],
      "execution_count": null,
      "outputs": [
        {
          "output_type": "execute_result",
          "data": {
            "text/plain": [
              "False"
            ]
          },
          "metadata": {
            "tags": []
          },
          "execution_count": 5
        }
      ]
    },
    {
      "cell_type": "code",
      "metadata": {
        "id": "iXBZLyrjzkXA",
        "colab_type": "code",
        "colab": {
          "base_uri": "https://localhost:8080/",
          "height": 34
        },
        "outputId": "d82ba1d0-ccb7-451a-b7cf-a974da5bedd9"
      },
      "source": [
        "bool(1)"
      ],
      "execution_count": null,
      "outputs": [
        {
          "output_type": "execute_result",
          "data": {
            "text/plain": [
              "True"
            ]
          },
          "metadata": {
            "tags": []
          },
          "execution_count": 6
        }
      ]
    },
    {
      "cell_type": "markdown",
      "metadata": {
        "id": "Ju-koR-_9f1g",
        "colab_type": "text"
      },
      "source": [
        "# If e Else\n",
        "\n",
        "O if é uma estrutura de condição --> Avalia uma condição ou expressão é verdadeira.\n",
        "\n",
        "Se for verdadeira ele executa aquela operação dele.\n",
        "\n",
        "Caso não for, ele executa a do **Else** (caso exista)."
      ]
    },
    {
      "cell_type": "code",
      "metadata": {
        "id": "jg2ZUpAM-CGZ",
        "colab_type": "code",
        "colab": {
          "base_uri": "https://localhost:8080/",
          "height": 34
        },
        "outputId": "928d5ac9-12ef-49f7-a20f-1ce9d52497bd"
      },
      "source": [
        "logica = True\n",
        "\n",
        "if True: # não estamos trabalhando com a variável\n",
        "  print(\"A logica é verdadeira\")"
      ],
      "execution_count": null,
      "outputs": [
        {
          "output_type": "stream",
          "text": [
            "A logica é verdadeira\n"
          ],
          "name": "stdout"
        }
      ]
    },
    {
      "cell_type": "code",
      "metadata": {
        "id": "WXBVdwPZ-MGP",
        "colab_type": "code",
        "colab": {
          "base_uri": "https://localhost:8080/",
          "height": 34
        },
        "outputId": "63d3dfdf-a27f-44df-a4ec-aec35daf480b"
      },
      "source": [
        "logica = False\n",
        "\n",
        "if True: # não estamos trabalhando com a variável\n",
        "  print(\"A logica é verdadeira\")"
      ],
      "execution_count": null,
      "outputs": [
        {
          "output_type": "stream",
          "text": [
            "A logica é verdadeira\n"
          ],
          "name": "stdout"
        }
      ]
    },
    {
      "cell_type": "markdown",
      "metadata": {
        "id": "A7A6YF_e-gKU",
        "colab_type": "text"
      },
      "source": [
        "Devemos sempre colocar a condição do If sendo a variavel ou uma expressão que queremos garantir a veracidade."
      ]
    },
    {
      "cell_type": "code",
      "metadata": {
        "id": "C-7M26N_-sXm",
        "colab_type": "code",
        "colab": {}
      },
      "source": [
        "logica = False\n",
        "\n",
        "if logica: # Agora estamos trabalhando com a variável\n",
        "  print(\"A logica é verdadeira\")"
      ],
      "execution_count": null,
      "outputs": []
    },
    {
      "cell_type": "code",
      "metadata": {
        "id": "iSKFXKmU-vPu",
        "colab_type": "code",
        "colab": {
          "base_uri": "https://localhost:8080/",
          "height": 34
        },
        "outputId": "6cf3fa89-71fe-4cc0-8693-5dc071ee42b5"
      },
      "source": [
        "logica = True\n",
        "\n",
        "if logica: # Agora estamos trabalhando com a variável\n",
        "  print(\"A logica é verdadeira\")"
      ],
      "execution_count": null,
      "outputs": [
        {
          "output_type": "stream",
          "text": [
            "A logica é verdadeira\n"
          ],
          "name": "stdout"
        }
      ]
    },
    {
      "cell_type": "markdown",
      "metadata": {
        "id": "dmLG_M6V_IEW",
        "colab_type": "text"
      },
      "source": [
        "Agora com **Else**."
      ]
    },
    {
      "cell_type": "code",
      "metadata": {
        "id": "L9KUDNzx_K6p",
        "colab_type": "code",
        "colab": {
          "base_uri": "https://localhost:8080/",
          "height": 34
        },
        "outputId": "788e63a7-5696-4d31-eb55-b86cda626aba"
      },
      "source": [
        "logica = True\n",
        "\n",
        "if logica:\n",
        "  print(\"Verdade\")\n",
        "else:\n",
        "  print(\"Mentira\")"
      ],
      "execution_count": null,
      "outputs": [
        {
          "output_type": "stream",
          "text": [
            "Verdade\n"
          ],
          "name": "stdout"
        }
      ]
    },
    {
      "cell_type": "code",
      "metadata": {
        "id": "xT4rCppK_VOc",
        "colab_type": "code",
        "colab": {
          "base_uri": "https://localhost:8080/",
          "height": 34
        },
        "outputId": "6fe448fe-0eb7-4d33-9887-b9ceb87c69b5"
      },
      "source": [
        "logica = False\n",
        "\n",
        "if logica:\n",
        "  print(\"Verdade\")\n",
        "else:\n",
        "  print(\"Mentira\")"
      ],
      "execution_count": null,
      "outputs": [
        {
          "output_type": "stream",
          "text": [
            "Mentira\n"
          ],
          "name": "stdout"
        }
      ]
    },
    {
      "cell_type": "markdown",
      "metadata": {
        "id": "_YEFAiBC_ema",
        "colab_type": "text"
      },
      "source": [
        "**Cuidado** --> As operações do If/Else devem estar dentro do escopo."
      ]
    },
    {
      "cell_type": "markdown",
      "metadata": {
        "id": "jTYe2CBIuUas",
        "colab_type": "text"
      },
      "source": [
        "## If e Else para diferente de True/False (Booleanos)"
      ]
    },
    {
      "cell_type": "code",
      "metadata": {
        "id": "WJoc6t_duULx",
        "colab_type": "code",
        "colab": {
          "base_uri": "https://localhost:8080/",
          "height": 85
        },
        "outputId": "e47f4342-0d53-4815-9d4b-7673313fc7f7"
      },
      "source": [
        "def main():\n",
        "  primeira_nota = int(input(\"Digite a primeira nota:\"))\n",
        "  segunda_nota = int(input(\"Digite a segunda nota:\"))\n",
        "\n",
        "  # Sendo a media da escola 6.\n",
        "  # Para passar de ano tem que ter uma media maior ou igual a 6.\n",
        "\n",
        "  media = (primeira_nota + segunda_nota) / 2\n",
        "  print(f'Sua media é {media}.')\n",
        "  if media >= 6:\n",
        "    print(\"Você passou de ano!!!\")\n",
        "  else:\n",
        "    print(\"Você não passou de ano!!!\")\n",
        "main()"
      ],
      "execution_count": null,
      "outputs": [
        {
          "output_type": "stream",
          "text": [
            "Digite a primeira nota:8\n",
            "Digite a segunda nota:8\n",
            "Sua media é 8.0.\n",
            "Você passou de ano!!!\n"
          ],
          "name": "stdout"
        }
      ]
    },
    {
      "cell_type": "markdown",
      "metadata": {
        "id": "segtdbIUyFem",
        "colab_type": "text"
      },
      "source": [
        "## Desafio 4.1 Numero magico\n",
        "\n",
        "Um magico pediu para alguem da plateia pensar em um numero de 1 a 5.\n",
        "Você escolhe (define) o numero.\n",
        "\n",
        "Você pedirá para o magico escolher o numero que você pensou (receber input).\n",
        "\n",
        "Se o valor do magico for menor que o seu você pedirá para ele aumentar o numero.\n",
        "\n",
        "Se o valor do magigo for maior que o seu você pedira para ele abaixar o numero.\n",
        "\n",
        "Se o valor do magico for igual o seu você irá dizer ao magico que ele acertou o numero. "
      ]
    },
    {
      "cell_type": "code",
      "metadata": {
        "id": "IEHizyPFywdb",
        "colab_type": "code",
        "colab": {
          "base_uri": "https://localhost:8080/",
          "height": 68
        },
        "outputId": "127a5839-35b0-466d-e7d2-a7707223915f"
      },
      "source": [
        "# Resolução 4.1\n",
        "\n",
        "def magico():\n",
        "  meu_numero = int(input(\"Digite um numero entre 1 e 5:\"))\n",
        "  magico = int(input(\"Tente adivinhar um numero entre 1 e 5:\"))\n",
        "\n",
        "  if meu_numero > magico:\n",
        "    print(\"Meu numero é maior.\")  \n",
        "  elif meu_numero < magico:\n",
        "    print(\"Meu numero é menor.\")\n",
        "  else:\n",
        "    print(\"Você acertou magico.\")\n",
        " \n",
        "magico()"
      ],
      "execution_count": null,
      "outputs": [
        {
          "output_type": "stream",
          "text": [
            "Digite um numero entre 1 e 5:3\n",
            "Tente adivinhar um numero entre 1 e 5:3\n",
            "Você acertou magico.\n"
          ],
          "name": "stdout"
        }
      ]
    },
    {
      "cell_type": "markdown",
      "metadata": {
        "id": "LQw5mrBp15Za",
        "colab_type": "text"
      },
      "source": [
        "## Checagens (Operadores Lógicos)\n",
        "\n",
        "**>** : Maior que\n",
        "\n",
        "**<** : Menor que\n",
        "\n",
        "**>=** : Maior ou igual a\n",
        "\n",
        "**<=** : Menor  ou igual a\n",
        "\n",
        "**==** : Igual a\n",
        "\n",
        "**!=** : Diferente de "
      ]
    },
    {
      "cell_type": "code",
      "metadata": {
        "id": "KtMNkyzu4XSM",
        "colab_type": "code",
        "colab": {
          "base_uri": "https://localhost:8080/",
          "height": 34
        },
        "outputId": "2f376059-3b47-4fa0-bc30-668000613baa"
      },
      "source": [
        "def main():\n",
        "  numero1 = 4\n",
        "  numero2 = 4\n",
        "\n",
        "  if numero1 != numero2:\n",
        "    print(True)\n",
        "  else:\n",
        "    print(False)\n",
        "\n",
        "main()"
      ],
      "execution_count": null,
      "outputs": [
        {
          "output_type": "stream",
          "text": [
            "False\n"
          ],
          "name": "stdout"
        }
      ]
    },
    {
      "cell_type": "markdown",
      "metadata": {
        "id": "eJqLPhbt4oHN",
        "colab_type": "text"
      },
      "source": [
        "Apenas **uma** execução pode ser feita por bloco de condição(apenas o primeiro if verdadeiro)."
      ]
    },
    {
      "cell_type": "code",
      "metadata": {
        "id": "0Qn9sX_I4nsA",
        "colab_type": "code",
        "colab": {
          "base_uri": "https://localhost:8080/",
          "height": 34
        },
        "outputId": "46212642-b095-4bf5-ecd8-3c22b6407c0b"
      },
      "source": [
        "def main():\n",
        "  char = 'a'\n",
        "  char2 = 'c'\n",
        "\n",
        "  if char == 'a':\n",
        "    print(\"felipe\")\n",
        "  elif char2 == 'c':\n",
        "    print('neves')\n",
        "  else:\n",
        "    print('python')\n",
        "main()"
      ],
      "execution_count": null,
      "outputs": [
        {
          "output_type": "stream",
          "text": [
            "felipe\n"
          ],
          "name": "stdout"
        }
      ]
    },
    {
      "cell_type": "markdown",
      "metadata": {
        "id": "SV6NC3ptEcYF",
        "colab_type": "text"
      },
      "source": [
        "Para que mais uma condição seja verdade usamos **and**.\n",
        "\n",
        "Para que pelo menos uma condição seja verdadeira usamo o **or** ."
      ]
    },
    {
      "cell_type": "code",
      "metadata": {
        "id": "1kyCT4IOEhSB",
        "colab_type": "code",
        "colab": {
          "base_uri": "https://localhost:8080/",
          "height": 34
        },
        "outputId": "88b8c044-5fb5-42c1-b145-27b0199e98ec"
      },
      "source": [
        "def main():\n",
        "  char = 'f'\n",
        "  char2 = 'n'\n",
        "\n",
        "  if (char == 'f') and (char2 == 'n'):\n",
        "    print(\"felipe neves\")\n",
        "  elif char2 == 'n':\n",
        "    print('neves')\n",
        "  else:\n",
        "    print('python')\n",
        "main()"
      ],
      "execution_count": null,
      "outputs": [
        {
          "output_type": "stream",
          "text": [
            "felipe neves\n"
          ],
          "name": "stdout"
        }
      ]
    },
    {
      "cell_type": "code",
      "metadata": {
        "id": "XxUxBGnQE6pc",
        "colab_type": "code",
        "colab": {
          "base_uri": "https://localhost:8080/",
          "height": 34
        },
        "outputId": "658a032a-b1e8-49a9-91e8-5602325862db"
      },
      "source": [
        "def main():\n",
        "  numero1 = 2\n",
        "  numero2 = 3\n",
        "  numero3 = 5\n",
        "\n",
        "  numero_escolhido = 3\n",
        "\n",
        "  if (numero1 ==3) or (numero2 == 3) or (numero3 == 3):\n",
        "    print(\"Você acertou.\")\n",
        "  else:\n",
        "    print(\"Você errou.\")\n",
        "\n",
        "main()"
      ],
      "execution_count": null,
      "outputs": [
        {
          "output_type": "stream",
          "text": [
            "Você acertou.\n"
          ],
          "name": "stdout"
        }
      ]
    }
  ]
}